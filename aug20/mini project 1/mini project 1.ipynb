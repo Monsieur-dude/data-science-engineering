{
 "cells": [
  {
   "cell_type": "code",
   "execution_count": 49,
   "id": "2ab1febd",
   "metadata": {},
   "outputs": [],
   "source": [
    "# https://www.melon.com/chart/index.htm\n",
    "# https://music.bugs.co.kr/chart\n",
    "# https://www.genie.co.kr/chart/top200\n",
    "\n",
    "import requests\n",
    "from bs4 import BeautifulSoup"
   ]
  },
  {
   "cell_type": "code",
   "execution_count": 180,
   "id": "a92044ec",
   "metadata": {},
   "outputs": [
    {
     "data": {
      "text/plain": [
       "''"
      ]
     },
     "execution_count": 180,
     "metadata": {},
     "output_type": "execute_result"
    }
   ],
   "source": [
    "# https://www.melon.com/chart/index.htm\n",
    "\n",
    "# 순위\n",
    "# <div class=\"wrap t_center\"><span class=\"rank \">1</span><span class=\"none\">위</span></div>\n",
    "\n",
    "# 노래제목\n",
    "# <a href=\"javascript:melon.play.playSong('1000002721',33480898);\" title=\"신호등 재생\">신호등</a>\n",
    "\n",
    "# 가수이름\n",
    "\n",
    "# <a href=\"javascript:melon.link.goArtistDetail('2138620');\" title=\"이무진 - 페이지 이동\">이무진</a>\n",
    "\n",
    "\n",
    "url = \"https://www.melon.com/chart/index.htm\"\n",
    "res = requests.get(url).text\n",
    "res"
   ]
  },
  {
   "cell_type": "code",
   "execution_count": 234,
   "id": "e7d170fe",
   "metadata": {},
   "outputs": [],
   "source": [
    "# https://music.bugs.co.kr/chart\n",
    "\n",
    "url = \"https://music.bugs.co.kr/chart\"\n",
    "res = requests.get(url).text\n",
    "soup = BeautifulSoup(res, \"lxml\")\n",
    "\n",
    "rankings = soup.find_all(\"div\", attrs={\"class\":\"ranking\"})\n",
    "titles = soup.find_all(\"p\", attrs={\"class\":\"title\"})\n",
    "artists = soup.find_all(\"p\", attrs={\"class\":\"artist\"})\n",
    "\n",
    "for i in range(len(rankings)) :\n",
    "    ranking = rankings[i].find(\"strong\").get_text()\n",
    "    title = titles[i].find(\"a\").get_text()\n",
    "    artist = artists[i].find(\"a\").get_text()    "
   ]
  },
  {
   "cell_type": "code",
   "execution_count": 254,
   "id": "3b5bdce3",
   "metadata": {},
   "outputs": [],
   "source": [
    "# https://www.genie.co.kr/chart/top200\n",
    "headers = {'User-Agent':\"Mozilla/5.0 (Macintosh; Intel Mac OS X 10_15_7) AppleWebKit/605.1.15 (KHTML, like Gecko) Version/14.1.1 Safari/605.1.15\"}\n",
    "url = \"https://www.genie.co.kr/chart/top200\"\n",
    "res = requests.get(url, headers=headers).text\n",
    "soup = BeautifulSoup(res, \"lxml\")\n",
    "\n",
    "rankings = soup.find_all(\"td\", attrs={\"class\":\"number\"})\n",
    "# <td class=\"number\">1\n",
    "# <a href=\"#\" class=\"artist ellipsis\" onclick=\"fnViewArtist('80632742');return false;\">이무진</a>\n",
    "# <a href=\"#\" class=\"albumtitle ellipsis\" onclick=\"fnViewAlbumLayer('82045022');return false;\">신호등</a>\n"
   ]
  },
  {
   "cell_type": "code",
   "execution_count": 306,
   "id": "c643bfdc",
   "metadata": {},
   "outputs": [
    {
     "data": {
      "text/plain": [
       "<tr class=\"list\" songid=\"93300145\">\n",
       "<td class=\"check\"><input class=\"select-check\" title=\"신호등\" type=\"checkbox\"/></td>\n",
       "<td class=\"number\">1\n",
       "                                        \n",
       "                                    <span class=\"rank\">\n",
       "<span class=\"rank\"><span class=\"rank-none\"><span class=\"hide\">유지</span></span></span>\n",
       "</span>\n",
       "</td>\n",
       "<td><a class=\"cover\" href=\"#\" onclick=\"fnViewAlbumLayer('82045022');return false;\"><span class=\"mask\"></span><img alt=\"신호등\" onerror=\"this.src='//image.genie.co.kr/imageg/web/common/blank_68.gif';\" src=\"//image.genie.co.kr/Y/IMAGE/IMG_ALBUM/082/045/022/82045022_1620896061233_1_140x140.JPG/dims/resize/Q_80,0\"/></a></td>\n",
       "<td class=\"link\"><a class=\"btn-basic btn-info\" href=\"#\" onclick=\"fnViewSongInfo('93300145');return false;\">곡 제목 정보 페이지</a></td>\n",
       "<td class=\"info\">\n",
       "<a class=\"title ellipsis\" href=\"#\" onclick=\"fnPlaySong('93300145','1');return false;\" title=\"재생\">\n",
       "                                        \n",
       "                                            \n",
       "                                        \n",
       "                                        \n",
       "                                        \n",
       "                                        \n",
       "                                            \n",
       "                                                신호등</a>\n",
       "<a class=\"artist ellipsis\" href=\"#\" onclick=\"fnViewArtist('80632742');return false;\">이무진</a>\n",
       "<div class=\"toggle-button-box\">\n",
       "<button class=\"btn artist-etc\" onclick=\"fnRelationArtistList('93300145');\" type=\"button\">외</button>\n",
       "<ul class=\"list\" id=\"RelationArtist_93300145\"></ul>\n",
       "</div>\n",
       "<i class=\"bar\">|</i>\n",
       "<a class=\"albumtitle ellipsis\" href=\"#\" onclick=\"fnViewAlbumLayer('82045022');return false;\">신호등</a>\n",
       "</td>\n",
       "<td class=\"btns\"><a class=\"btn-basic btn-listen\" href=\"#\" onclick=\"fnPlaySong('93300145;' ,'1'); return false;\" title=\"재생\">듣기</a></td>\n",
       "<td class=\"btns\"><a class=\"btn-basic btn-add\" href=\"#\" onclick=\"fnPlaySong('93300145;' ,'3'); return false;\" title=\"추가\">재생목록에 추가</a></td>\n",
       "<td class=\"btns\"><button class=\"btn-basic btn-album\" id=\"add_my_album_93300145\" onclick=\"fnAddMyAlbumForm('#add_my_album_93300145' , '93300145' ,10, 10);return false;\" songid=\"93300145\" type=\"button\">플레이리스트에 담기</button></td>\n",
       "<td class=\"btns\"><a class=\"btn-basic btn-down\" href=\"#\" onclick=\"fnDownSong('93300145');return false;\" title=\"다운\">다운로드</a></td>\n",
       "<td class=\"btns\">\n",
       "<div class=\"toggle-button-box lyr-mv\" id=\"list-mv_93300145\">\n",
       "<a alt=\"신호등\" class=\"btn btn-basic btn-mv\" href=\"#\" onclick=\"fnPlayMv('93300145','3'); return false;\" title=\"뮤비\">뮤직비디오 보기</a>\n",
       "</div>\n",
       "</td>\n",
       "<td class=\"more\">\n",
       "<div class=\"toggle-button-box\">\n",
       "<button class=\"btn btn-basic btn-more\" type=\"button\">더보기</button>\n",
       "<ul class=\"list\">\n",
       "<li><a class=\"item\" href=\"#\" onclick=\"shareDo('93300145');return false;\" title=\"공유\">공유하기/음악나누기</a></li>\n",
       "<li><a class=\"item\" href=\"#\" onclick=\"fnGiftSong('93300145');return false;\" title=\"선물\">선물하기</a></li>\n",
       "</ul>\n",
       "</div>\n",
       "</td>\n",
       "</tr>"
      ]
     },
     "execution_count": 306,
     "metadata": {},
     "output_type": "execute_result"
    }
   ],
   "source": [
    "soup.find(\"tr\", attrs={\"class\":\"list\"})"
   ]
  },
  {
   "cell_type": "code",
   "execution_count": 310,
   "id": "23352efa",
   "metadata": {},
   "outputs": [],
   "source": []
  },
  {
   "cell_type": "code",
   "execution_count": null,
   "id": "55501b1e",
   "metadata": {},
   "outputs": [],
   "source": []
  },
  {
   "cell_type": "code",
   "execution_count": null,
   "id": "a94f25a4",
   "metadata": {},
   "outputs": [],
   "source": []
  },
  {
   "cell_type": "code",
   "execution_count": null,
   "id": "d6c23b8d",
   "metadata": {},
   "outputs": [],
   "source": []
  }
 ],
 "metadata": {
  "kernelspec": {
   "display_name": "Python 3",
   "language": "python",
   "name": "python3"
  },
  "language_info": {
   "codemirror_mode": {
    "name": "ipython",
    "version": 3
   },
   "file_extension": ".py",
   "mimetype": "text/x-python",
   "name": "python",
   "nbconvert_exporter": "python",
   "pygments_lexer": "ipython3",
   "version": "3.7.5"
  }
 },
 "nbformat": 4,
 "nbformat_minor": 5
}
