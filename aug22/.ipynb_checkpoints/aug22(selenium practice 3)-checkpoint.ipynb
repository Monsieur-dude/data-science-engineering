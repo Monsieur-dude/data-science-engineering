{
 "cells": [
  {
   "cell_type": "code",
   "execution_count": 1,
   "id": "860c3974",
   "metadata": {},
   "outputs": [],
   "source": [
    "# BeautifulSoup 으로 구글 무비 페이지 정보 가져오기\n",
    "# 동적 웹크롤링이 불가능\n",
    "\n",
    "import requests\n",
    "from bs4 import BeautifulSoup\n",
    "\n",
    "url = \"https://play.google.com/store/movies/top\"\n",
    "headers = {'User-Agent':\"Mozilla/5.0 (Macintosh; Intel Mac OS X 10_15_7) AppleWebKit/605.1.15 (KHTML, like Gecko) Version/14.1.1 Safari/605.1.15\", \n",
    "          \"Accept-Language\":\"ko-KR,ko\"}\n",
    "\n",
    "res = requests.get(url, headers=headers)\n",
    "res.raise_for_status()\n",
    "\n",
    "soup = BeautifulSoup(res.text, \"lxml\")\n"
   ]
  },
  {
   "cell_type": "code",
   "execution_count": 2,
   "id": "c5426854",
   "metadata": {},
   "outputs": [],
   "source": [
    "# 따라서 selenium 으로 동적 웹크롤링을 실행\n",
    "\n",
    "from selenium import webdriver\n",
    "\n",
    "browser = webdriver.Chrome()\n",
    "browser.get(url)\n",
    "browser.maximize_window()"
   ]
  },
  {
   "cell_type": "code",
   "execution_count": 3,
   "id": "aac48758",
   "metadata": {},
   "outputs": [
    {
     "name": "stdout",
     "output_type": "stream",
     "text": [
      "Scrolling to the bottom is completed\n"
     ]
    }
   ],
   "source": [
    "# 해당 페이지를 맨 아랫쪽까지 스크롤\n",
    "\n",
    "import time\n",
    "interval = 2\n",
    "previous_height = browser.execute_script(\"return document.body.scrollHeight\")\n",
    "\n",
    "while True :\n",
    "        browser.execute_script(\"window.scrollTo(0, document.body.scrollHeight)\")\n",
    "        time.sleep(interval)\n",
    "        \n",
    "        current_height = browser.execute_script(\"return document.body.scrollHeight\")\n",
    "        if current_height == previous_height :\n",
    "            break\n",
    "        else : \n",
    "            previous_height = current_height\n",
    "print(\"Scrolling to the bottom is completed\")"
   ]
  },
  {
   "cell_type": "code",
   "execution_count": 4,
   "id": "51dc7eab",
   "metadata": {},
   "outputs": [
    {
     "data": {
      "text/plain": [
       "True"
      ]
     },
     "execution_count": 4,
     "metadata": {},
     "output_type": "execute_result"
    }
   ],
   "source": [
    "# 현재 페이지를 스크린샷 하기\n",
    "browser.get_screenshot_as_file(\"google_movie.png\")"
   ]
  },
  {
   "cell_type": "code",
   "execution_count": 5,
   "id": "2e0ea871",
   "metadata": {},
   "outputs": [
    {
     "name": "stdout",
     "output_type": "stream",
     "text": [
      "Title: A Quiet Place Part II\n",
      "Original Price: ₩10,000\n",
      "Discount price: ₩5,000\n",
      "Link:  https://play.google.com/store/movies/details/A_Quiet_Place_Part_II?id=aDcBkk_fwLQ.P\n",
      "============================================================================================\n",
      "Title: 캐시트럭\n",
      "Original Price: ₩7,000\n",
      "Discount price: ₩5,000\n",
      "Link:  https://play.google.com/store/movies/details/%EC%BA%90%EC%8B%9C%ED%8A%B8%EB%9F%AD?id=g4EFCqXUBAk.P\n",
      "============================================================================================\n",
      "Title: The Conjuring: The Devil Made Me Do It\n",
      "Original Price: ₩11,000\n",
      "Discount price: ₩5,000\n",
      "Link:  https://play.google.com/store/movies/details/The_Conjuring_The_Devil_Made_Me_Do_It?id=jhaUnwBzVBM.P\n",
      "============================================================================================\n",
      "Title: 발신제한\n",
      "Original Price: ₩11,000\n",
      "Discount price: ₩7,700\n",
      "Link:  https://play.google.com/store/movies/details/%EB%B0%9C%EC%8B%A0%EC%A0%9C%ED%95%9C?id=V2mLsH1DXjE.P\n",
      "============================================================================================\n",
      "Title: Raya and the Last Dragon\n",
      "Original Price: ₩4,400\n",
      "Discount price: ₩2,750\n",
      "Link:  https://play.google.com/store/movies/details/Raya_and_the_Last_Dragon?id=mOj6B2R2qfo.P\n",
      "============================================================================================\n",
      "Title: 해리포터 시리즈 완결 패키지\n",
      "Original Price: ₩36,000\n",
      "Discount price: ₩18,900\n",
      "Link:  https://play.google.com/store/movies/details/%ED%95%B4%EB%A6%AC%ED%8F%AC%ED%84%B0_%EC%8B%9C%EB%A6%AC%EC%A6%88_%EC%99%84%EA%B2%B0_%ED%8C%A8%ED%82%A4%EC%A7%80?id=DsVgRu5dDdY\n",
      "============================================================================================\n",
      "Title: Tom & Jerry\n",
      "Original Price: ₩5,000\n",
      "Discount price: ₩2,500\n",
      "Link:  https://play.google.com/store/movies/details/Tom_Jerry?id=IiWoGlyGtlk.P\n",
      "============================================================================================\n",
      "Title: In The Heights\n",
      "Original Price: ₩14,900\n",
      "Discount price: ₩9,900\n",
      "Link:  https://play.google.com/store/movies/details/In_The_Heights?id=x-MecAl_8JI.P\n",
      "============================================================================================\n",
      "Title: Zack Snyder's Justice League\n",
      "Original Price: ₩5,000\n",
      "Discount price: ₩2,500\n",
      "Link:  https://play.google.com/store/movies/details/Zack_Snyder_s_Justice_League?id=4gNcmIQdAb4.P\n",
      "============================================================================================\n",
      "Title: 체르노빌1986\n",
      "Original Price: ₩10,000\n",
      "Discount price: ₩7,000\n",
      "Link:  https://play.google.com/store/movies/details/%EC%B2%B4%EB%A5%B4%EB%85%B8%EB%B9%8C1986?id=p8kzo5rwOH4.P\n",
      "============================================================================================\n",
      "Title: 1917\n",
      "Original Price: ₩2,500\n",
      "Discount price: ₩1,000\n",
      "Link:  https://play.google.com/store/movies/details/1917?id=hwM8em318sg.P\n",
      "============================================================================================\n",
      "Title: 리스타트\n",
      "Original Price: ₩4,000\n",
      "Discount price: ₩2,500\n",
      "Link:  https://play.google.com/store/movies/details/%EB%A6%AC%EC%8A%A4%ED%83%80%ED%8A%B8?id=1g8Tj70PAdA.P\n",
      "============================================================================================\n",
      "Title: 흩어진 밤\n",
      "Original Price: ₩10,000\n",
      "Discount price: ₩4,000\n",
      "Link:  https://play.google.com/store/movies/details/%ED%9D%A9%EC%96%B4%EC%A7%84_%EB%B0%A4?id=RhADWqNgIV4.P\n",
      "============================================================================================\n",
      "Title: 슈퍼딥\n",
      "Original Price: ₩10,000\n",
      "Discount price: ₩7,000\n",
      "Link:  https://play.google.com/store/movies/details/%EC%8A%88%ED%8D%BC%EB%94%A5?id=427oUED2GWc.P\n",
      "============================================================================================\n",
      "Title: 라이더스 오브 저스티스\n",
      "Original Price: ₩7,000\n",
      "Discount price: ₩5,000\n",
      "Link:  https://play.google.com/store/movies/details/%EB%9D%BC%EC%9D%B4%EB%8D%94%EC%8A%A4_%EC%98%A4%EB%B8%8C_%EC%A0%80%EC%8A%A4%ED%8B%B0%EC%8A%A4?id=Kq5hvBpcYA8.P\n",
      "============================================================================================\n",
      "Title: 더 스파이\n",
      "Original Price: ₩7,000\n",
      "Discount price: ₩4,500\n",
      "Link:  https://play.google.com/store/movies/details/%EB%8D%94_%EC%8A%A4%ED%8C%8C%EC%9D%B4?id=rD0h6sSPMNA.P\n",
      "============================================================================================\n",
      "Title: CCTV\n",
      "Original Price: ₩10,000\n",
      "Discount price: ₩7,000\n",
      "Link:  https://play.google.com/store/movies/details/CCTV?id=YDXIoIAUL2I.P\n",
      "============================================================================================\n"
     ]
    }
   ],
   "source": [
    "# webdriver 로 접속한 구글 무비 페이지의 정보를 가져오기\n",
    "\n",
    "soup = BeautifulSoup(browser.page_source, \"lxml\") \n",
    "movies = soup.find_all(\"div\", attrs={\"class\":\"Vpfmgd\"})\n",
    "\n",
    "\n",
    "for movie in movies :\n",
    "    title = movie.find(\"div\", attrs={\"class\":\"WsMG1c nnK0zc\"}).get_text()\n",
    "    original_price = movie.find(\"span\", attrs={\"class\":\"SUZt4c djCuy\"})\n",
    "    if original_price :\n",
    "        original_price = original_price.get_text()\n",
    "    else :\n",
    "        continue\n",
    "    \n",
    "    # 할인 된 가격\n",
    "    price = movie.find(\"span\", attrs={\"class\":\"VfPpfd ZdBevf i5DZme\"}).get_text()\n",
    "    \n",
    "    # 링크\n",
    "    link = movie.find(\"a\", attrs={\"class\":\"JC71ub\"})[\"href\"]\n",
    "    \n",
    "    # 할인 된 영화의 정보만 가져오기\n",
    "    \n",
    "    print(f'Title: {title}')\n",
    "    print(f\"Original Price: {original_price}\")\n",
    "    print(f\"Discount price: {price}\")\n",
    "    print(\"Link: \", \"https://play.google.com\" + link)\n",
    "    print(\"=\"*92)\n",
    "    \n",
    "    \n",
    "# 스크래핑이 끝나면 크롬을 닫기\n",
    "browser.quit()"
   ]
  }
 ],
 "metadata": {
  "kernelspec": {
   "display_name": "Python 3",
   "language": "python",
   "name": "python3"
  },
  "language_info": {
   "codemirror_mode": {
    "name": "ipython",
    "version": 3
   },
   "file_extension": ".py",
   "mimetype": "text/x-python",
   "name": "python",
   "nbconvert_exporter": "python",
   "pygments_lexer": "ipython3",
   "version": "3.7.5"
  }
 },
 "nbformat": 4,
 "nbformat_minor": 5
}
