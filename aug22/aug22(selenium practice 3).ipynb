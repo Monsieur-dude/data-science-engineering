{
 "cells": [
  {
   "cell_type": "code",
   "execution_count": 1,
   "id": "d2c43fd0",
   "metadata": {},
   "outputs": [],
   "source": [
    "import requests\n",
    "from bs4 import BeautifulSoup\n"
   ]
  },
  {
   "cell_type": "code",
   "execution_count": 11,
   "id": "e0d28f22",
   "metadata": {},
   "outputs": [],
   "source": [
    "url = \"https://play.google.com/store/movies/top\"\n",
    "headers = {'User-Agent':\"Mozilla/5.0 (Macintosh; Intel Mac OS X 10_15_7) AppleWebKit/605.1.15 (KHTML, like Gecko) Version/14.1.1 Safari/605.1.15\", \n",
    "          \"Accept-Language\":\"ko-KR,ko\"}\n",
    "res = requests.get(url, headers=headers)\n",
    "res.raise_for_status()\n",
    "\n",
    "soup = BeautifulSoup(res.text, \"lxml\")"
   ]
  },
  {
   "cell_type": "code",
   "execution_count": 17,
   "id": "74fe4023",
   "metadata": {},
   "outputs": [],
   "source": [
    "movies = soup.find_all(\"div\", attrs={\"class\":\"ImZGtf mpg5gc\"})"
   ]
  },
  {
   "cell_type": "code",
   "execution_count": 14,
   "id": "d99d81a9",
   "metadata": {},
   "outputs": [],
   "source": [
    "# with open(\"movies.html\",\"w\", encoding=\"utf8\") as f:\n",
    "#     f.write(soup.prettify())"
   ]
  },
  {
   "cell_type": "code",
   "execution_count": 19,
   "id": "0473ed00",
   "metadata": {},
   "outputs": [
    {
     "name": "stdout",
     "output_type": "stream",
     "text": [
      "블랙 위도우\n",
      "킬러의 보디가드 2: 킬러의 와이프\n",
      "콰이어트 플레이스 2\n",
      "루카\n",
      "Cruella\n",
      "캐시트럭\n",
      "어벤져스 : 엔드게임 (자막판)\n",
      "콰이어트 플레이스 (자막판)\n",
      "노바디\n",
      "베놈   Venom\n"
     ]
    }
   ],
   "source": [
    "for movie in movies :\n",
    "    title = movie.find(\"div\", attrs={\"class\":\"WsMG1c nnK0zc\"}).get_text()\n",
    "    print(title)"
   ]
  },
  {
   "cell_type": "code",
   "execution_count": 78,
   "id": "e0b4d204",
   "metadata": {},
   "outputs": [],
   "source": [
    "### 셀레니움으로 스크롤 해보기\n",
    "\n",
    "from selenium import webdriver\n",
    "\n",
    "url = \"https://play.google.com/store/movies/top\"\n",
    "\n",
    "browser = webdriver.Chrome()\n",
    "browser.maximize_window()\n",
    "browser.get(url)"
   ]
  },
  {
   "cell_type": "code",
   "execution_count": 31,
   "id": "f45ee1db",
   "metadata": {},
   "outputs": [],
   "source": [
    "# 1600 위치로 스크롤 내리기\n",
    "browser.execute_script(\"window.scrollTo(0,1600)\")"
   ]
  },
  {
   "cell_type": "code",
   "execution_count": 33,
   "id": "d09c31bf",
   "metadata": {},
   "outputs": [],
   "source": [
    "# 화면 가장 아래로 스크롤 내리기\n",
    "browser.execute_script(\"window.scrollTo(0, document.body.scrollHeight)\")"
   ]
  },
  {
   "cell_type": "code",
   "execution_count": 92,
   "id": "24217a54",
   "metadata": {},
   "outputs": [
    {
     "name": "stdout",
     "output_type": "stream",
     "text": [
      "Scrolling to the bottom is completed\n"
     ]
    }
   ],
   "source": [
    "### 셀레니움으로 스크롤 해보기\n",
    "\n",
    "from selenium import webdriver\n",
    "\n",
    "url = \"https://play.google.com/store/movies/top\"\n",
    "\n",
    "browser = webdriver.Chrome()\n",
    "browser.maximize_window()\n",
    "browser.get(url)\n",
    "\n",
    "import time\n",
    "interval = 2 \n",
    "previous_height = browser.execute_script(\"return document.body.scrollHeight\")\n",
    "\n",
    "while True :\n",
    "    # 스크롤을 가장 아래로 내림\n",
    "    browser.execute_script(\"window.scrollTo(0, document.body.scrollHeight)\")\n",
    "    time.sleep(interval)\n",
    "    \n",
    "    # 현재 문서의 높이를 가져와서 저장\n",
    "    current_height = browser.execute_script(\"return document.body.scrollHeight\")\n",
    "    if current_height == previous_height :\n",
    "        break\n",
    "    \n",
    "    # 내려간 높이를 현재 높이로 업데이트\n",
    "    previous_height = current_height\n",
    "print(\"Scrolling to the bottom is completed\")"
   ]
  },
  {
   "cell_type": "code",
   "execution_count": 93,
   "id": "224e1b79",
   "metadata": {},
   "outputs": [
    {
     "name": "stdout",
     "output_type": "stream",
     "text": [
      "Title: A Quiet Place Part II\n",
      "original price: ₩10,000\n",
      "discounted price: ₩5,000\n",
      "Link:  https://play.google.com/store/movies/details/A_Quiet_Place_Part_II?id=aDcBkk_fwLQ.P\n",
      "--------------------------------------------------------------------------------------------\n",
      "Title: 캐시트럭\n",
      "original price: ₩7,000\n",
      "discounted price: ₩5,000\n",
      "Link:  https://play.google.com/store/movies/details/%EC%BA%90%EC%8B%9C%ED%8A%B8%EB%9F%AD?id=g4EFCqXUBAk.P\n",
      "--------------------------------------------------------------------------------------------\n",
      "Title: The Conjuring: The Devil Made Me Do It\n",
      "original price: ₩11,000\n",
      "discounted price: ₩5,000\n",
      "Link:  https://play.google.com/store/movies/details/The_Conjuring_The_Devil_Made_Me_Do_It?id=jhaUnwBzVBM.P\n",
      "--------------------------------------------------------------------------------------------\n",
      "Title: Raya and the Last Dragon\n",
      "original price: ₩4,400\n",
      "discounted price: ₩2,750\n",
      "Link:  https://play.google.com/store/movies/details/Raya_and_the_Last_Dragon?id=mOj6B2R2qfo.P\n",
      "--------------------------------------------------------------------------------------------\n",
      "Title: 발신제한\n",
      "original price: ₩11,000\n",
      "discounted price: ₩7,700\n",
      "Link:  https://play.google.com/store/movies/details/%EB%B0%9C%EC%8B%A0%EC%A0%9C%ED%95%9C?id=V2mLsH1DXjE.P\n",
      "--------------------------------------------------------------------------------------------\n",
      "Title: 해리포터 시리즈 완결 패키지\n",
      "original price: ₩36,000\n",
      "discounted price: ₩18,900\n",
      "Link:  https://play.google.com/store/movies/details/%ED%95%B4%EB%A6%AC%ED%8F%AC%ED%84%B0_%EC%8B%9C%EB%A6%AC%EC%A6%88_%EC%99%84%EA%B2%B0_%ED%8C%A8%ED%82%A4%EC%A7%80?id=DsVgRu5dDdY\n",
      "--------------------------------------------------------------------------------------------\n",
      "Title: Tom & Jerry\n",
      "original price: ₩5,000\n",
      "discounted price: ₩2,500\n",
      "Link:  https://play.google.com/store/movies/details/Tom_Jerry?id=IiWoGlyGtlk.P\n",
      "--------------------------------------------------------------------------------------------\n",
      "Title: In The Heights\n",
      "original price: ₩14,900\n",
      "discounted price: ₩9,900\n",
      "Link:  https://play.google.com/store/movies/details/In_The_Heights?id=x-MecAl_8JI.P\n",
      "--------------------------------------------------------------------------------------------\n",
      "Title: 체르노빌1986\n",
      "original price: ₩10,000\n",
      "discounted price: ₩7,000\n",
      "Link:  https://play.google.com/store/movies/details/%EC%B2%B4%EB%A5%B4%EB%85%B8%EB%B9%8C1986?id=p8kzo5rwOH4.P\n",
      "--------------------------------------------------------------------------------------------\n",
      "Title: Zack Snyder's Justice League\n",
      "original price: ₩5,000\n",
      "discounted price: ₩2,500\n",
      "Link:  https://play.google.com/store/movies/details/Zack_Snyder_s_Justice_League?id=4gNcmIQdAb4.P\n",
      "--------------------------------------------------------------------------------------------\n",
      "Title: 흩어진 밤\n",
      "original price: ₩10,000\n",
      "discounted price: ₩4,000\n",
      "Link:  https://play.google.com/store/movies/details/%ED%9D%A9%EC%96%B4%EC%A7%84_%EB%B0%A4?id=RhADWqNgIV4.P\n",
      "--------------------------------------------------------------------------------------------\n",
      "Title: 리스타트\n",
      "original price: ₩4,000\n",
      "discounted price: ₩2,500\n",
      "Link:  https://play.google.com/store/movies/details/%EB%A6%AC%EC%8A%A4%ED%83%80%ED%8A%B8?id=1g8Tj70PAdA.P\n",
      "--------------------------------------------------------------------------------------------\n",
      "Title: 1917\n",
      "original price: ₩2,500\n",
      "discounted price: ₩1,000\n",
      "Link:  https://play.google.com/store/movies/details/1917?id=hwM8em318sg.P\n",
      "--------------------------------------------------------------------------------------------\n",
      "Title: 라이더스 오브 저스티스\n",
      "original price: ₩7,000\n",
      "discounted price: ₩5,000\n",
      "Link:  https://play.google.com/store/movies/details/%EB%9D%BC%EC%9D%B4%EB%8D%94%EC%8A%A4_%EC%98%A4%EB%B8%8C_%EC%A0%80%EC%8A%A4%ED%8B%B0%EC%8A%A4?id=Kq5hvBpcYA8.P\n",
      "--------------------------------------------------------------------------------------------\n",
      "Title: 더 스파이\n",
      "original price: ₩7,000\n",
      "discounted price: ₩4,500\n",
      "Link:  https://play.google.com/store/movies/details/%EB%8D%94_%EC%8A%A4%ED%8C%8C%EC%9D%B4?id=rD0h6sSPMNA.P\n",
      "--------------------------------------------------------------------------------------------\n",
      "Title: The Unholy\n",
      "original price: ₩4,000\n",
      "discounted price: ₩1,800\n",
      "Link:  https://play.google.com/store/movies/details/The_Unholy?id=PXpG8lPMIjw.P\n",
      "--------------------------------------------------------------------------------------------\n",
      "Title: 워 위드 그랜파\n",
      "original price: ₩5,000\n",
      "discounted price: ₩2,500\n",
      "Link:  https://play.google.com/store/movies/details/%EC%9B%8C_%EC%9C%84%EB%93%9C_%EA%B7%B8%EB%9E%9C%ED%8C%8C?id=Yv2LXpPWoXo.P\n",
      "--------------------------------------------------------------------------------------------\n"
     ]
    }
   ],
   "source": [
    "movies = soup.find_all(\"div\", attrs={\"class\":\"Vpfmgd\"})\n",
    "\n",
    "for movie in movies :\n",
    "    title = movie.find(\"div\", attrs={\"class\":\"WsMG1c nnK0zc\"}).get_text()\n",
    "    \n",
    "    # 할인 전 가격 정보\n",
    "    original_price = movie.find(\"span\", attrs={\"class\":\"SUZt4c djCuy\"})\n",
    "    \n",
    "    # 할인이 된 영화의 정보만 출력\n",
    "    if original_price :\n",
    "        original_price = original_price.get_text()\n",
    "    else :\n",
    "        continue\n",
    "    \n",
    "    # 할인 된 가격\n",
    "    price = movie.find(\"span\", attrs={\"class\":\"VfPpfd ZdBevf i5DZme\"}).get_text()\n",
    "    link = movie.find(\"a\", attrs={\"class\":\"JC71ub\"})[\"href\"]\n",
    "    \n",
    "    # 올바른 링크 : http://play.google.com + link \n",
    "    print(\"Title: {}\".format(title))\n",
    "    print(\"original price: {}\".format(original_price))\n",
    "    print(\"discounted price: {}\".format(price))\n",
    "    print(\"Link: \", \"https://play.google.com\" + link)\n",
    "    print(\"-\" * 92)\n",
    "\n",
    "browser.quit()"
   ]
  },
  {
   "cell_type": "code",
   "execution_count": 94,
   "id": "30cc1c31",
   "metadata": {},
   "outputs": [],
   "source": [
    "browser.quit()"
   ]
  },
  {
   "cell_type": "code",
   "execution_count": null,
   "id": "0d9ab47d",
   "metadata": {},
   "outputs": [],
   "source": []
  }
 ],
 "metadata": {
  "kernelspec": {
   "display_name": "Python 3",
   "language": "python",
   "name": "python3"
  },
  "language_info": {
   "codemirror_mode": {
    "name": "ipython",
    "version": 3
   },
   "file_extension": ".py",
   "mimetype": "text/x-python",
   "name": "python",
   "nbconvert_exporter": "python",
   "pygments_lexer": "ipython3",
   "version": "3.7.5"
  }
 },
 "nbformat": 4,
 "nbformat_minor": 5
}
