{
 "cells": [
  {
   "cell_type": "markdown",
   "id": "9c979d38",
   "metadata": {},
   "source": [
    "## 2. mongodb 인덱스(index)\n",
    "* 검색을 더 빠르게 수행하고자 만든 추가적인 data structure\n",
    "    * index 데이터 구조가 없다면, 컬렉션에 있는 데이터를 하나씩 조회하는 방식으로 검색이 됨\n",
    "    \n",
    "### 2.1 기본인덱스 _id\n",
    "* 모든 mongodb 컬렉션은 기본적으로 _id 필드를 기반으로 기본 인덱스가 생성됨\n",
    "\n",
    "#### mongodb 접속 기본 코드"
   ]
  },
  {
   "cell_type": "code",
   "execution_count": 1,
   "id": "82d099a4",
   "metadata": {},
   "outputs": [
    {
     "name": "stdout",
     "output_type": "stream",
     "text": [
      "{'_id': ObjectId('61d937e1f92a9ab995022821'), '배우이름': '김윤석', '흥행지수': 46285, '출연영화': ['모가디슈', '타짜', '당신, 거기 있어줄래요', '화이 : 괴물을 삼킨 아이', '미성년', '1987'], '랭킹': '1', '직업': '배우', '생년월일': '1968-01-21', '성별': '남', '신장/체중': '178cm, 68kg', '학교': '동의대학교 학사', '취미': '여행, 낚시', '소속사': '심엔터테인먼트'}\n",
      "{'_id': ObjectId('61d937e1f92a9ab995022822'), '배우이름': '조인성', '흥행지수': 40500, '출연영화': ['모가디슈', '클래식'], '랭킹': '2', '직업': '배우', '생년월일': '1981-07-28', '성별': '남', '신장/체중': '186cm, 72kg', '학교': '전남과학대 모델이벤트과 - 동국대 연극영화 (중퇴)', '취미': '모자모으기, 영화보기, 농구', '특기': '농구, 태권도(공인 4단)', '소속사': '싸이더스 HQ', '다른이름': '趙寅成'}\n",
      "{'_id': ObjectId('61d937e1f92a9ab995022823'), '배우이름': '허준호', '흥행지수': 34683, '출연영화': ['모가디슈', '국가부도의 날'], '랭킹': '3', '원어명': '許俊豪', '직업': '배우', '생년월일': '1964-03-03', '성별': '남', '신장/체중': '180cm, 75kg', '학교': '서울예술대학 연극과', '취미': '만화책 보기', '특기': '야구, 농구', '소속사': '지티비엔터테인먼트'}\n"
     ]
    }
   ],
   "source": [
    "from bs4 import BeautifulSoup\n",
    "import requests\n",
    "import pymongo\n",
    "import re                   \n",
    "\n",
    "connection = pymongo.MongoClient()\n",
    "actor_db = connection.cine21\n",
    "actor_collection = actor_db.actor_collection\n",
    "\n",
    "actor_collection.find_one({})\n",
    "docs = actor_collection.find({}).limit(3)\n",
    "\n",
    "for doc in docs:\n",
    "    print(doc)\n",
    "\n",
    "actor = actor_collection"
   ]
  },
  {
   "cell_type": "markdown",
   "id": "5e20257b",
   "metadata": {},
   "source": [
    "### 2.2 Single (단일) 필드 인덱스\n",
    "- key: ('필드명', direction)\n",
    "    - direction\n",
    "        - pymongo.ASCENDING = 1\n",
    "        - pymongo.DESCENDING = -1\n",
    "        - pypongo.TEXT = 'text'"
   ]
  },
  {
   "cell_type": "code",
   "execution_count": 41,
   "id": "ebf3c0a7",
   "metadata": {},
   "outputs": [
    {
     "data": {
      "text/plain": [
       "'배우이름_1'"
      ]
     },
     "execution_count": 41,
     "metadata": {},
     "output_type": "execute_result"
    }
   ],
   "source": [
    "actor.create_index('배우이름')"
   ]
  },
  {
   "cell_type": "code",
   "execution_count": 40,
   "id": "c06bb52c",
   "metadata": {},
   "outputs": [
    {
     "name": "stdout",
     "output_type": "stream",
     "text": [
      "{'_id': ObjectId('61d937e1f92a9ab995022821'), '배우이름': '김윤석', '흥행지수': 46285, '출연영화': ['모가디슈', '타짜', '당신, 거기 있어줄래요', '화이 : 괴물을 삼킨 아이', '미성년', '1987'], '랭킹': '1', '직업': '배우', '생년월일': '1968-01-21', '성별': '남', '신장/체중': '178cm, 68kg', '학교': '동의대학교 학사', '취미': '여행, 낚시', '소속사': '심엔터테인먼트'}\n"
     ]
    }
   ],
   "source": [
    "docs = actor.find({'배우이름':'김윤석'})\n",
    "for doc in docs:\n",
    "    print(doc)"
   ]
  },
  {
   "cell_type": "code",
   "execution_count": 29,
   "id": "d27102d6",
   "metadata": {},
   "outputs": [
    {
     "data": {
      "text/plain": [
       "{'_id_': {'v': 2, 'key': [('_id', 1)]},\n",
       " '배우이름_1': {'v': 2, 'key': [('배우이름', 1)]}}"
      ]
     },
     "execution_count": 29,
     "metadata": {},
     "output_type": "execute_result"
    }
   ],
   "source": [
    "actor.index_information()"
   ]
  },
  {
   "cell_type": "code",
   "execution_count": 42,
   "id": "4ac65bf8",
   "metadata": {},
   "outputs": [
    {
     "data": {
      "text/plain": [
       "{'_id_': {'v': 2, 'key': [('_id', 1)]},\n",
       " '배우이름_1': {'v': 2, 'key': [('배우이름', 1)]},\n",
       " '랭킹_1': {'v': 2, 'key': [('랭킹', 1)]},\n",
       " '흥행지수_1': {'v': 2, 'key': [('흥행지수', 1)]}}"
      ]
     },
     "execution_count": 42,
     "metadata": {},
     "output_type": "execute_result"
    }
   ],
   "source": [
    "actor.create_index('랭킹')\n",
    "actor.create_index('흥행지수')\n",
    "actor.index_information()"
   ]
  },
  {
   "cell_type": "code",
   "execution_count": 43,
   "id": "d3776ad2",
   "metadata": {},
   "outputs": [
    {
     "data": {
      "text/plain": [
       "'출연영화_text'"
      ]
     },
     "execution_count": 43,
     "metadata": {},
     "output_type": "execute_result"
    }
   ],
   "source": [
    "# actor.create_index([('직업', pymongo.DESCENDING)])\n",
    "actor.create_index([('직업', -1)])"
   ]
  },
  {
   "cell_type": "markdown",
   "id": "c00e8d05",
   "metadata": {},
   "source": [
    "#### 부분 문자열 검색을 위해 text index 생성"
   ]
  },
  {
   "cell_type": "code",
   "execution_count": null,
   "id": "7af59bd5",
   "metadata": {},
   "outputs": [],
   "source": [
    "# actor.create_index([('출연영화', pymongo.TEXT)])\n",
    "actor.create_index([('출연영화', 'text')])"
   ]
  },
  {
   "cell_type": "code",
   "execution_count": 44,
   "id": "9e63e311",
   "metadata": {},
   "outputs": [
    {
     "data": {
      "text/plain": [
       "{'_id_': {'v': 2, 'key': [('_id', 1)]},\n",
       " '배우이름_1': {'v': 2, 'key': [('배우이름', 1)]},\n",
       " '랭킹_1': {'v': 2, 'key': [('랭킹', 1)]},\n",
       " '흥행지수_1': {'v': 2, 'key': [('흥행지수', 1)]},\n",
       " '직업_-1': {'v': 2, 'key': [('직업', -1)]},\n",
       " '출연영화_text': {'v': 2,\n",
       "  'key': [('_fts', 'text'), ('_ftsx', 1)],\n",
       "  'weights': SON([('출연영화', 1)]),\n",
       "  'default_language': 'english',\n",
       "  'language_override': 'language',\n",
       "  'textIndexVersion': 3}}"
      ]
     },
     "execution_count": 44,
     "metadata": {},
     "output_type": "execute_result"
    }
   ],
   "source": [
    "actor.index_information()"
   ]
  },
  {
   "cell_type": "markdown",
   "id": "b89a7946",
   "metadata": {},
   "source": [
    "#### 부분 문자열 검색:  $text - $search\n",
    "* text 인덱스가 생성된 상태여야 사용할 수 있음"
   ]
  },
  {
   "cell_type": "code",
   "execution_count": 45,
   "id": "6f89a27e",
   "metadata": {},
   "outputs": [
    {
     "name": "stdout",
     "output_type": "stream",
     "text": [
      "{'_id': ObjectId('61d937e1f92a9ab9950228a4'), '배우이름': '엄상현', '흥행지수': 1014, '출연영화': ['퍼피 구조대 더 무비', '바다 탐험대 옥토넛 : 육지수호 대작전', '극장판 바다 탐험대 옥토넛: 불의 고리 대폭발', '런닝맨: 풀룰루의 역습', '극장판 바다 탐험대 옥토넛: 대산호초 보호작전', '바다 탐험대 옥토넛 시즌4: 바다 괴물 대소동'], '랭킹': '132', '직업': '성우', '생년월일': '1971-12-29', '성별': '남'}\n"
     ]
    }
   ],
   "source": [
    "docs = actor.find({'$text': {'$search':'괴물'}})\n",
    "for doc in docs:\n",
    "    print(doc)"
   ]
  },
  {
   "cell_type": "markdown",
   "id": "d4a9cf42",
   "metadata": {},
   "source": [
    "#### 전체 인덱스 삭제"
   ]
  },
  {
   "cell_type": "code",
   "execution_count": 47,
   "id": "6c9855ad",
   "metadata": {},
   "outputs": [],
   "source": [
    "actor.drop_indexes()"
   ]
  },
  {
   "cell_type": "code",
   "execution_count": 48,
   "id": "73f498a8",
   "metadata": {},
   "outputs": [
    {
     "data": {
      "text/plain": [
       "{'_id_': {'v': 2, 'key': [('_id', 1)]}}"
      ]
     },
     "execution_count": 48,
     "metadata": {},
     "output_type": "execute_result"
    }
   ],
   "source": [
    "actor.index_information()"
   ]
  },
  {
   "cell_type": "markdown",
   "id": "0173950e",
   "metadata": {},
   "source": [
    "#### 특정 인덱스 삭제"
   ]
  },
  {
   "cell_type": "code",
   "execution_count": 32,
   "id": "1c28bb0a",
   "metadata": {},
   "outputs": [],
   "source": [
    "actor.drop_index([('배우이름', 1)])"
   ]
  },
  {
   "cell_type": "code",
   "execution_count": 33,
   "id": "54ae5687",
   "metadata": {},
   "outputs": [
    {
     "data": {
      "text/plain": [
       "{'_id_': {'v': 2, 'key': [('_id', 1)]},\n",
       " '랭킹_1': {'v': 2, 'key': [('랭킹', 1)]},\n",
       " '흥행지수_1': {'v': 2, 'key': [('흥행지수', 1)]},\n",
       " '직업_-1': {'v': 2, 'key': [('직업', -1)]},\n",
       " '출연영화_text': {'v': 2,\n",
       "  'key': [('_fts', 'text'), ('_ftsx', 1)],\n",
       "  'weights': SON([('출연영화', 1)]),\n",
       "  'default_language': 'english',\n",
       "  'language_override': 'language',\n",
       "  'textIndexVersion': 3}}"
      ]
     },
     "execution_count": 33,
     "metadata": {},
     "output_type": "execute_result"
    }
   ],
   "source": [
    "actor.index_information()"
   ]
  },
  {
   "cell_type": "markdown",
   "id": "95ccde89",
   "metadata": {},
   "source": [
    "### 2.3 Compound (복합) 필드 인덱스\n",
    "* 최대 31개의 필드로 만들 수 있음"
   ]
  },
  {
   "cell_type": "code",
   "execution_count": 49,
   "id": "e5cd564a",
   "metadata": {},
   "outputs": [
    {
     "data": {
      "text/plain": [
       "'출연영화_text_직업_text_흥행지수_-1'"
      ]
     },
     "execution_count": 49,
     "metadata": {},
     "output_type": "execute_result"
    }
   ],
   "source": [
    "actor.create_index([('출연영화', pymongo.TEXT), ('직업', pymongo.TEXT), ('흥행지수', pymongo.DESCENDING)])"
   ]
  },
  {
   "cell_type": "code",
   "execution_count": 50,
   "id": "ed6d3ae6",
   "metadata": {},
   "outputs": [
    {
     "name": "stdout",
     "output_type": "stream",
     "text": [
      "{'_id': ObjectId('61d937e1f92a9ab995022898'), '배우이름': '김향기', '흥행지수': 1182, '출연영화': ['아이', '신과 함께-죄와 벌', '신과 함께-인과 연', '늑대소년', '증인'], '랭킹': '120', '직업': '배우', '생년월일': '2000-08-09', '성별': '여', '홈페이지': '\\nhttps://twitter.com/smell2001\\n', '특기': '애교 부리기, 피아노 치기'}\n"
     ]
    }
   ],
   "source": [
    "docs = actor.find({'$text': {'$search':'신과'}})\n",
    "\n",
    "for doc in docs:\n",
    "    print(doc)"
   ]
  },
  {
   "cell_type": "code",
   "execution_count": 51,
   "id": "49cc5f59",
   "metadata": {},
   "outputs": [
    {
     "name": "stdout",
     "output_type": "stream",
     "text": [
      "{'_id': ObjectId('61d937e1f92a9ab9950228a6'), '배우이름': '송가인', '흥행지수': 1002, '출연영화': ['송가인 더 드라마'], '랭킹': '134', '직업': '가수', '생년월일': '1986-12-26', '성별': '여', '홈페이지': '\\nhttp://instagram.com/songgain_\\nhttp://www.facebook.com/eunsim.jo.9\\n', '다른이름': '조은심'}\n",
      "{'_id': ObjectId('61d937e1f92a9ab99502289e'), '배우이름': '한선화', '흥행지수': 1106, '출연영화': ['강릉', '영화의 거리'], '랭킹': '126', '직업': '가수', '생년월일': '1990-10-06', '성별': '여', '홈페이지': '\\nhttps://www.instagram.com/shh_daily/\\nhttps://twitter.com/seonhwazzz\\n', '다른이름': '시크릿'}\n",
      "{'_id': ObjectId('61d937e1f92a9ab995022896'), '배우이름': '찬열', '흥행지수': 1204, '출연영화': ['더 박스', '장수상회'], '랭킹': '118', '직업': '가수', '생년월일': '1992-11-27', '성별': '남', '홈페이지': '\\nhttps://instagram.com/real__pcy/\\n', '소속사': 'SM엔터테인먼트', '다른이름': '박찬열; 엑소;EXO'}\n",
      "{'_id': ObjectId('61d937e1f92a9ab995022887'), '배우이름': '서인국', '흥행지수': 1495, '출연영화': ['파이프라인'], '랭킹': '103', '직업': '가수', '생년월일': '1987-10-23', '성별': '남', '홈페이지': '\\nhttps://twitter.com/sigstyle1023\\nhttps://www.facebook.com/sigstyle1023\\n', '신장/체중': '180cm, 76kg', '학교': '경희사이버대학교 정보통신학', '소속사': '젤리피쉬엔터테인먼트'}\n",
      "{'_id': ObjectId('61d937e1f92a9ab99502287f'), '배우이름': '김소혜', '흥행지수': 1625, '출연영화': ['귀문', '윤희에게'], '랭킹': '95', '직업': '가수', '생년월일': '1999-07-19', '성별': '여', '홈페이지': '\\nhttp://instagram.com/s_sohye\\n', '신장/체중': '164cm', '학교': '경기여자고등학교', '다른이름': '아이오아이;I.O.I;'}\n",
      "{'_id': ObjectId('61d937e1f92a9ab99502283e'), '배우이름': '임윤아', '흥행지수': 9812, '출연영화': ['기적', '해피 뉴 이어'], '랭킹': '30', '직업': '가수', '생년월일': '1990-05-30', '성별': '여', '홈페이지': '\\nhttps://www.instagram.com/yoona__lim/\\n', '소속사': 'SM엔터테인먼트', '다른이름': '소녀시대; girlsgeneration; girls generation'}\n"
     ]
    }
   ],
   "source": [
    "docs = actor.find({'$text': {'$search':'가수'}})\n",
    "\n",
    "for doc in docs:\n",
    "    print(doc)"
   ]
  },
  {
   "cell_type": "markdown",
   "id": "c8ede30c",
   "metadata": {},
   "source": [
    "### 2.4 다양한 문자열 검색"
   ]
  },
  {
   "cell_type": "code",
   "execution_count": 53,
   "id": "ac98463a",
   "metadata": {},
   "outputs": [
    {
     "name": "stdout",
     "output_type": "stream",
     "text": [
      "{'_id': ObjectId('61d937e1f92a9ab995022821'), '배우이름': '김윤석', '흥행지수': 46285, '출연영화': ['모가디슈', '타짜', '당신, 거기 있어줄래요', '화이 : 괴물을 삼킨 아이', '미성년', '1987'], '랭킹': '1', '직업': '배우', '생년월일': '1968-01-21', '성별': '남', '신장/체중': '178cm, 68kg', '학교': '동의대학교 학사', '취미': '여행, 낚시', '소속사': '심엔터테인먼트'}\n",
      "{'_id': ObjectId('61d937e1f92a9ab99502282a'), '배우이름': '김성균', '흥행지수': 20366, '출연영화': ['싱크홀', '화이 : 괴물을 삼킨 아이', '프리즌'], '랭킹': '10', '직업': '배우', '생년월일': '1980-05-25', '성별': '남', '홈페이지': '\\nhttps://twitter.com/ggubun\\n'}\n",
      "{'_id': ObjectId('61d937e1f92a9ab99502283f'), '배우이름': '박용우', '흥행지수': 9265, '출연영화': ['유체이탈자', '화이 : 괴물을 삼킨 아이'], '랭킹': '31', '직업': '배우', '생년월일': '1971-03-16', '성별': '남', '신장/체중': '176cm, 65kg', '학교': '중앙대학교 연극영화과', '취미': '볼링 , 피아노', '특기': '노래, 춤, 태권도', '소속사': '스타파크엔터테인먼트'}\n",
      "{'_id': ObjectId('61d937e1f92a9ab99502286c'), '배우이름': '조진웅', '흥행지수': 2200, '출연영화': ['1984 최동원', '경관의 피', '독전', '장수상회', '화이 : 괴물을 삼킨 아이', '블랙머니'], '랭킹': '76', '직업': '배우', '생년월일': '1976-03-03', '성별': '남', '홈페이지': '\\nhttp://www.facebook.com/saram.chojinwoong\\n', '신장/체중': '185cm, 98kg', '학교': '경성대학교 연극영화', '특기': '진도 북춤', '소속사': '㈜사람엔터테인먼트', '다른이름': '조원준'}\n",
      "{'_id': ObjectId('61d937e1f92a9ab99502287e'), '배우이름': '유연석', '흥행지수': 1652, '출연영화': ['새해전야', '건축학개론', '늑대소년', '강철비2: 정상회담', '화이 : 괴물을 삼킨 아이', '뷰티 인사이드'], '랭킹': '94', '직업': '배우', '생년월일': '1984-04-11', '성별': '남', '홈페이지': '\\nhttps://twitter.com/yeonseok411\\nhttps://www.instagram.com/yoo_yeonseok/\\n', '소속사': '이야기엔터테인먼트', '다른이름': '안연석'}\n",
      "{'_id': ObjectId('61d937e1f92a9ab9950228a4'), '배우이름': '엄상현', '흥행지수': 1014, '출연영화': ['퍼피 구조대 더 무비', '바다 탐험대 옥토넛 : 육지수호 대작전', '극장판 바다 탐험대 옥토넛: 불의 고리 대폭발', '런닝맨: 풀룰루의 역습', '극장판 바다 탐험대 옥토넛: 대산호초 보호작전', '바다 탐험대 옥토넛 시즌4: 바다 괴물 대소동'], '랭킹': '132', '직업': '성우', '생년월일': '1971-12-29', '성별': '남'}\n"
     ]
    }
   ],
   "source": [
    "# 정규표현식 ($text operator 는 $search operator 와 함께 사용됨)\n",
    "\n",
    "result = actor.find({'출연영화' : {'$regex' : '괴물'}})\n",
    "\n",
    "for record in result:\n",
    "    print(record)"
   ]
  },
  {
   "cell_type": "code",
   "execution_count": 54,
   "id": "0c651c47",
   "metadata": {},
   "outputs": [],
   "source": [
    "# 실습을 위해 text_collection 생성\n",
    "\n",
    "from bs4 import BeautifulSoup\n",
    "import requests\n",
    "import pymongo\n",
    "import re                   \n",
    "\n",
    "connection = pymongo.MongoClient()\n",
    "actor_db = connection.cine21\n",
    "text_collection = actor_db.text_collection"
   ]
  },
  {
   "cell_type": "code",
   "execution_count": 55,
   "id": "95b7a8ad",
   "metadata": {},
   "outputs": [
    {
     "data": {
      "text/plain": [
       "<pymongo.results.InsertManyResult at 0x7fefde2fdb90>"
      ]
     },
     "execution_count": 55,
     "metadata": {},
     "output_type": "execute_result"
    }
   ],
   "source": [
    "text_collection.insert_many(\n",
    "    [\n",
    "        { \"name\": \"Java Hut\", \"description\": \"Coffee and cakes\", \"ranking\": 1 },\n",
    "        { \"name\": \"Burger Buns\", \"description\": \"Java hamburgers\", \"ranking\": 2 },\n",
    "        { \"name\": \"Coffee Shop\", \"description\": \"Just coffee\", \"ranking\": 3 },\n",
    "        { \"name\": \"Clothes Clothes Clothes\", \"description\": \"Discount clothing\", \"ranking\": 4 },\n",
    "        { \"name\": \"Java Shopping\", \"description\": \"Indonesian goods\", \"ranking\": 5 }\n",
    "    ]\n",
    ")"
   ]
  },
  {
   "cell_type": "code",
   "execution_count": 57,
   "id": "f94246a2",
   "metadata": {},
   "outputs": [
    {
     "name": "stdout",
     "output_type": "stream",
     "text": [
      "{'_id': ObjectId('61d9b8a600ca99a8ab45c392'), 'name': 'Coffee Shop', 'description': 'Just coffee', 'ranking': 3}\n"
     ]
    }
   ],
   "source": [
    "# + -> 문자가 1개 이상\n",
    "# * -> 문자가 0개 이상\n",
    "\n",
    "docs = text_collection.find({'name': {'$regex' : 'Co.+'}})\n",
    "for doc in docs:\n",
    "    print(doc)"
   ]
  },
  {
   "cell_type": "code",
   "execution_count": 58,
   "id": "82d33f25",
   "metadata": {},
   "outputs": [
    {
     "name": "stdout",
     "output_type": "stream",
     "text": [
      "{'_id': ObjectId('61d9b8a600ca99a8ab45c392'), 'name': 'Coffee Shop', 'description': 'Just coffee', 'ranking': 3}\n",
      "{'_id': ObjectId('61d9b8a600ca99a8ab45c394'), 'name': 'Java Shopping', 'description': 'Indonesian goods', 'ranking': 5}\n"
     ]
    }
   ],
   "source": [
    "docs = text_collection.find({'name': {'$regex' : 'Sh.*'}})\n",
    "for doc in docs:\n",
    "    print(doc)"
   ]
  },
  {
   "cell_type": "code",
   "execution_count": 59,
   "id": "a23298cb",
   "metadata": {},
   "outputs": [
    {
     "data": {
      "text/plain": [
       "'name_text'"
      ]
     },
     "execution_count": 59,
     "metadata": {},
     "output_type": "execute_result"
    }
   ],
   "source": [
    "text_collection.create_index([('name', pymongo.TEXT)])"
   ]
  },
  {
   "cell_type": "code",
   "execution_count": 60,
   "id": "0d70055b",
   "metadata": {},
   "outputs": [
    {
     "data": {
      "text/plain": [
       "{'_id_': {'v': 2, 'key': [('_id', 1)]},\n",
       " 'name_text': {'v': 2,\n",
       "  'key': [('_fts', 'text'), ('_ftsx', 1)],\n",
       "  'weights': SON([('name', 1)]),\n",
       "  'default_language': 'english',\n",
       "  'language_override': 'language',\n",
       "  'textIndexVersion': 3}}"
      ]
     },
     "execution_count": 60,
     "metadata": {},
     "output_type": "execute_result"
    }
   ],
   "source": [
    "text_collection.index_information()"
   ]
  },
  {
   "cell_type": "code",
   "execution_count": 61,
   "id": "c39a4da2",
   "metadata": {},
   "outputs": [
    {
     "name": "stdout",
     "output_type": "stream",
     "text": [
      "{'_id': ObjectId('61d9b8a600ca99a8ab45c392'), 'name': 'Coffee Shop', 'description': 'Just coffee', 'ranking': 3}\n"
     ]
    }
   ],
   "source": [
    "docs = text_collection.find({'$text' : {'$search': 'coffee'}})\n",
    "for doc in docs:\n",
    "    print(doc)"
   ]
  },
  {
   "cell_type": "code",
   "execution_count": 62,
   "id": "c1a9e57a",
   "metadata": {},
   "outputs": [
    {
     "name": "stdout",
     "output_type": "stream",
     "text": [
      "{'_id': ObjectId('61d9b8a600ca99a8ab45c392'), 'name': 'Coffee Shop', 'description': 'Just coffee', 'ranking': 3}\n",
      "{'_id': ObjectId('61d9b8a600ca99a8ab45c394'), 'name': 'Java Shopping', 'description': 'Indonesian goods', 'ranking': 5}\n",
      "{'_id': ObjectId('61d9b8a600ca99a8ab45c390'), 'name': 'Java Hut', 'description': 'Coffee and cakes', 'ranking': 1}\n"
     ]
    }
   ],
   "source": [
    "# 'java', 'coffee', 'shop' 각 각 따로 검색\n",
    "\n",
    "docs = text_collection.find({'$text' : {'$search': 'java coffee shop'}})\n",
    "for doc in docs:\n",
    "    print(doc)"
   ]
  },
  {
   "cell_type": "code",
   "execution_count": 65,
   "id": "f60107df",
   "metadata": {},
   "outputs": [
    {
     "name": "stdout",
     "output_type": "stream",
     "text": [
      "{'_id': ObjectId('61d9b8a600ca99a8ab45c394'), 'name': 'Java Shopping', 'description': 'Indonesian goods', 'ranking': 5}\n"
     ]
    }
   ],
   "source": [
    "# ' \\\"coffee shop\\\" ' -> coffee shop 전체를 포함하는 document 출력\n",
    "\n",
    "docs = text_collection.find({'$text' : {'$search': '\\\"coffee shop\\\"'}})\n",
    "for doc in docs:\n",
    "    print(doc)"
   ]
  },
  {
   "cell_type": "code",
   "execution_count": 66,
   "id": "c738852e",
   "metadata": {},
   "outputs": [],
   "source": [
    "# '$caseSensitive: True or False'\n",
    "\n",
    "docs = text_collection.find({'$text' : {'$search': 'coffee shop', '$caseSensitive':True}})\n",
    "for doc in docs:\n",
    "    print(doc)"
   ]
  },
  {
   "cell_type": "markdown",
   "id": "1a2f71bd",
   "metadata": {},
   "source": [
    "### 실습 "
   ]
  },
  {
   "cell_type": "code",
   "execution_count": 86,
   "id": "14cccb69",
   "metadata": {},
   "outputs": [
    {
     "name": "stdout",
     "output_type": "stream",
     "text": [
      "{'배우이름': '강하늘', '흥행지수': 12425, '학교': '중앙대학교 연극학과'}\n",
      "{'배우이름': '박용우', '흥행지수': 9265, '학교': '중앙대학교 연극영화과'}\n",
      "{'배우이름': '김강우', '흥행지수': 8815, '학교': '중앙대학교 연극영화학'}\n",
      "{'배우이름': '진기주', '흥행지수': 1552, '학교': '중앙대학교 컴퓨터공학부'}\n",
      "{'배우이름': '권율', '흥행지수': 1546, '학교': '중앙대학교 연극학과'}\n",
      "{'배우이름': '박철민', '흥행지수': 1403, '학교': '중앙대학교 경영학 학사'}\n",
      "{'배우이름': '이연희', '흥행지수': 1176, '학교': '중앙대학교 연극영화학'}\n",
      "{'배우이름': '박근형', '흥행지수': 965, '학교': '중앙대학교 연극영화학'}\n"
     ]
    }
   ],
   "source": [
    "## 중앙대학교를 나온 배우를 흥행지수 순으로 최대 10명 출력하기\n",
    "\n",
    "docs = actor.find({'학교' : {'$regex': '중앙대학교'}}, {'배우이름':1, '흥행지수':1, '학교':1, '_id':0}).sort('흥행지수', -1).limit(10)\n",
    "\n",
    "for doc in docs:\n",
    "    print(doc)"
   ]
  },
  {
   "cell_type": "code",
   "execution_count": 88,
   "id": "ef4125c3",
   "metadata": {},
   "outputs": [
    {
     "name": "stdout",
     "output_type": "stream",
     "text": [
      "{'배우이름': '허준호', '흥행지수': 34683, '학교': '서울예술대학 연극과'}\n",
      "{'배우이름': '황정민', '흥행지수': 24566, '학교': '서울예술대학 연극과 졸업'}\n",
      "{'배우이름': '류승룡', '흥행지수': 6328, '학교': '서울예술대학 연극'}\n",
      "{'배우이름': '김희원', '흥행지수': 4986, '학교': '서울예술대학 연극과'}\n",
      "{'배우이름': '김지호', '흥행지수': 3756, '학교': '서울여자대학교 영문학'}\n",
      "{'배우이름': '한지민', '흥행지수': 2435, '학교': '서울여자대학교 사회사업학 학사'}\n",
      "{'배우이름': '장혁', '흥행지수': 2338, '학교': '서울예대 영화 - 단국대 연극영화학'}\n",
      "{'배우이름': '박희순', '흥행지수': 1763, '학교': '서울예술대학 연극과'}\n",
      "{'배우이름': '강새봄', '흥행지수': 1021, '학교': '서울대학교 국악과'}\n",
      "{'배우이름': '정진영', '흥행지수': 918, '학교': '서울대학교 국어국문학'}\n"
     ]
    }
   ],
   "source": [
    "docs = actor.find({'학교' : {'$regex': '서울'}}, {'배우이름':1, '흥행지수':1, '학교':1, '_id':0}).sort('흥행지수', -1).limit(10)\n",
    "\n",
    "for doc in docs:\n",
    "    print(doc)"
   ]
  }
 ],
 "metadata": {
  "kernelspec": {
   "display_name": "Python 3 (ipykernel)",
   "language": "python",
   "name": "python3"
  },
  "language_info": {
   "codemirror_mode": {
    "name": "ipython",
    "version": 3
   },
   "file_extension": ".py",
   "mimetype": "text/x-python",
   "name": "python",
   "nbconvert_exporter": "python",
   "pygments_lexer": "ipython3",
   "version": "3.7.5"
  }
 },
 "nbformat": 4,
 "nbformat_minor": 5
}
