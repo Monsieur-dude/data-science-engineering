{
 "cells": [
  {
   "cell_type": "code",
   "execution_count": 1,
   "id": "9b8ef905",
   "metadata": {},
   "outputs": [],
   "source": [
    "import pymongo"
   ]
  },
  {
   "cell_type": "code",
   "execution_count": 2,
   "id": "02439ea4",
   "metadata": {},
   "outputs": [],
   "source": [
    "connection = pymongo.MongoClient()"
   ]
  },
  {
   "cell_type": "code",
   "execution_count": 3,
   "id": "49def7b4",
   "metadata": {},
   "outputs": [
    {
     "data": {
      "text/plain": [
       "Database(MongoClient(host=['localhost:27017'], document_class=dict, tz_aware=False, connect=True), 'mydb')"
      ]
     },
     "execution_count": 3,
     "metadata": {},
     "output_type": "execute_result"
    }
   ],
   "source": [
    "# db = connection.mydb\n",
    "db = connection[\"mydb\"]\n",
    "db"
   ]
  },
  {
   "cell_type": "code",
   "execution_count": 4,
   "id": "ae466969",
   "metadata": {},
   "outputs": [
    {
     "data": {
      "text/plain": [
       "'mydb'"
      ]
     },
     "execution_count": 4,
     "metadata": {},
     "output_type": "execute_result"
    }
   ],
   "source": [
    "db.name"
   ]
  },
  {
   "cell_type": "code",
   "execution_count": 6,
   "id": "a0617312",
   "metadata": {},
   "outputs": [
    {
     "data": {
      "text/plain": [
       "Collection(Database(MongoClient(host=['localhost:27017'], document_class=dict, tz_aware=False, connect=True), 'mydb'), 'mycollection')"
      ]
     },
     "execution_count": 6,
     "metadata": {},
     "output_type": "execute_result"
    }
   ],
   "source": [
    "# collection = db.mycollection\n",
    "collection = db[\"mycollection\"]\n",
    "\n",
    "collection"
   ]
  },
  {
   "cell_type": "code",
   "execution_count": 7,
   "id": "f05743a9",
   "metadata": {},
   "outputs": [
    {
     "data": {
      "text/plain": [
       "'mycollection'"
      ]
     },
     "execution_count": 7,
     "metadata": {},
     "output_type": "execute_result"
    }
   ],
   "source": [
    "collection.name"
   ]
  },
  {
   "cell_type": "code",
   "execution_count": 8,
   "id": "01420b1c",
   "metadata": {},
   "outputs": [
    {
     "data": {
      "text/plain": [
       "'new_db'"
      ]
     },
     "execution_count": 8,
     "metadata": {},
     "output_type": "execute_result"
    }
   ],
   "source": [
    "db = connection[\"new_db\"]\n",
    "db.name"
   ]
  },
  {
   "cell_type": "code",
   "execution_count": 9,
   "id": "d8cefc4d",
   "metadata": {},
   "outputs": [
    {
     "data": {
      "text/plain": [
       "'new_collection'"
      ]
     },
     "execution_count": 9,
     "metadata": {},
     "output_type": "execute_result"
    }
   ],
   "source": [
    "collection = db[\"new_collection\"]\n",
    "collection.name"
   ]
  },
  {
   "cell_type": "code",
   "execution_count": 10,
   "id": "df1f44f2",
   "metadata": {},
   "outputs": [],
   "source": [
    "post = {\"author\": \"Mike\", \"text\": \"My first blog post!\", \"tags\": [\"mongodb\", \"python\", \"pymongo\"] }"
   ]
  },
  {
   "cell_type": "code",
   "execution_count": 12,
   "id": "ce962483",
   "metadata": {},
   "outputs": [
    {
     "data": {
      "text/plain": [
       "<pymongo.results.InsertOneResult at 0x7feb01709aa0>"
      ]
     },
     "execution_count": 12,
     "metadata": {},
     "output_type": "execute_result"
    }
   ],
   "source": [
    "collection.insert_one(post)"
   ]
  },
  {
   "cell_type": "code",
   "execution_count": 13,
   "id": "86580f77",
   "metadata": {},
   "outputs": [
    {
     "data": {
      "text/plain": [
       "<pymongo.results.InsertOneResult at 0x7feb0164fa50>"
      ]
     },
     "execution_count": 13,
     "metadata": {},
     "output_type": "execute_result"
    }
   ],
   "source": [
    "collection.insert_one( { \"author\" : \"monsieur\", \"age\" : 45 } )"
   ]
  },
  {
   "cell_type": "code",
   "execution_count": 14,
   "id": "bdd5b8fb",
   "metadata": {},
   "outputs": [
    {
     "data": {
      "text/plain": [
       "<pymongo.results.InsertManyResult at 0x7feb0128ba50>"
      ]
     },
     "execution_count": 14,
     "metadata": {},
     "output_type": "execute_result"
    }
   ],
   "source": [
    "collection.insert_many(\n",
    "    [\n",
    "        { \"author\" : \"dave\", \"age\" : 35 },\n",
    "        { \"author\" : \"dave ahn\", \"age\" : 25}\n",
    "    ]\n",
    ")"
   ]
  },
  {
   "cell_type": "code",
   "execution_count": 18,
   "id": "319024c1",
   "metadata": {},
   "outputs": [
    {
     "data": {
      "text/plain": [
       "ObjectId('61d587db5d580c86f7fe2168')"
      ]
     },
     "execution_count": 18,
     "metadata": {},
     "output_type": "execute_result"
    }
   ],
   "source": [
    "post = {\"author\": \"Mike\", \"text\": \"My first blog post!\"}\n",
    "post_id = collection.insert_one(post)\n",
    "post_id.inserted_id"
   ]
  },
  {
   "cell_type": "code",
   "execution_count": 19,
   "id": "ad6544a3",
   "metadata": {},
   "outputs": [
    {
     "name": "stderr",
     "output_type": "stream",
     "text": [
      "/Users/monsieur/opt/anaconda3/lib/python3.7/site-packages/ipykernel_launcher.py:1: DeprecationWarning: count is deprecated. Use estimated_document_count or count_documents instead. Please note that $where must be replaced by $expr, $near must be replaced by $geoWithin with $center, and $nearSphere must be replaced by $geoWithin with $centerSphere\n",
      "  \"\"\"Entry point for launching an IPython kernel.\n"
     ]
    },
    {
     "data": {
      "text/plain": [
       "5"
      ]
     },
     "execution_count": 19,
     "metadata": {},
     "output_type": "execute_result"
    }
   ],
   "source": [
    "collection.count()"
   ]
  },
  {
   "cell_type": "code",
   "execution_count": 22,
   "id": "e5b94cb5",
   "metadata": {},
   "outputs": [
    {
     "data": {
      "text/plain": [
       "5"
      ]
     },
     "execution_count": 22,
     "metadata": {},
     "output_type": "execute_result"
    }
   ],
   "source": [
    "collection.count_documents({})"
   ]
  },
  {
   "cell_type": "code",
   "execution_count": 23,
   "id": "e3703a53",
   "metadata": {},
   "outputs": [],
   "source": [
    "data = []\n",
    "data.append({'name' : 'aaron', 'age' : 20})\n",
    "data.append({'name' : 'bob', 'age' : 30})\n",
    "data.append({'name' : 'cathy', 'age' : 25})\n",
    "data.append({'name' : 'david', 'age' : 27})\n",
    "data.append({'name' : 'erick', 'age' : 28})\n",
    "data.append({'name' : 'fox', 'age' : 32})\n",
    "data.append({'name' : 'hmm'})"
   ]
  },
  {
   "cell_type": "code",
   "execution_count": 25,
   "id": "1c220450",
   "metadata": {},
   "outputs": [
    {
     "data": {
      "text/plain": [
       "[{'name': 'aaron', 'age': 20},\n",
       " {'name': 'bob', 'age': 30},\n",
       " {'name': 'cathy', 'age': 25},\n",
       " {'name': 'david', 'age': 27},\n",
       " {'name': 'erick', 'age': 28},\n",
       " {'name': 'fox', 'age': 32},\n",
       " {'name': 'hmm'}]"
      ]
     },
     "execution_count": 25,
     "metadata": {},
     "output_type": "execute_result"
    }
   ],
   "source": [
    "data"
   ]
  },
  {
   "cell_type": "code",
   "execution_count": 26,
   "id": "5e0afa4d",
   "metadata": {},
   "outputs": [
    {
     "data": {
      "text/plain": [
       "<pymongo.results.InsertManyResult at 0x7feb00763410>"
      ]
     },
     "execution_count": 26,
     "metadata": {},
     "output_type": "execute_result"
    }
   ],
   "source": [
    "collection.insert_many(data)"
   ]
  },
  {
   "cell_type": "code",
   "execution_count": 27,
   "id": "451a7aaa",
   "metadata": {},
   "outputs": [
    {
     "data": {
      "text/plain": [
       "12"
      ]
     },
     "execution_count": 27,
     "metadata": {},
     "output_type": "execute_result"
    }
   ],
   "source": [
    "collection.count_documents({})"
   ]
  },
  {
   "cell_type": "code",
   "execution_count": 28,
   "id": "0f0e99a7",
   "metadata": {},
   "outputs": [
    {
     "data": {
      "text/plain": [
       "<pymongo.results.InsertOneResult at 0x7feb01f3e870>"
      ]
     },
     "execution_count": 28,
     "metadata": {},
     "output_type": "execute_result"
    }
   ],
   "source": [
    "collection.insert_one({'title' : '암살', 'castings' : ['이정재', '전지현', '하정우']})\n",
    "collection.insert_one(\n",
    "    {   \n",
    "        'title' : '실미도', \n",
    "        'castings' : ['설경구', '안성기'], \n",
    "        'datetime' : \n",
    "        {   \n",
    "            'year' : '2003', \n",
    "            'month' : 3,\n",
    "            'val' :\n",
    "            {   \n",
    "                'a' :\n",
    "                {   \n",
    "                    'b' : 1\n",
    "                }\n",
    "            }\n",
    "        }\n",
    "    }\n",
    ")"
   ]
  },
  {
   "cell_type": "code",
   "execution_count": 29,
   "id": "1ca0dbab",
   "metadata": {},
   "outputs": [
    {
     "data": {
      "text/plain": [
       "14"
      ]
     },
     "execution_count": 29,
     "metadata": {},
     "output_type": "execute_result"
    }
   ],
   "source": [
    "collection.count_documents({})"
   ]
  },
  {
   "cell_type": "code",
   "execution_count": 47,
   "id": "c5a96734",
   "metadata": {},
   "outputs": [
    {
     "name": "stdout",
     "output_type": "stream",
     "text": [
      "{'_id': ObjectId('61d586725d580c86f7fe2166'), 'author': 'dave', 'age': 35}\n"
     ]
    }
   ],
   "source": [
    "docs = collection.find({\"author\":\"dave\"})\n",
    "\n",
    "for doc in docs:\n",
    "    print(doc)"
   ]
  },
  {
   "cell_type": "code",
   "execution_count": 53,
   "id": "da46d074",
   "metadata": {},
   "outputs": [
    {
     "data": {
      "text/plain": [
       "1"
      ]
     },
     "execution_count": 53,
     "metadata": {},
     "output_type": "execute_result"
    }
   ],
   "source": [
    "collection.count_documents({\"author\":\"dave\"})"
   ]
  },
  {
   "cell_type": "code",
   "execution_count": 54,
   "id": "ae67d5d6",
   "metadata": {},
   "outputs": [
    {
     "name": "stdout",
     "output_type": "stream",
     "text": [
      "{'_id': ObjectId('61d585275d580c86f7fe2164'), 'author': 'Mike', 'text': 'My first blog post!', 'tags': ['mongodb', 'python', 'pymongo']}\n",
      "{'_id': ObjectId('61d587db5d580c86f7fe2168'), 'author': 'Mike', 'text': 'My first blog post!'}\n",
      "{'_id': ObjectId('61d589e65d580c86f7fe216f'), 'name': 'hmm'}\n",
      "{'_id': ObjectId('61d58a0d5d580c86f7fe2170'), 'title': '암살', 'castings': ['이정재', '전지현', '하정우']}\n",
      "{'_id': ObjectId('61d58a0d5d580c86f7fe2171'), 'title': '실미도', 'castings': ['설경구', '안성기'], 'datetime': {'year': '2003', 'month': 3, 'val': {'a': {'b': 1}}}}\n",
      "{'_id': ObjectId('61d589e65d580c86f7fe2169'), 'name': 'aaron', 'age': 20}\n",
      "{'_id': ObjectId('61d586725d580c86f7fe2167'), 'author': 'dave ahn', 'age': 25}\n",
      "{'_id': ObjectId('61d589e65d580c86f7fe216b'), 'name': 'cathy', 'age': 25}\n",
      "{'_id': ObjectId('61d589e65d580c86f7fe216c'), 'name': 'david', 'age': 27}\n",
      "{'_id': ObjectId('61d589e65d580c86f7fe216d'), 'name': 'erick', 'age': 28}\n",
      "{'_id': ObjectId('61d589e65d580c86f7fe216a'), 'name': 'bob', 'age': 30}\n",
      "{'_id': ObjectId('61d589e65d580c86f7fe216e'), 'name': 'fox', 'age': 32}\n",
      "{'_id': ObjectId('61d586725d580c86f7fe2166'), 'author': 'dave', 'age': 35}\n",
      "{'_id': ObjectId('61d585ce5d580c86f7fe2165'), 'author': 'monsieur', 'age': 45}\n"
     ]
    }
   ],
   "source": [
    "posts = collection.find().sort(\"age\")\n",
    "\n",
    "for post in posts:\n",
    "    print(post)"
   ]
  },
  {
   "cell_type": "code",
   "execution_count": 56,
   "id": "8f001e2b",
   "metadata": {},
   "outputs": [
    {
     "data": {
      "text/plain": [
       "{'_id': ObjectId('61d586725d580c86f7fe2166'), 'author': 'dave', 'age': 35}"
      ]
     },
     "execution_count": 56,
     "metadata": {},
     "output_type": "execute_result"
    }
   ],
   "source": [
    "collection.find_one({\"author\":\"dave\"})"
   ]
  },
  {
   "cell_type": "code",
   "execution_count": 57,
   "id": "3c8b86e9",
   "metadata": {},
   "outputs": [
    {
     "data": {
      "text/plain": [
       "<pymongo.results.UpdateResult at 0x7feb022f1af0>"
      ]
     },
     "execution_count": 57,
     "metadata": {},
     "output_type": "execute_result"
    }
   ],
   "source": [
    "collection.update_one( {\"author\":\"dave\"},\n",
    "    { \"$set\" :\n",
    "         {\"text\" : \"My second blog post!\"}\n",
    "    }\n",
    ")"
   ]
  },
  {
   "cell_type": "code",
   "execution_count": 64,
   "id": "6655f444",
   "metadata": {},
   "outputs": [
    {
     "data": {
      "text/plain": [
       "{'_id': ObjectId('61d586725d580c86f7fe2166'),\n",
       " 'author': 'dave',\n",
       " 'age': 35,\n",
       " 'text': 'My second blog post!'}"
      ]
     },
     "execution_count": 64,
     "metadata": {},
     "output_type": "execute_result"
    }
   ],
   "source": [
    "collection.find_one({\"author\":\"dave\"})"
   ]
  },
  {
   "cell_type": "code",
   "execution_count": 61,
   "id": "eefde9b5",
   "metadata": {},
   "outputs": [
    {
     "data": {
      "text/plain": [
       "<pymongo.results.InsertOneResult at 0x7feb01571230>"
      ]
     },
     "execution_count": 61,
     "metadata": {},
     "output_type": "execute_result"
    }
   ],
   "source": [
    "collection.insert_one({\"author\":\"dave\"}, {\"age\":15})"
   ]
  },
  {
   "cell_type": "code",
   "execution_count": 66,
   "id": "1581b4d4",
   "metadata": {},
   "outputs": [
    {
     "data": {
      "text/plain": [
       "<pymongo.cursor.Cursor at 0x7feb01467e90>"
      ]
     },
     "execution_count": 66,
     "metadata": {},
     "output_type": "execute_result"
    }
   ],
   "source": [
    "collection.find({\"author\":\"dave\"})"
   ]
  },
  {
   "cell_type": "code",
   "execution_count": 67,
   "id": "29df78b5",
   "metadata": {},
   "outputs": [
    {
     "data": {
      "text/plain": [
       "2"
      ]
     },
     "execution_count": 67,
     "metadata": {},
     "output_type": "execute_result"
    }
   ],
   "source": [
    "collection.count_documents({\"author\":\"dave\"})"
   ]
  },
  {
   "cell_type": "code",
   "execution_count": 68,
   "id": "1d4ff22b",
   "metadata": {},
   "outputs": [
    {
     "data": {
      "text/plain": [
       "<pymongo.results.UpdateResult at 0x7feb01551780>"
      ]
     },
     "execution_count": 68,
     "metadata": {},
     "output_type": "execute_result"
    }
   ],
   "source": [
    "collection.update_many({\"author\":\"dave\"},\n",
    "    {\"$set\":\n",
    "            {\"text\":\"My third blog post !\"}\n",
    "    }\n",
    ")"
   ]
  },
  {
   "cell_type": "code",
   "execution_count": 71,
   "id": "3e4a9f6e",
   "metadata": {},
   "outputs": [],
   "source": [
    "docs = collection.find({\"author\":\"dave\"})\n",
    "\n",
    "for doc in docs:\n",
    "    print(doc)"
   ]
  },
  {
   "cell_type": "code",
   "execution_count": 72,
   "id": "693b6dc1",
   "metadata": {},
   "outputs": [
    {
     "data": {
      "text/plain": [
       "0"
      ]
     },
     "execution_count": 72,
     "metadata": {},
     "output_type": "execute_result"
    }
   ],
   "source": [
    "collection.count_documents({\"author\":\"dave\"})"
   ]
  },
  {
   "cell_type": "code",
   "execution_count": null,
   "id": "3dd0afb7",
   "metadata": {},
   "outputs": [],
   "source": []
  },
  {
   "cell_type": "code",
   "execution_count": 73,
   "id": "eb598003",
   "metadata": {},
   "outputs": [],
   "source": [
    "import pymongo\n",
    "\n",
    "connection = pymongo.MongoClient()\n",
    "books = connection.books\n",
    "a_book = books.a_book\n",
    "\n",
    "data = []\n",
    "for index in range(100):\n",
    "    data.append({\"author\":\"Dave Lee\", \"publisher\":\"fun-coding.org\", \"number\": index})"
   ]
  },
  {
   "cell_type": "code",
   "execution_count": 74,
   "id": "62da1222",
   "metadata": {},
   "outputs": [
    {
     "data": {
      "text/plain": [
       "[{'author': 'Dave Lee', 'publisher': 'fun-coding.org', 'number': 0},\n",
       " {'author': 'Dave Lee', 'publisher': 'fun-coding.org', 'number': 1},\n",
       " {'author': 'Dave Lee', 'publisher': 'fun-coding.org', 'number': 2},\n",
       " {'author': 'Dave Lee', 'publisher': 'fun-coding.org', 'number': 3},\n",
       " {'author': 'Dave Lee', 'publisher': 'fun-coding.org', 'number': 4},\n",
       " {'author': 'Dave Lee', 'publisher': 'fun-coding.org', 'number': 5},\n",
       " {'author': 'Dave Lee', 'publisher': 'fun-coding.org', 'number': 6},\n",
       " {'author': 'Dave Lee', 'publisher': 'fun-coding.org', 'number': 7},\n",
       " {'author': 'Dave Lee', 'publisher': 'fun-coding.org', 'number': 8},\n",
       " {'author': 'Dave Lee', 'publisher': 'fun-coding.org', 'number': 9},\n",
       " {'author': 'Dave Lee', 'publisher': 'fun-coding.org', 'number': 10},\n",
       " {'author': 'Dave Lee', 'publisher': 'fun-coding.org', 'number': 11},\n",
       " {'author': 'Dave Lee', 'publisher': 'fun-coding.org', 'number': 12},\n",
       " {'author': 'Dave Lee', 'publisher': 'fun-coding.org', 'number': 13},\n",
       " {'author': 'Dave Lee', 'publisher': 'fun-coding.org', 'number': 14},\n",
       " {'author': 'Dave Lee', 'publisher': 'fun-coding.org', 'number': 15},\n",
       " {'author': 'Dave Lee', 'publisher': 'fun-coding.org', 'number': 16},\n",
       " {'author': 'Dave Lee', 'publisher': 'fun-coding.org', 'number': 17},\n",
       " {'author': 'Dave Lee', 'publisher': 'fun-coding.org', 'number': 18},\n",
       " {'author': 'Dave Lee', 'publisher': 'fun-coding.org', 'number': 19},\n",
       " {'author': 'Dave Lee', 'publisher': 'fun-coding.org', 'number': 20},\n",
       " {'author': 'Dave Lee', 'publisher': 'fun-coding.org', 'number': 21},\n",
       " {'author': 'Dave Lee', 'publisher': 'fun-coding.org', 'number': 22},\n",
       " {'author': 'Dave Lee', 'publisher': 'fun-coding.org', 'number': 23},\n",
       " {'author': 'Dave Lee', 'publisher': 'fun-coding.org', 'number': 24},\n",
       " {'author': 'Dave Lee', 'publisher': 'fun-coding.org', 'number': 25},\n",
       " {'author': 'Dave Lee', 'publisher': 'fun-coding.org', 'number': 26},\n",
       " {'author': 'Dave Lee', 'publisher': 'fun-coding.org', 'number': 27},\n",
       " {'author': 'Dave Lee', 'publisher': 'fun-coding.org', 'number': 28},\n",
       " {'author': 'Dave Lee', 'publisher': 'fun-coding.org', 'number': 29},\n",
       " {'author': 'Dave Lee', 'publisher': 'fun-coding.org', 'number': 30},\n",
       " {'author': 'Dave Lee', 'publisher': 'fun-coding.org', 'number': 31},\n",
       " {'author': 'Dave Lee', 'publisher': 'fun-coding.org', 'number': 32},\n",
       " {'author': 'Dave Lee', 'publisher': 'fun-coding.org', 'number': 33},\n",
       " {'author': 'Dave Lee', 'publisher': 'fun-coding.org', 'number': 34},\n",
       " {'author': 'Dave Lee', 'publisher': 'fun-coding.org', 'number': 35},\n",
       " {'author': 'Dave Lee', 'publisher': 'fun-coding.org', 'number': 36},\n",
       " {'author': 'Dave Lee', 'publisher': 'fun-coding.org', 'number': 37},\n",
       " {'author': 'Dave Lee', 'publisher': 'fun-coding.org', 'number': 38},\n",
       " {'author': 'Dave Lee', 'publisher': 'fun-coding.org', 'number': 39},\n",
       " {'author': 'Dave Lee', 'publisher': 'fun-coding.org', 'number': 40},\n",
       " {'author': 'Dave Lee', 'publisher': 'fun-coding.org', 'number': 41},\n",
       " {'author': 'Dave Lee', 'publisher': 'fun-coding.org', 'number': 42},\n",
       " {'author': 'Dave Lee', 'publisher': 'fun-coding.org', 'number': 43},\n",
       " {'author': 'Dave Lee', 'publisher': 'fun-coding.org', 'number': 44},\n",
       " {'author': 'Dave Lee', 'publisher': 'fun-coding.org', 'number': 45},\n",
       " {'author': 'Dave Lee', 'publisher': 'fun-coding.org', 'number': 46},\n",
       " {'author': 'Dave Lee', 'publisher': 'fun-coding.org', 'number': 47},\n",
       " {'author': 'Dave Lee', 'publisher': 'fun-coding.org', 'number': 48},\n",
       " {'author': 'Dave Lee', 'publisher': 'fun-coding.org', 'number': 49},\n",
       " {'author': 'Dave Lee', 'publisher': 'fun-coding.org', 'number': 50},\n",
       " {'author': 'Dave Lee', 'publisher': 'fun-coding.org', 'number': 51},\n",
       " {'author': 'Dave Lee', 'publisher': 'fun-coding.org', 'number': 52},\n",
       " {'author': 'Dave Lee', 'publisher': 'fun-coding.org', 'number': 53},\n",
       " {'author': 'Dave Lee', 'publisher': 'fun-coding.org', 'number': 54},\n",
       " {'author': 'Dave Lee', 'publisher': 'fun-coding.org', 'number': 55},\n",
       " {'author': 'Dave Lee', 'publisher': 'fun-coding.org', 'number': 56},\n",
       " {'author': 'Dave Lee', 'publisher': 'fun-coding.org', 'number': 57},\n",
       " {'author': 'Dave Lee', 'publisher': 'fun-coding.org', 'number': 58},\n",
       " {'author': 'Dave Lee', 'publisher': 'fun-coding.org', 'number': 59},\n",
       " {'author': 'Dave Lee', 'publisher': 'fun-coding.org', 'number': 60},\n",
       " {'author': 'Dave Lee', 'publisher': 'fun-coding.org', 'number': 61},\n",
       " {'author': 'Dave Lee', 'publisher': 'fun-coding.org', 'number': 62},\n",
       " {'author': 'Dave Lee', 'publisher': 'fun-coding.org', 'number': 63},\n",
       " {'author': 'Dave Lee', 'publisher': 'fun-coding.org', 'number': 64},\n",
       " {'author': 'Dave Lee', 'publisher': 'fun-coding.org', 'number': 65},\n",
       " {'author': 'Dave Lee', 'publisher': 'fun-coding.org', 'number': 66},\n",
       " {'author': 'Dave Lee', 'publisher': 'fun-coding.org', 'number': 67},\n",
       " {'author': 'Dave Lee', 'publisher': 'fun-coding.org', 'number': 68},\n",
       " {'author': 'Dave Lee', 'publisher': 'fun-coding.org', 'number': 69},\n",
       " {'author': 'Dave Lee', 'publisher': 'fun-coding.org', 'number': 70},\n",
       " {'author': 'Dave Lee', 'publisher': 'fun-coding.org', 'number': 71},\n",
       " {'author': 'Dave Lee', 'publisher': 'fun-coding.org', 'number': 72},\n",
       " {'author': 'Dave Lee', 'publisher': 'fun-coding.org', 'number': 73},\n",
       " {'author': 'Dave Lee', 'publisher': 'fun-coding.org', 'number': 74},\n",
       " {'author': 'Dave Lee', 'publisher': 'fun-coding.org', 'number': 75},\n",
       " {'author': 'Dave Lee', 'publisher': 'fun-coding.org', 'number': 76},\n",
       " {'author': 'Dave Lee', 'publisher': 'fun-coding.org', 'number': 77},\n",
       " {'author': 'Dave Lee', 'publisher': 'fun-coding.org', 'number': 78},\n",
       " {'author': 'Dave Lee', 'publisher': 'fun-coding.org', 'number': 79},\n",
       " {'author': 'Dave Lee', 'publisher': 'fun-coding.org', 'number': 80},\n",
       " {'author': 'Dave Lee', 'publisher': 'fun-coding.org', 'number': 81},\n",
       " {'author': 'Dave Lee', 'publisher': 'fun-coding.org', 'number': 82},\n",
       " {'author': 'Dave Lee', 'publisher': 'fun-coding.org', 'number': 83},\n",
       " {'author': 'Dave Lee', 'publisher': 'fun-coding.org', 'number': 84},\n",
       " {'author': 'Dave Lee', 'publisher': 'fun-coding.org', 'number': 85},\n",
       " {'author': 'Dave Lee', 'publisher': 'fun-coding.org', 'number': 86},\n",
       " {'author': 'Dave Lee', 'publisher': 'fun-coding.org', 'number': 87},\n",
       " {'author': 'Dave Lee', 'publisher': 'fun-coding.org', 'number': 88},\n",
       " {'author': 'Dave Lee', 'publisher': 'fun-coding.org', 'number': 89},\n",
       " {'author': 'Dave Lee', 'publisher': 'fun-coding.org', 'number': 90},\n",
       " {'author': 'Dave Lee', 'publisher': 'fun-coding.org', 'number': 91},\n",
       " {'author': 'Dave Lee', 'publisher': 'fun-coding.org', 'number': 92},\n",
       " {'author': 'Dave Lee', 'publisher': 'fun-coding.org', 'number': 93},\n",
       " {'author': 'Dave Lee', 'publisher': 'fun-coding.org', 'number': 94},\n",
       " {'author': 'Dave Lee', 'publisher': 'fun-coding.org', 'number': 95},\n",
       " {'author': 'Dave Lee', 'publisher': 'fun-coding.org', 'number': 96},\n",
       " {'author': 'Dave Lee', 'publisher': 'fun-coding.org', 'number': 97},\n",
       " {'author': 'Dave Lee', 'publisher': 'fun-coding.org', 'number': 98},\n",
       " {'author': 'Dave Lee', 'publisher': 'fun-coding.org', 'number': 99}]"
      ]
     },
     "execution_count": 74,
     "metadata": {},
     "output_type": "execute_result"
    }
   ],
   "source": [
    "data"
   ]
  },
  {
   "cell_type": "code",
   "execution_count": 75,
   "id": "f7216121",
   "metadata": {},
   "outputs": [
    {
     "data": {
      "text/plain": [
       "<pymongo.results.InsertManyResult at 0x7feb015e2e10>"
      ]
     },
     "execution_count": 75,
     "metadata": {},
     "output_type": "execute_result"
    }
   ],
   "source": [
    "# CRUD - CREATE (insert)\n",
    "\n",
    "a_book.insert_many(data)"
   ]
  },
  {
   "cell_type": "code",
   "execution_count": 76,
   "id": "db90107c",
   "metadata": {},
   "outputs": [
    {
     "name": "stdout",
     "output_type": "stream",
     "text": [
      "{'_id': ObjectId('61d592db5d580c86f7fe2174'), 'author': 'Dave Lee', 'publisher': 'fun-coding.org', 'number': 0}\n",
      "{'_id': ObjectId('61d592db5d580c86f7fe2175'), 'author': 'Dave Lee', 'publisher': 'fun-coding.org', 'number': 1}\n",
      "{'_id': ObjectId('61d592db5d580c86f7fe2176'), 'author': 'Dave Lee', 'publisher': 'fun-coding.org', 'number': 2}\n",
      "{'_id': ObjectId('61d592db5d580c86f7fe2177'), 'author': 'Dave Lee', 'publisher': 'fun-coding.org', 'number': 3}\n",
      "{'_id': ObjectId('61d592db5d580c86f7fe2178'), 'author': 'Dave Lee', 'publisher': 'fun-coding.org', 'number': 4}\n",
      "{'_id': ObjectId('61d592db5d580c86f7fe2179'), 'author': 'Dave Lee', 'publisher': 'fun-coding.org', 'number': 5}\n",
      "{'_id': ObjectId('61d592db5d580c86f7fe217a'), 'author': 'Dave Lee', 'publisher': 'fun-coding.org', 'number': 6}\n",
      "{'_id': ObjectId('61d592db5d580c86f7fe217b'), 'author': 'Dave Lee', 'publisher': 'fun-coding.org', 'number': 7}\n",
      "{'_id': ObjectId('61d592db5d580c86f7fe217c'), 'author': 'Dave Lee', 'publisher': 'fun-coding.org', 'number': 8}\n",
      "{'_id': ObjectId('61d592db5d580c86f7fe217d'), 'author': 'Dave Lee', 'publisher': 'fun-coding.org', 'number': 9}\n",
      "{'_id': ObjectId('61d592db5d580c86f7fe217e'), 'author': 'Dave Lee', 'publisher': 'fun-coding.org', 'number': 10}\n",
      "{'_id': ObjectId('61d592db5d580c86f7fe217f'), 'author': 'Dave Lee', 'publisher': 'fun-coding.org', 'number': 11}\n",
      "{'_id': ObjectId('61d592db5d580c86f7fe2180'), 'author': 'Dave Lee', 'publisher': 'fun-coding.org', 'number': 12}\n",
      "{'_id': ObjectId('61d592db5d580c86f7fe2181'), 'author': 'Dave Lee', 'publisher': 'fun-coding.org', 'number': 13}\n",
      "{'_id': ObjectId('61d592db5d580c86f7fe2182'), 'author': 'Dave Lee', 'publisher': 'fun-coding.org', 'number': 14}\n",
      "{'_id': ObjectId('61d592db5d580c86f7fe2183'), 'author': 'Dave Lee', 'publisher': 'fun-coding.org', 'number': 15}\n",
      "{'_id': ObjectId('61d592db5d580c86f7fe2184'), 'author': 'Dave Lee', 'publisher': 'fun-coding.org', 'number': 16}\n",
      "{'_id': ObjectId('61d592db5d580c86f7fe2185'), 'author': 'Dave Lee', 'publisher': 'fun-coding.org', 'number': 17}\n",
      "{'_id': ObjectId('61d592db5d580c86f7fe2186'), 'author': 'Dave Lee', 'publisher': 'fun-coding.org', 'number': 18}\n",
      "{'_id': ObjectId('61d592db5d580c86f7fe2187'), 'author': 'Dave Lee', 'publisher': 'fun-coding.org', 'number': 19}\n",
      "{'_id': ObjectId('61d592db5d580c86f7fe2188'), 'author': 'Dave Lee', 'publisher': 'fun-coding.org', 'number': 20}\n",
      "{'_id': ObjectId('61d592db5d580c86f7fe2189'), 'author': 'Dave Lee', 'publisher': 'fun-coding.org', 'number': 21}\n",
      "{'_id': ObjectId('61d592db5d580c86f7fe218a'), 'author': 'Dave Lee', 'publisher': 'fun-coding.org', 'number': 22}\n",
      "{'_id': ObjectId('61d592db5d580c86f7fe218b'), 'author': 'Dave Lee', 'publisher': 'fun-coding.org', 'number': 23}\n",
      "{'_id': ObjectId('61d592db5d580c86f7fe218c'), 'author': 'Dave Lee', 'publisher': 'fun-coding.org', 'number': 24}\n",
      "{'_id': ObjectId('61d592db5d580c86f7fe218d'), 'author': 'Dave Lee', 'publisher': 'fun-coding.org', 'number': 25}\n",
      "{'_id': ObjectId('61d592db5d580c86f7fe218e'), 'author': 'Dave Lee', 'publisher': 'fun-coding.org', 'number': 26}\n",
      "{'_id': ObjectId('61d592db5d580c86f7fe218f'), 'author': 'Dave Lee', 'publisher': 'fun-coding.org', 'number': 27}\n",
      "{'_id': ObjectId('61d592db5d580c86f7fe2190'), 'author': 'Dave Lee', 'publisher': 'fun-coding.org', 'number': 28}\n",
      "{'_id': ObjectId('61d592db5d580c86f7fe2191'), 'author': 'Dave Lee', 'publisher': 'fun-coding.org', 'number': 29}\n",
      "{'_id': ObjectId('61d592db5d580c86f7fe2192'), 'author': 'Dave Lee', 'publisher': 'fun-coding.org', 'number': 30}\n",
      "{'_id': ObjectId('61d592db5d580c86f7fe2193'), 'author': 'Dave Lee', 'publisher': 'fun-coding.org', 'number': 31}\n",
      "{'_id': ObjectId('61d592db5d580c86f7fe2194'), 'author': 'Dave Lee', 'publisher': 'fun-coding.org', 'number': 32}\n",
      "{'_id': ObjectId('61d592db5d580c86f7fe2195'), 'author': 'Dave Lee', 'publisher': 'fun-coding.org', 'number': 33}\n",
      "{'_id': ObjectId('61d592db5d580c86f7fe2196'), 'author': 'Dave Lee', 'publisher': 'fun-coding.org', 'number': 34}\n",
      "{'_id': ObjectId('61d592db5d580c86f7fe2197'), 'author': 'Dave Lee', 'publisher': 'fun-coding.org', 'number': 35}\n",
      "{'_id': ObjectId('61d592db5d580c86f7fe2198'), 'author': 'Dave Lee', 'publisher': 'fun-coding.org', 'number': 36}\n",
      "{'_id': ObjectId('61d592db5d580c86f7fe2199'), 'author': 'Dave Lee', 'publisher': 'fun-coding.org', 'number': 37}\n",
      "{'_id': ObjectId('61d592db5d580c86f7fe219a'), 'author': 'Dave Lee', 'publisher': 'fun-coding.org', 'number': 38}\n",
      "{'_id': ObjectId('61d592db5d580c86f7fe219b'), 'author': 'Dave Lee', 'publisher': 'fun-coding.org', 'number': 39}\n",
      "{'_id': ObjectId('61d592db5d580c86f7fe219c'), 'author': 'Dave Lee', 'publisher': 'fun-coding.org', 'number': 40}\n",
      "{'_id': ObjectId('61d592db5d580c86f7fe219d'), 'author': 'Dave Lee', 'publisher': 'fun-coding.org', 'number': 41}\n",
      "{'_id': ObjectId('61d592db5d580c86f7fe219e'), 'author': 'Dave Lee', 'publisher': 'fun-coding.org', 'number': 42}\n",
      "{'_id': ObjectId('61d592db5d580c86f7fe219f'), 'author': 'Dave Lee', 'publisher': 'fun-coding.org', 'number': 43}\n",
      "{'_id': ObjectId('61d592db5d580c86f7fe21a0'), 'author': 'Dave Lee', 'publisher': 'fun-coding.org', 'number': 44}\n",
      "{'_id': ObjectId('61d592db5d580c86f7fe21a1'), 'author': 'Dave Lee', 'publisher': 'fun-coding.org', 'number': 45}\n",
      "{'_id': ObjectId('61d592db5d580c86f7fe21a2'), 'author': 'Dave Lee', 'publisher': 'fun-coding.org', 'number': 46}\n",
      "{'_id': ObjectId('61d592db5d580c86f7fe21a3'), 'author': 'Dave Lee', 'publisher': 'fun-coding.org', 'number': 47}\n",
      "{'_id': ObjectId('61d592db5d580c86f7fe21a4'), 'author': 'Dave Lee', 'publisher': 'fun-coding.org', 'number': 48}\n",
      "{'_id': ObjectId('61d592db5d580c86f7fe21a5'), 'author': 'Dave Lee', 'publisher': 'fun-coding.org', 'number': 49}\n",
      "{'_id': ObjectId('61d592db5d580c86f7fe21a6'), 'author': 'Dave Lee', 'publisher': 'fun-coding.org', 'number': 50}\n",
      "{'_id': ObjectId('61d592db5d580c86f7fe21a7'), 'author': 'Dave Lee', 'publisher': 'fun-coding.org', 'number': 51}\n",
      "{'_id': ObjectId('61d592db5d580c86f7fe21a8'), 'author': 'Dave Lee', 'publisher': 'fun-coding.org', 'number': 52}\n",
      "{'_id': ObjectId('61d592db5d580c86f7fe21a9'), 'author': 'Dave Lee', 'publisher': 'fun-coding.org', 'number': 53}\n",
      "{'_id': ObjectId('61d592db5d580c86f7fe21aa'), 'author': 'Dave Lee', 'publisher': 'fun-coding.org', 'number': 54}\n",
      "{'_id': ObjectId('61d592db5d580c86f7fe21ab'), 'author': 'Dave Lee', 'publisher': 'fun-coding.org', 'number': 55}\n",
      "{'_id': ObjectId('61d592db5d580c86f7fe21ac'), 'author': 'Dave Lee', 'publisher': 'fun-coding.org', 'number': 56}\n",
      "{'_id': ObjectId('61d592db5d580c86f7fe21ad'), 'author': 'Dave Lee', 'publisher': 'fun-coding.org', 'number': 57}\n",
      "{'_id': ObjectId('61d592db5d580c86f7fe21ae'), 'author': 'Dave Lee', 'publisher': 'fun-coding.org', 'number': 58}\n",
      "{'_id': ObjectId('61d592db5d580c86f7fe21af'), 'author': 'Dave Lee', 'publisher': 'fun-coding.org', 'number': 59}\n",
      "{'_id': ObjectId('61d592db5d580c86f7fe21b0'), 'author': 'Dave Lee', 'publisher': 'fun-coding.org', 'number': 60}\n",
      "{'_id': ObjectId('61d592db5d580c86f7fe21b1'), 'author': 'Dave Lee', 'publisher': 'fun-coding.org', 'number': 61}\n",
      "{'_id': ObjectId('61d592db5d580c86f7fe21b2'), 'author': 'Dave Lee', 'publisher': 'fun-coding.org', 'number': 62}\n",
      "{'_id': ObjectId('61d592db5d580c86f7fe21b3'), 'author': 'Dave Lee', 'publisher': 'fun-coding.org', 'number': 63}\n",
      "{'_id': ObjectId('61d592db5d580c86f7fe21b4'), 'author': 'Dave Lee', 'publisher': 'fun-coding.org', 'number': 64}\n",
      "{'_id': ObjectId('61d592db5d580c86f7fe21b5'), 'author': 'Dave Lee', 'publisher': 'fun-coding.org', 'number': 65}\n",
      "{'_id': ObjectId('61d592db5d580c86f7fe21b6'), 'author': 'Dave Lee', 'publisher': 'fun-coding.org', 'number': 66}\n",
      "{'_id': ObjectId('61d592db5d580c86f7fe21b7'), 'author': 'Dave Lee', 'publisher': 'fun-coding.org', 'number': 67}\n",
      "{'_id': ObjectId('61d592db5d580c86f7fe21b8'), 'author': 'Dave Lee', 'publisher': 'fun-coding.org', 'number': 68}\n",
      "{'_id': ObjectId('61d592db5d580c86f7fe21b9'), 'author': 'Dave Lee', 'publisher': 'fun-coding.org', 'number': 69}\n",
      "{'_id': ObjectId('61d592db5d580c86f7fe21ba'), 'author': 'Dave Lee', 'publisher': 'fun-coding.org', 'number': 70}\n",
      "{'_id': ObjectId('61d592db5d580c86f7fe21bb'), 'author': 'Dave Lee', 'publisher': 'fun-coding.org', 'number': 71}\n",
      "{'_id': ObjectId('61d592db5d580c86f7fe21bc'), 'author': 'Dave Lee', 'publisher': 'fun-coding.org', 'number': 72}\n",
      "{'_id': ObjectId('61d592db5d580c86f7fe21bd'), 'author': 'Dave Lee', 'publisher': 'fun-coding.org', 'number': 73}\n",
      "{'_id': ObjectId('61d592db5d580c86f7fe21be'), 'author': 'Dave Lee', 'publisher': 'fun-coding.org', 'number': 74}\n",
      "{'_id': ObjectId('61d592db5d580c86f7fe21bf'), 'author': 'Dave Lee', 'publisher': 'fun-coding.org', 'number': 75}\n",
      "{'_id': ObjectId('61d592db5d580c86f7fe21c0'), 'author': 'Dave Lee', 'publisher': 'fun-coding.org', 'number': 76}\n",
      "{'_id': ObjectId('61d592db5d580c86f7fe21c1'), 'author': 'Dave Lee', 'publisher': 'fun-coding.org', 'number': 77}\n",
      "{'_id': ObjectId('61d592db5d580c86f7fe21c2'), 'author': 'Dave Lee', 'publisher': 'fun-coding.org', 'number': 78}\n",
      "{'_id': ObjectId('61d592db5d580c86f7fe21c3'), 'author': 'Dave Lee', 'publisher': 'fun-coding.org', 'number': 79}\n",
      "{'_id': ObjectId('61d592db5d580c86f7fe21c4'), 'author': 'Dave Lee', 'publisher': 'fun-coding.org', 'number': 80}\n",
      "{'_id': ObjectId('61d592db5d580c86f7fe21c5'), 'author': 'Dave Lee', 'publisher': 'fun-coding.org', 'number': 81}\n",
      "{'_id': ObjectId('61d592db5d580c86f7fe21c6'), 'author': 'Dave Lee', 'publisher': 'fun-coding.org', 'number': 82}\n",
      "{'_id': ObjectId('61d592db5d580c86f7fe21c7'), 'author': 'Dave Lee', 'publisher': 'fun-coding.org', 'number': 83}\n",
      "{'_id': ObjectId('61d592db5d580c86f7fe21c8'), 'author': 'Dave Lee', 'publisher': 'fun-coding.org', 'number': 84}\n",
      "{'_id': ObjectId('61d592db5d580c86f7fe21c9'), 'author': 'Dave Lee', 'publisher': 'fun-coding.org', 'number': 85}\n",
      "{'_id': ObjectId('61d592db5d580c86f7fe21ca'), 'author': 'Dave Lee', 'publisher': 'fun-coding.org', 'number': 86}\n",
      "{'_id': ObjectId('61d592db5d580c86f7fe21cb'), 'author': 'Dave Lee', 'publisher': 'fun-coding.org', 'number': 87}\n",
      "{'_id': ObjectId('61d592db5d580c86f7fe21cc'), 'author': 'Dave Lee', 'publisher': 'fun-coding.org', 'number': 88}\n",
      "{'_id': ObjectId('61d592db5d580c86f7fe21cd'), 'author': 'Dave Lee', 'publisher': 'fun-coding.org', 'number': 89}\n",
      "{'_id': ObjectId('61d592db5d580c86f7fe21ce'), 'author': 'Dave Lee', 'publisher': 'fun-coding.org', 'number': 90}\n",
      "{'_id': ObjectId('61d592db5d580c86f7fe21cf'), 'author': 'Dave Lee', 'publisher': 'fun-coding.org', 'number': 91}\n",
      "{'_id': ObjectId('61d592db5d580c86f7fe21d0'), 'author': 'Dave Lee', 'publisher': 'fun-coding.org', 'number': 92}\n",
      "{'_id': ObjectId('61d592db5d580c86f7fe21d1'), 'author': 'Dave Lee', 'publisher': 'fun-coding.org', 'number': 93}\n",
      "{'_id': ObjectId('61d592db5d580c86f7fe21d2'), 'author': 'Dave Lee', 'publisher': 'fun-coding.org', 'number': 94}\n",
      "{'_id': ObjectId('61d592db5d580c86f7fe21d3'), 'author': 'Dave Lee', 'publisher': 'fun-coding.org', 'number': 95}\n",
      "{'_id': ObjectId('61d592db5d580c86f7fe21d4'), 'author': 'Dave Lee', 'publisher': 'fun-coding.org', 'number': 96}\n",
      "{'_id': ObjectId('61d592db5d580c86f7fe21d5'), 'author': 'Dave Lee', 'publisher': 'fun-coding.org', 'number': 97}\n",
      "{'_id': ObjectId('61d592db5d580c86f7fe21d6'), 'author': 'Dave Lee', 'publisher': 'fun-coding.org', 'number': 98}\n",
      "{'_id': ObjectId('61d592db5d580c86f7fe21d7'), 'author': 'Dave Lee', 'publisher': 'fun-coding.org', 'number': 99}\n"
     ]
    }
   ],
   "source": [
    "# CRUD - Read\n",
    "\n",
    "docs = a_book.find()\n",
    "\n",
    "for doc in docs:\n",
    "    print(doc)"
   ]
  },
  {
   "cell_type": "code",
   "execution_count": 77,
   "id": "e1397c9a",
   "metadata": {},
   "outputs": [
    {
     "data": {
      "text/plain": [
       "<pymongo.results.UpdateResult at 0x7feb015e6f50>"
      ]
     },
     "execution_count": 77,
     "metadata": {},
     "output_type": "execute_result"
    }
   ],
   "source": [
    "# CRUD - UPDATE\n",
    "\n",
    "a_book.update_many( {}, { \"$set\": {\"publisher\":\"www.fun-coding.org\"} } )"
   ]
  },
  {
   "cell_type": "code",
   "execution_count": 86,
   "id": "b3bc9704",
   "metadata": {},
   "outputs": [
    {
     "name": "stdout",
     "output_type": "stream",
     "text": [
      "{'_id': ObjectId('61d592db5d580c86f7fe2174'), 'author': 'Dave Lee', 'publisher': 'www.fun-coding.org', 'number': 0}\n",
      "{'_id': ObjectId('61d592db5d580c86f7fe2175'), 'author': 'Dave Lee', 'publisher': 'www.fun-coding.org', 'number': 1}\n",
      "{'_id': ObjectId('61d592db5d580c86f7fe2176'), 'author': 'Dave Lee', 'publisher': 'www.fun-coding.org', 'number': 2}\n",
      "{'_id': ObjectId('61d592db5d580c86f7fe2177'), 'author': 'Dave Lee', 'publisher': 'www.fun-coding.org', 'number': 3}\n",
      "{'_id': ObjectId('61d592db5d580c86f7fe2178'), 'author': 'Dave Lee', 'publisher': 'www.fun-coding.org', 'number': 4}\n",
      "{'_id': ObjectId('61d592db5d580c86f7fe2179'), 'author': 'Dave Lee', 'publisher': 'www.fun-coding.org', 'number': 5}\n",
      "{'_id': ObjectId('61d592db5d580c86f7fe217a'), 'author': 'Dave Lee', 'publisher': 'www.fun-coding.org', 'number': 6}\n",
      "{'_id': ObjectId('61d592db5d580c86f7fe217b'), 'author': 'Dave Lee', 'publisher': 'www.fun-coding.org', 'number': 7}\n",
      "{'_id': ObjectId('61d592db5d580c86f7fe217c'), 'author': 'Dave Lee', 'publisher': 'www.fun-coding.org', 'number': 8}\n",
      "{'_id': ObjectId('61d592db5d580c86f7fe217d'), 'author': 'Dave Lee', 'publisher': 'www.fun-coding.org', 'number': 9}\n",
      "{'_id': ObjectId('61d592db5d580c86f7fe217e'), 'author': 'Dave Lee', 'publisher': 'www.fun-coding.org', 'number': 10}\n",
      "{'_id': ObjectId('61d592db5d580c86f7fe217f'), 'author': 'Dave Lee', 'publisher': 'www.fun-coding.org', 'number': 11}\n",
      "{'_id': ObjectId('61d592db5d580c86f7fe2180'), 'author': 'Dave Lee', 'publisher': 'www.fun-coding.org', 'number': 12}\n",
      "{'_id': ObjectId('61d592db5d580c86f7fe2181'), 'author': 'Dave Lee', 'publisher': 'www.fun-coding.org', 'number': 13}\n",
      "{'_id': ObjectId('61d592db5d580c86f7fe2182'), 'author': 'Dave Lee', 'publisher': 'www.fun-coding.org', 'number': 14}\n",
      "{'_id': ObjectId('61d592db5d580c86f7fe2183'), 'author': 'Dave Lee', 'publisher': 'www.fun-coding.org', 'number': 15}\n",
      "{'_id': ObjectId('61d592db5d580c86f7fe2184'), 'author': 'Dave Lee', 'publisher': 'www.fun-coding.org', 'number': 16}\n",
      "{'_id': ObjectId('61d592db5d580c86f7fe2185'), 'author': 'Dave Lee', 'publisher': 'www.fun-coding.org', 'number': 17}\n",
      "{'_id': ObjectId('61d592db5d580c86f7fe2186'), 'author': 'Dave Lee', 'publisher': 'www.fun-coding.org', 'number': 18}\n",
      "{'_id': ObjectId('61d592db5d580c86f7fe2187'), 'author': 'Dave Lee', 'publisher': 'www.fun-coding.org', 'number': 19}\n",
      "{'_id': ObjectId('61d592db5d580c86f7fe2188'), 'author': 'Dave Lee', 'publisher': 'www.fun-coding.org', 'number': 20}\n",
      "{'_id': ObjectId('61d592db5d580c86f7fe2189'), 'author': 'Dave Lee', 'publisher': 'www.fun-coding.org', 'number': 21}\n",
      "{'_id': ObjectId('61d592db5d580c86f7fe218a'), 'author': 'Dave Lee', 'publisher': 'www.fun-coding.org', 'number': 22}\n",
      "{'_id': ObjectId('61d592db5d580c86f7fe218b'), 'author': 'Dave Lee', 'publisher': 'www.fun-coding.org', 'number': 23}\n",
      "{'_id': ObjectId('61d592db5d580c86f7fe218c'), 'author': 'Dave Lee', 'publisher': 'www.fun-coding.org', 'number': 24}\n",
      "{'_id': ObjectId('61d592db5d580c86f7fe218d'), 'author': 'Dave Lee', 'publisher': 'www.fun-coding.org', 'number': 25}\n",
      "{'_id': ObjectId('61d592db5d580c86f7fe218e'), 'author': 'Dave Lee', 'publisher': 'www.fun-coding.org', 'number': 26}\n",
      "{'_id': ObjectId('61d592db5d580c86f7fe218f'), 'author': 'Dave Lee', 'publisher': 'www.fun-coding.org', 'number': 27}\n",
      "{'_id': ObjectId('61d592db5d580c86f7fe2190'), 'author': 'Dave Lee', 'publisher': 'www.fun-coding.org', 'number': 28}\n",
      "{'_id': ObjectId('61d592db5d580c86f7fe2191'), 'author': 'Dave Lee', 'publisher': 'www.fun-coding.org', 'number': 29}\n",
      "{'_id': ObjectId('61d592db5d580c86f7fe2192'), 'author': 'Dave Lee', 'publisher': 'www.fun-coding.org', 'number': 30}\n",
      "{'_id': ObjectId('61d592db5d580c86f7fe2193'), 'author': 'Dave Lee', 'publisher': 'www.fun-coding.org', 'number': 31}\n",
      "{'_id': ObjectId('61d592db5d580c86f7fe2194'), 'author': 'Dave Lee', 'publisher': 'www.fun-coding.org', 'number': 32}\n",
      "{'_id': ObjectId('61d592db5d580c86f7fe2195'), 'author': 'Dave Lee', 'publisher': 'www.fun-coding.org', 'number': 33}\n",
      "{'_id': ObjectId('61d592db5d580c86f7fe2196'), 'author': 'Dave Lee', 'publisher': 'www.fun-coding.org', 'number': 34}\n",
      "{'_id': ObjectId('61d592db5d580c86f7fe2197'), 'author': 'Dave Lee', 'publisher': 'www.fun-coding.org', 'number': 35}\n",
      "{'_id': ObjectId('61d592db5d580c86f7fe2198'), 'author': 'Dave Lee', 'publisher': 'www.fun-coding.org', 'number': 36}\n",
      "{'_id': ObjectId('61d592db5d580c86f7fe2199'), 'author': 'Dave Lee', 'publisher': 'www.fun-coding.org', 'number': 37}\n",
      "{'_id': ObjectId('61d592db5d580c86f7fe219a'), 'author': 'Dave Lee', 'publisher': 'www.fun-coding.org', 'number': 38}\n",
      "{'_id': ObjectId('61d592db5d580c86f7fe219b'), 'author': 'Dave Lee', 'publisher': 'www.fun-coding.org', 'number': 39}\n",
      "{'_id': ObjectId('61d592db5d580c86f7fe219c'), 'author': 'Dave Lee', 'publisher': 'www.fun-coding.org', 'number': 40}\n",
      "{'_id': ObjectId('61d592db5d580c86f7fe219d'), 'author': 'Dave Lee', 'publisher': 'www.fun-coding.org', 'number': 41}\n",
      "{'_id': ObjectId('61d592db5d580c86f7fe219e'), 'author': 'Dave Lee', 'publisher': 'www.fun-coding.org', 'number': 42}\n",
      "{'_id': ObjectId('61d592db5d580c86f7fe219f'), 'author': 'Dave Lee', 'publisher': 'www.fun-coding.org', 'number': 43}\n",
      "{'_id': ObjectId('61d592db5d580c86f7fe21a0'), 'author': 'Dave Lee', 'publisher': 'www.fun-coding.org', 'number': 44}\n",
      "{'_id': ObjectId('61d592db5d580c86f7fe21a1'), 'author': 'Dave Lee', 'publisher': 'www.fun-coding.org', 'number': 45}\n",
      "{'_id': ObjectId('61d592db5d580c86f7fe21a2'), 'author': 'Dave Lee', 'publisher': 'www.fun-coding.org', 'number': 46}\n",
      "{'_id': ObjectId('61d592db5d580c86f7fe21a3'), 'author': 'Dave Lee', 'publisher': 'www.fun-coding.org', 'number': 47}\n",
      "{'_id': ObjectId('61d592db5d580c86f7fe21a4'), 'author': 'Dave Lee', 'publisher': 'www.fun-coding.org', 'number': 48}\n",
      "{'_id': ObjectId('61d592db5d580c86f7fe21a5'), 'author': 'Dave Lee', 'publisher': 'www.fun-coding.org', 'number': 49}\n",
      "{'_id': ObjectId('61d592db5d580c86f7fe21a6'), 'author': 'Dave Lee', 'publisher': 'www.fun-coding.org', 'number': 50}\n",
      "{'_id': ObjectId('61d592db5d580c86f7fe21a7'), 'author': 'Dave Lee', 'publisher': 'www.fun-coding.org', 'number': 51}\n",
      "{'_id': ObjectId('61d592db5d580c86f7fe21a8'), 'author': 'Dave Lee', 'publisher': 'www.fun-coding.org', 'number': 52}\n",
      "{'_id': ObjectId('61d592db5d580c86f7fe21a9'), 'author': 'Dave Lee', 'publisher': 'www.fun-coding.org', 'number': 53}\n",
      "{'_id': ObjectId('61d592db5d580c86f7fe21aa'), 'author': 'Dave Lee', 'publisher': 'www.fun-coding.org', 'number': 54}\n",
      "{'_id': ObjectId('61d592db5d580c86f7fe21ab'), 'author': 'Dave Lee', 'publisher': 'www.fun-coding.org', 'number': 55}\n",
      "{'_id': ObjectId('61d592db5d580c86f7fe21ac'), 'author': 'Dave Lee', 'publisher': 'www.fun-coding.org', 'number': 56}\n",
      "{'_id': ObjectId('61d592db5d580c86f7fe21ad'), 'author': 'Dave Lee', 'publisher': 'www.fun-coding.org', 'number': 57}\n",
      "{'_id': ObjectId('61d592db5d580c86f7fe21ae'), 'author': 'Dave Lee', 'publisher': 'www.fun-coding.org', 'number': 58}\n",
      "{'_id': ObjectId('61d592db5d580c86f7fe21af'), 'author': 'Dave Lee', 'publisher': 'www.fun-coding.org', 'number': 59}\n",
      "{'_id': ObjectId('61d592db5d580c86f7fe21b0'), 'author': 'Dave Lee', 'publisher': 'www.fun-coding.org', 'number': 60}\n",
      "{'_id': ObjectId('61d592db5d580c86f7fe21b1'), 'author': 'Dave Lee', 'publisher': 'www.fun-coding.org', 'number': 61}\n",
      "{'_id': ObjectId('61d592db5d580c86f7fe21b2'), 'author': 'Dave Lee', 'publisher': 'www.fun-coding.org', 'number': 62}\n",
      "{'_id': ObjectId('61d592db5d580c86f7fe21b3'), 'author': 'Dave Lee', 'publisher': 'www.fun-coding.org', 'number': 63}\n",
      "{'_id': ObjectId('61d592db5d580c86f7fe21b4'), 'author': 'Dave Lee', 'publisher': 'www.fun-coding.org', 'number': 64}\n",
      "{'_id': ObjectId('61d592db5d580c86f7fe21b5'), 'author': 'Dave Lee', 'publisher': 'www.fun-coding.org', 'number': 65}\n",
      "{'_id': ObjectId('61d592db5d580c86f7fe21b6'), 'author': 'Dave Lee', 'publisher': 'www.fun-coding.org', 'number': 66}\n",
      "{'_id': ObjectId('61d592db5d580c86f7fe21b7'), 'author': 'Dave Lee', 'publisher': 'www.fun-coding.org', 'number': 67}\n",
      "{'_id': ObjectId('61d592db5d580c86f7fe21b8'), 'author': 'Dave Lee', 'publisher': 'www.fun-coding.org', 'number': 68}\n",
      "{'_id': ObjectId('61d592db5d580c86f7fe21b9'), 'author': 'Dave Lee', 'publisher': 'www.fun-coding.org', 'number': 69}\n",
      "{'_id': ObjectId('61d592db5d580c86f7fe21ba'), 'author': 'Dave Lee', 'publisher': 'www.fun-coding.org', 'number': 70}\n",
      "{'_id': ObjectId('61d592db5d580c86f7fe21bb'), 'author': 'Dave Lee', 'publisher': 'www.fun-coding.org', 'number': 71}\n",
      "{'_id': ObjectId('61d592db5d580c86f7fe21bc'), 'author': 'Dave Lee', 'publisher': 'www.fun-coding.org', 'number': 72}\n",
      "{'_id': ObjectId('61d592db5d580c86f7fe21bd'), 'author': 'Dave Lee', 'publisher': 'www.fun-coding.org', 'number': 73}\n",
      "{'_id': ObjectId('61d592db5d580c86f7fe21be'), 'author': 'Dave Lee', 'publisher': 'www.fun-coding.org', 'number': 74}\n",
      "{'_id': ObjectId('61d592db5d580c86f7fe21bf'), 'author': 'Dave Lee', 'publisher': 'www.fun-coding.org', 'number': 75}\n",
      "{'_id': ObjectId('61d592db5d580c86f7fe21c0'), 'author': 'Dave Lee', 'publisher': 'www.fun-coding.org', 'number': 76}\n",
      "{'_id': ObjectId('61d592db5d580c86f7fe21c1'), 'author': 'Dave Lee', 'publisher': 'www.fun-coding.org', 'number': 77}\n",
      "{'_id': ObjectId('61d592db5d580c86f7fe21c2'), 'author': 'Dave Lee', 'publisher': 'www.fun-coding.org', 'number': 78}\n",
      "{'_id': ObjectId('61d592db5d580c86f7fe21c3'), 'author': 'Dave Lee', 'publisher': 'www.fun-coding.org', 'number': 79}\n",
      "{'_id': ObjectId('61d592db5d580c86f7fe21c4'), 'author': 'Dave Lee', 'publisher': 'www.fun-coding.org', 'number': 80}\n",
      "{'_id': ObjectId('61d592db5d580c86f7fe21c5'), 'author': 'Dave Lee', 'publisher': 'www.fun-coding.org', 'number': 81}\n",
      "{'_id': ObjectId('61d592db5d580c86f7fe21c6'), 'author': 'Dave Lee', 'publisher': 'www.fun-coding.org', 'number': 82}\n",
      "{'_id': ObjectId('61d592db5d580c86f7fe21c7'), 'author': 'Dave Lee', 'publisher': 'www.fun-coding.org', 'number': 83}\n",
      "{'_id': ObjectId('61d592db5d580c86f7fe21c8'), 'author': 'Dave Lee', 'publisher': 'www.fun-coding.org', 'number': 84}\n",
      "{'_id': ObjectId('61d592db5d580c86f7fe21c9'), 'author': 'Dave Lee', 'publisher': 'www.fun-coding.org', 'number': 85}\n",
      "{'_id': ObjectId('61d592db5d580c86f7fe21ca'), 'author': 'Dave Lee', 'publisher': 'www.fun-coding.org', 'number': 86}\n",
      "{'_id': ObjectId('61d592db5d580c86f7fe21cb'), 'author': 'Dave Lee', 'publisher': 'www.fun-coding.org', 'number': 87}\n",
      "{'_id': ObjectId('61d592db5d580c86f7fe21cc'), 'author': 'Dave Lee', 'publisher': 'www.fun-coding.org', 'number': 88}\n",
      "{'_id': ObjectId('61d592db5d580c86f7fe21cd'), 'author': 'Dave Lee', 'publisher': 'www.fun-coding.org', 'number': 89}\n",
      "{'_id': ObjectId('61d592db5d580c86f7fe21ce'), 'author': 'Dave Lee', 'publisher': 'www.fun-coding.org', 'number': 90}\n",
      "{'_id': ObjectId('61d592db5d580c86f7fe21cf'), 'author': 'Dave Lee', 'publisher': 'www.fun-coding.org', 'number': 91}\n",
      "{'_id': ObjectId('61d592db5d580c86f7fe21d0'), 'author': 'Dave Lee', 'publisher': 'www.fun-coding.org', 'number': 92}\n",
      "{'_id': ObjectId('61d592db5d580c86f7fe21d1'), 'author': 'Dave Lee', 'publisher': 'www.fun-coding.org', 'number': 93}\n",
      "{'_id': ObjectId('61d592db5d580c86f7fe21d2'), 'author': 'Dave Lee', 'publisher': 'www.fun-coding.org', 'number': 94}\n",
      "{'_id': ObjectId('61d592db5d580c86f7fe21d3'), 'author': 'Dave Lee', 'publisher': 'www.fun-coding.org', 'number': 95}\n",
      "{'_id': ObjectId('61d592db5d580c86f7fe21d4'), 'author': 'Dave Lee', 'publisher': 'www.fun-coding.org', 'number': 96}\n",
      "{'_id': ObjectId('61d592db5d580c86f7fe21d5'), 'author': 'Dave Lee', 'publisher': 'www.fun-coding.org', 'number': 97}\n",
      "{'_id': ObjectId('61d592db5d580c86f7fe21d6'), 'author': 'Dave Lee', 'publisher': 'www.fun-coding.org', 'number': 98}\n",
      "{'_id': ObjectId('61d592db5d580c86f7fe21d7'), 'author': 'Dave Lee', 'publisher': 'www.fun-coding.org', 'number': 99}\n"
     ]
    }
   ],
   "source": [
    "docs = a_book.find()\n",
    "\n",
    "for doc in docs:\n",
    "    print(doc)"
   ]
  },
  {
   "cell_type": "code",
   "execution_count": 87,
   "id": "855e14f9",
   "metadata": {},
   "outputs": [
    {
     "data": {
      "text/plain": [
       "<pymongo.results.DeleteResult at 0x7feb01ee5e60>"
      ]
     },
     "execution_count": 87,
     "metadata": {},
     "output_type": "execute_result"
    }
   ],
   "source": [
    "a_book.delete_many( {\"number\": { \"$lt\": 6 } } )"
   ]
  },
  {
   "cell_type": "code",
   "execution_count": 88,
   "id": "ab75b690",
   "metadata": {},
   "outputs": [
    {
     "data": {
      "text/plain": [
       "94"
      ]
     },
     "execution_count": 88,
     "metadata": {},
     "output_type": "execute_result"
    }
   ],
   "source": [
    "a_book.count_documents({})"
   ]
  },
  {
   "cell_type": "code",
   "execution_count": 90,
   "id": "c400cb2d",
   "metadata": {},
   "outputs": [
    {
     "name": "stdout",
     "output_type": "stream",
     "text": [
      "{'_id': ObjectId('61d592db5d580c86f7fe217a'), 'author': 'Dave Lee', 'publisher': 'www.fun-coding.org', 'number': 6}\n",
      "{'_id': ObjectId('61d592db5d580c86f7fe217b'), 'author': 'Dave Lee', 'publisher': 'www.fun-coding.org', 'number': 7}\n",
      "{'_id': ObjectId('61d592db5d580c86f7fe217c'), 'author': 'Dave Lee', 'publisher': 'www.fun-coding.org', 'number': 8}\n",
      "{'_id': ObjectId('61d592db5d580c86f7fe217d'), 'author': 'Dave Lee', 'publisher': 'www.fun-coding.org', 'number': 9}\n",
      "{'_id': ObjectId('61d592db5d580c86f7fe217e'), 'author': 'Dave Lee', 'publisher': 'www.fun-coding.org', 'number': 10}\n",
      "{'_id': ObjectId('61d592db5d580c86f7fe217f'), 'author': 'Dave Lee', 'publisher': 'www.fun-coding.org', 'number': 11}\n",
      "{'_id': ObjectId('61d592db5d580c86f7fe2180'), 'author': 'Dave Lee', 'publisher': 'www.fun-coding.org', 'number': 12}\n",
      "{'_id': ObjectId('61d592db5d580c86f7fe2181'), 'author': 'Dave Lee', 'publisher': 'www.fun-coding.org', 'number': 13}\n",
      "{'_id': ObjectId('61d592db5d580c86f7fe2182'), 'author': 'Dave Lee', 'publisher': 'www.fun-coding.org', 'number': 14}\n",
      "{'_id': ObjectId('61d592db5d580c86f7fe2183'), 'author': 'Dave Lee', 'publisher': 'www.fun-coding.org', 'number': 15}\n",
      "{'_id': ObjectId('61d592db5d580c86f7fe2184'), 'author': 'Dave Lee', 'publisher': 'www.fun-coding.org', 'number': 16}\n",
      "{'_id': ObjectId('61d592db5d580c86f7fe2185'), 'author': 'Dave Lee', 'publisher': 'www.fun-coding.org', 'number': 17}\n",
      "{'_id': ObjectId('61d592db5d580c86f7fe2186'), 'author': 'Dave Lee', 'publisher': 'www.fun-coding.org', 'number': 18}\n",
      "{'_id': ObjectId('61d592db5d580c86f7fe2187'), 'author': 'Dave Lee', 'publisher': 'www.fun-coding.org', 'number': 19}\n",
      "{'_id': ObjectId('61d592db5d580c86f7fe2188'), 'author': 'Dave Lee', 'publisher': 'www.fun-coding.org', 'number': 20}\n",
      "{'_id': ObjectId('61d592db5d580c86f7fe2189'), 'author': 'Dave Lee', 'publisher': 'www.fun-coding.org', 'number': 21}\n",
      "{'_id': ObjectId('61d592db5d580c86f7fe218a'), 'author': 'Dave Lee', 'publisher': 'www.fun-coding.org', 'number': 22}\n",
      "{'_id': ObjectId('61d592db5d580c86f7fe218b'), 'author': 'Dave Lee', 'publisher': 'www.fun-coding.org', 'number': 23}\n",
      "{'_id': ObjectId('61d592db5d580c86f7fe218c'), 'author': 'Dave Lee', 'publisher': 'www.fun-coding.org', 'number': 24}\n",
      "{'_id': ObjectId('61d592db5d580c86f7fe218d'), 'author': 'Dave Lee', 'publisher': 'www.fun-coding.org', 'number': 25}\n",
      "{'_id': ObjectId('61d592db5d580c86f7fe218e'), 'author': 'Dave Lee', 'publisher': 'www.fun-coding.org', 'number': 26}\n",
      "{'_id': ObjectId('61d592db5d580c86f7fe218f'), 'author': 'Dave Lee', 'publisher': 'www.fun-coding.org', 'number': 27}\n",
      "{'_id': ObjectId('61d592db5d580c86f7fe2190'), 'author': 'Dave Lee', 'publisher': 'www.fun-coding.org', 'number': 28}\n",
      "{'_id': ObjectId('61d592db5d580c86f7fe2191'), 'author': 'Dave Lee', 'publisher': 'www.fun-coding.org', 'number': 29}\n",
      "{'_id': ObjectId('61d592db5d580c86f7fe2192'), 'author': 'Dave Lee', 'publisher': 'www.fun-coding.org', 'number': 30}\n",
      "{'_id': ObjectId('61d592db5d580c86f7fe2193'), 'author': 'Dave Lee', 'publisher': 'www.fun-coding.org', 'number': 31}\n",
      "{'_id': ObjectId('61d592db5d580c86f7fe2194'), 'author': 'Dave Lee', 'publisher': 'www.fun-coding.org', 'number': 32}\n",
      "{'_id': ObjectId('61d592db5d580c86f7fe2195'), 'author': 'Dave Lee', 'publisher': 'www.fun-coding.org', 'number': 33}\n",
      "{'_id': ObjectId('61d592db5d580c86f7fe2196'), 'author': 'Dave Lee', 'publisher': 'www.fun-coding.org', 'number': 34}\n",
      "{'_id': ObjectId('61d592db5d580c86f7fe2197'), 'author': 'Dave Lee', 'publisher': 'www.fun-coding.org', 'number': 35}\n",
      "{'_id': ObjectId('61d592db5d580c86f7fe2198'), 'author': 'Dave Lee', 'publisher': 'www.fun-coding.org', 'number': 36}\n",
      "{'_id': ObjectId('61d592db5d580c86f7fe2199'), 'author': 'Dave Lee', 'publisher': 'www.fun-coding.org', 'number': 37}\n",
      "{'_id': ObjectId('61d592db5d580c86f7fe219a'), 'author': 'Dave Lee', 'publisher': 'www.fun-coding.org', 'number': 38}\n",
      "{'_id': ObjectId('61d592db5d580c86f7fe219b'), 'author': 'Dave Lee', 'publisher': 'www.fun-coding.org', 'number': 39}\n",
      "{'_id': ObjectId('61d592db5d580c86f7fe219c'), 'author': 'Dave Lee', 'publisher': 'www.fun-coding.org', 'number': 40}\n",
      "{'_id': ObjectId('61d592db5d580c86f7fe219d'), 'author': 'Dave Lee', 'publisher': 'www.fun-coding.org', 'number': 41}\n",
      "{'_id': ObjectId('61d592db5d580c86f7fe219e'), 'author': 'Dave Lee', 'publisher': 'www.fun-coding.org', 'number': 42}\n",
      "{'_id': ObjectId('61d592db5d580c86f7fe219f'), 'author': 'Dave Lee', 'publisher': 'www.fun-coding.org', 'number': 43}\n",
      "{'_id': ObjectId('61d592db5d580c86f7fe21a0'), 'author': 'Dave Lee', 'publisher': 'www.fun-coding.org', 'number': 44}\n",
      "{'_id': ObjectId('61d592db5d580c86f7fe21a1'), 'author': 'Dave Lee', 'publisher': 'www.fun-coding.org', 'number': 45}\n",
      "{'_id': ObjectId('61d592db5d580c86f7fe21a2'), 'author': 'Dave Lee', 'publisher': 'www.fun-coding.org', 'number': 46}\n",
      "{'_id': ObjectId('61d592db5d580c86f7fe21a3'), 'author': 'Dave Lee', 'publisher': 'www.fun-coding.org', 'number': 47}\n",
      "{'_id': ObjectId('61d592db5d580c86f7fe21a4'), 'author': 'Dave Lee', 'publisher': 'www.fun-coding.org', 'number': 48}\n",
      "{'_id': ObjectId('61d592db5d580c86f7fe21a5'), 'author': 'Dave Lee', 'publisher': 'www.fun-coding.org', 'number': 49}\n",
      "{'_id': ObjectId('61d592db5d580c86f7fe21a6'), 'author': 'Dave Lee', 'publisher': 'www.fun-coding.org', 'number': 50}\n",
      "{'_id': ObjectId('61d592db5d580c86f7fe21a7'), 'author': 'Dave Lee', 'publisher': 'www.fun-coding.org', 'number': 51}\n",
      "{'_id': ObjectId('61d592db5d580c86f7fe21a8'), 'author': 'Dave Lee', 'publisher': 'www.fun-coding.org', 'number': 52}\n",
      "{'_id': ObjectId('61d592db5d580c86f7fe21a9'), 'author': 'Dave Lee', 'publisher': 'www.fun-coding.org', 'number': 53}\n",
      "{'_id': ObjectId('61d592db5d580c86f7fe21aa'), 'author': 'Dave Lee', 'publisher': 'www.fun-coding.org', 'number': 54}\n",
      "{'_id': ObjectId('61d592db5d580c86f7fe21ab'), 'author': 'Dave Lee', 'publisher': 'www.fun-coding.org', 'number': 55}\n",
      "{'_id': ObjectId('61d592db5d580c86f7fe21ac'), 'author': 'Dave Lee', 'publisher': 'www.fun-coding.org', 'number': 56}\n",
      "{'_id': ObjectId('61d592db5d580c86f7fe21ad'), 'author': 'Dave Lee', 'publisher': 'www.fun-coding.org', 'number': 57}\n",
      "{'_id': ObjectId('61d592db5d580c86f7fe21ae'), 'author': 'Dave Lee', 'publisher': 'www.fun-coding.org', 'number': 58}\n",
      "{'_id': ObjectId('61d592db5d580c86f7fe21af'), 'author': 'Dave Lee', 'publisher': 'www.fun-coding.org', 'number': 59}\n",
      "{'_id': ObjectId('61d592db5d580c86f7fe21b0'), 'author': 'Dave Lee', 'publisher': 'www.fun-coding.org', 'number': 60}\n",
      "{'_id': ObjectId('61d592db5d580c86f7fe21b1'), 'author': 'Dave Lee', 'publisher': 'www.fun-coding.org', 'number': 61}\n",
      "{'_id': ObjectId('61d592db5d580c86f7fe21b2'), 'author': 'Dave Lee', 'publisher': 'www.fun-coding.org', 'number': 62}\n",
      "{'_id': ObjectId('61d592db5d580c86f7fe21b3'), 'author': 'Dave Lee', 'publisher': 'www.fun-coding.org', 'number': 63}\n",
      "{'_id': ObjectId('61d592db5d580c86f7fe21b4'), 'author': 'Dave Lee', 'publisher': 'www.fun-coding.org', 'number': 64}\n",
      "{'_id': ObjectId('61d592db5d580c86f7fe21b5'), 'author': 'Dave Lee', 'publisher': 'www.fun-coding.org', 'number': 65}\n",
      "{'_id': ObjectId('61d592db5d580c86f7fe21b6'), 'author': 'Dave Lee', 'publisher': 'www.fun-coding.org', 'number': 66}\n",
      "{'_id': ObjectId('61d592db5d580c86f7fe21b7'), 'author': 'Dave Lee', 'publisher': 'www.fun-coding.org', 'number': 67}\n",
      "{'_id': ObjectId('61d592db5d580c86f7fe21b8'), 'author': 'Dave Lee', 'publisher': 'www.fun-coding.org', 'number': 68}\n",
      "{'_id': ObjectId('61d592db5d580c86f7fe21b9'), 'author': 'Dave Lee', 'publisher': 'www.fun-coding.org', 'number': 69}\n",
      "{'_id': ObjectId('61d592db5d580c86f7fe21ba'), 'author': 'Dave Lee', 'publisher': 'www.fun-coding.org', 'number': 70}\n",
      "{'_id': ObjectId('61d592db5d580c86f7fe21bb'), 'author': 'Dave Lee', 'publisher': 'www.fun-coding.org', 'number': 71}\n",
      "{'_id': ObjectId('61d592db5d580c86f7fe21bc'), 'author': 'Dave Lee', 'publisher': 'www.fun-coding.org', 'number': 72}\n",
      "{'_id': ObjectId('61d592db5d580c86f7fe21bd'), 'author': 'Dave Lee', 'publisher': 'www.fun-coding.org', 'number': 73}\n",
      "{'_id': ObjectId('61d592db5d580c86f7fe21be'), 'author': 'Dave Lee', 'publisher': 'www.fun-coding.org', 'number': 74}\n",
      "{'_id': ObjectId('61d592db5d580c86f7fe21bf'), 'author': 'Dave Lee', 'publisher': 'www.fun-coding.org', 'number': 75}\n",
      "{'_id': ObjectId('61d592db5d580c86f7fe21c0'), 'author': 'Dave Lee', 'publisher': 'www.fun-coding.org', 'number': 76}\n",
      "{'_id': ObjectId('61d592db5d580c86f7fe21c1'), 'author': 'Dave Lee', 'publisher': 'www.fun-coding.org', 'number': 77}\n",
      "{'_id': ObjectId('61d592db5d580c86f7fe21c2'), 'author': 'Dave Lee', 'publisher': 'www.fun-coding.org', 'number': 78}\n",
      "{'_id': ObjectId('61d592db5d580c86f7fe21c3'), 'author': 'Dave Lee', 'publisher': 'www.fun-coding.org', 'number': 79}\n",
      "{'_id': ObjectId('61d592db5d580c86f7fe21c4'), 'author': 'Dave Lee', 'publisher': 'www.fun-coding.org', 'number': 80}\n",
      "{'_id': ObjectId('61d592db5d580c86f7fe21c5'), 'author': 'Dave Lee', 'publisher': 'www.fun-coding.org', 'number': 81}\n",
      "{'_id': ObjectId('61d592db5d580c86f7fe21c6'), 'author': 'Dave Lee', 'publisher': 'www.fun-coding.org', 'number': 82}\n",
      "{'_id': ObjectId('61d592db5d580c86f7fe21c7'), 'author': 'Dave Lee', 'publisher': 'www.fun-coding.org', 'number': 83}\n",
      "{'_id': ObjectId('61d592db5d580c86f7fe21c8'), 'author': 'Dave Lee', 'publisher': 'www.fun-coding.org', 'number': 84}\n",
      "{'_id': ObjectId('61d592db5d580c86f7fe21c9'), 'author': 'Dave Lee', 'publisher': 'www.fun-coding.org', 'number': 85}\n",
      "{'_id': ObjectId('61d592db5d580c86f7fe21ca'), 'author': 'Dave Lee', 'publisher': 'www.fun-coding.org', 'number': 86}\n",
      "{'_id': ObjectId('61d592db5d580c86f7fe21cb'), 'author': 'Dave Lee', 'publisher': 'www.fun-coding.org', 'number': 87}\n",
      "{'_id': ObjectId('61d592db5d580c86f7fe21cc'), 'author': 'Dave Lee', 'publisher': 'www.fun-coding.org', 'number': 88}\n",
      "{'_id': ObjectId('61d592db5d580c86f7fe21cd'), 'author': 'Dave Lee', 'publisher': 'www.fun-coding.org', 'number': 89}\n",
      "{'_id': ObjectId('61d592db5d580c86f7fe21ce'), 'author': 'Dave Lee', 'publisher': 'www.fun-coding.org', 'number': 90}\n",
      "{'_id': ObjectId('61d592db5d580c86f7fe21cf'), 'author': 'Dave Lee', 'publisher': 'www.fun-coding.org', 'number': 91}\n",
      "{'_id': ObjectId('61d592db5d580c86f7fe21d0'), 'author': 'Dave Lee', 'publisher': 'www.fun-coding.org', 'number': 92}\n",
      "{'_id': ObjectId('61d592db5d580c86f7fe21d1'), 'author': 'Dave Lee', 'publisher': 'www.fun-coding.org', 'number': 93}\n",
      "{'_id': ObjectId('61d592db5d580c86f7fe21d2'), 'author': 'Dave Lee', 'publisher': 'www.fun-coding.org', 'number': 94}\n",
      "{'_id': ObjectId('61d592db5d580c86f7fe21d3'), 'author': 'Dave Lee', 'publisher': 'www.fun-coding.org', 'number': 95}\n",
      "{'_id': ObjectId('61d592db5d580c86f7fe21d4'), 'author': 'Dave Lee', 'publisher': 'www.fun-coding.org', 'number': 96}\n",
      "{'_id': ObjectId('61d592db5d580c86f7fe21d5'), 'author': 'Dave Lee', 'publisher': 'www.fun-coding.org', 'number': 97}\n",
      "{'_id': ObjectId('61d592db5d580c86f7fe21d6'), 'author': 'Dave Lee', 'publisher': 'www.fun-coding.org', 'number': 98}\n",
      "{'_id': ObjectId('61d592db5d580c86f7fe21d7'), 'author': 'Dave Lee', 'publisher': 'www.fun-coding.org', 'number': 99}\n"
     ]
    }
   ],
   "source": [
    "docs = a_book.find()\n",
    "for doc in docs:\n",
    "    print(doc)"
   ]
  },
  {
   "cell_type": "code",
   "execution_count": 103,
   "id": "cc2a7816",
   "metadata": {},
   "outputs": [],
   "source": [
    "data2 = []\n",
    "\n",
    "for i in range(7):\n",
    "    data2.append({\"author\":\"Dave Lee\", \"publisher\":\"www.fun-coding.org\", \"number\": i })"
   ]
  },
  {
   "cell_type": "code",
   "execution_count": 104,
   "id": "d0e54d83",
   "metadata": {},
   "outputs": [
    {
     "data": {
      "text/plain": [
       "[{'author': 'Dave Lee', 'publisher': 'www.fun-coding.org', 'number': 0},\n",
       " {'author': 'Dave Lee', 'publisher': 'www.fun-coding.org', 'number': 1},\n",
       " {'author': 'Dave Lee', 'publisher': 'www.fun-coding.org', 'number': 2},\n",
       " {'author': 'Dave Lee', 'publisher': 'www.fun-coding.org', 'number': 3},\n",
       " {'author': 'Dave Lee', 'publisher': 'www.fun-coding.org', 'number': 4},\n",
       " {'author': 'Dave Lee', 'publisher': 'www.fun-coding.org', 'number': 5},\n",
       " {'author': 'Dave Lee', 'publisher': 'www.fun-coding.org', 'number': 6}]"
      ]
     },
     "execution_count": 104,
     "metadata": {},
     "output_type": "execute_result"
    }
   ],
   "source": [
    "data2"
   ]
  },
  {
   "cell_type": "code",
   "execution_count": 105,
   "id": "f09bdaec",
   "metadata": {},
   "outputs": [
    {
     "data": {
      "text/plain": [
       "<pymongo.results.InsertManyResult at 0x7feb015e20f0>"
      ]
     },
     "execution_count": 105,
     "metadata": {},
     "output_type": "execute_result"
    }
   ],
   "source": [
    "a_book.insert_many(data2)"
   ]
  },
  {
   "cell_type": "code",
   "execution_count": 106,
   "id": "aa027431",
   "metadata": {},
   "outputs": [
    {
     "data": {
      "text/plain": [
       "101"
      ]
     },
     "execution_count": 106,
     "metadata": {},
     "output_type": "execute_result"
    }
   ],
   "source": [
    "a_book.count_documents({})"
   ]
  },
  {
   "cell_type": "code",
   "execution_count": 111,
   "id": "9ee2a691",
   "metadata": {},
   "outputs": [
    {
     "data": {
      "text/plain": [
       "{'_id': ObjectId('61d592db5d580c86f7fe217a'),\n",
       " 'author': 'Dave Lee',\n",
       " 'publisher': 'www.fun-coding.org',\n",
       " 'number': 6}"
      ]
     },
     "execution_count": 111,
     "metadata": {},
     "output_type": "execute_result"
    }
   ],
   "source": [
    "a_book.find_one_and_delete({\"number\":6})"
   ]
  },
  {
   "cell_type": "code",
   "execution_count": 112,
   "id": "13469912",
   "metadata": {},
   "outputs": [
    {
     "data": {
      "text/plain": [
       "100"
      ]
     },
     "execution_count": 112,
     "metadata": {},
     "output_type": "execute_result"
    }
   ],
   "source": [
    "a_book.count_documents({})"
   ]
  },
  {
   "cell_type": "code",
   "execution_count": 114,
   "id": "0041de5c",
   "metadata": {},
   "outputs": [
    {
     "data": {
      "text/plain": [
       "<pymongo.results.DeleteResult at 0x7feb022a21e0>"
      ]
     },
     "execution_count": 114,
     "metadata": {},
     "output_type": "execute_result"
    }
   ],
   "source": [
    "a_book.delete_many({\"number\":{\"$gte\":6}})"
   ]
  },
  {
   "cell_type": "code",
   "execution_count": 115,
   "id": "6742a509",
   "metadata": {},
   "outputs": [
    {
     "data": {
      "text/plain": [
       "6"
      ]
     },
     "execution_count": 115,
     "metadata": {},
     "output_type": "execute_result"
    }
   ],
   "source": [
    "a_book.count_documents({})"
   ]
  },
  {
   "cell_type": "code",
   "execution_count": null,
   "id": "9367fe7e",
   "metadata": {},
   "outputs": [],
   "source": []
  }
 ],
 "metadata": {
  "kernelspec": {
   "display_name": "Python 3 (ipykernel)",
   "language": "python",
   "name": "python3"
  },
  "language_info": {
   "codemirror_mode": {
    "name": "ipython",
    "version": 3
   },
   "file_extension": ".py",
   "mimetype": "text/x-python",
   "name": "python",
   "nbconvert_exporter": "python",
   "pygments_lexer": "ipython3",
   "version": "3.7.5"
  }
 },
 "nbformat": 4,
 "nbformat_minor": 5
}
