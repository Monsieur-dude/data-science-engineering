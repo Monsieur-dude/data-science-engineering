{
 "cells": [
  {
   "cell_type": "code",
   "execution_count": 1,
   "id": "76e04c11",
   "metadata": {},
   "outputs": [],
   "source": [
    "import requests\n",
    "from bs4 import BeautifulSoup\n",
    "from selenium import webdriver\n",
    "import time\n",
    "interval = 2\n",
    "\n",
    "url = \"https://sgis.kostat.go.kr/view/catchmentArea/main#\"\n",
    "\n",
    "options = webdriver.ChromeOptions()\n",
    "options.add_argument(\"user-agent=Mozilla/5.0 (Macintosh; Intel Mac OS X 10_15_7) AppleWebKit/537.36 (KHTML, like Gecko) Chrome/92.0.4515.159 Safari/537.36\")\n",
    "\n",
    "browser = webdriver.Chrome(options=options)\n",
    "browser.get(url)\n",
    "\n",
    "# res = requests.get(url)\n",
    "# res.raise_for_status()\n",
    "\n",
    "# 윈도우창 최대화\n",
    "browser.maximize_window()"
   ]
  },
  {
   "cell_type": "code",
   "execution_count": 2,
   "id": "a9aadcb5",
   "metadata": {},
   "outputs": [],
   "source": [
    "# 팝업창 \"취소\" 클릭\n",
    "cancel = browser.find_element_by_class_name(\"ques02\")\n",
    "cancel.click()"
   ]
  },
  {
   "cell_type": "code",
   "execution_count": 3,
   "id": "b2c96d1d",
   "metadata": {},
   "outputs": [],
   "source": [
    "soup = BeautifulSoup(browser.page_source, \"lxml\")"
   ]
  },
  {
   "cell_type": "code",
   "execution_count": 4,
   "id": "f28d924e",
   "metadata": {},
   "outputs": [],
   "source": [
    "# 행정구역 \"도\" 클릭\n",
    "province = browser.find_element_by_class_name(\"selct_91\")\n",
    "province.click()\n",
    "time.sleep(interval)"
   ]
  },
  {
   "cell_type": "code",
   "execution_count": 5,
   "id": "3028acd0",
   "metadata": {},
   "outputs": [],
   "source": [
    "# 서울특별시 선택\n",
    "seoul = browser.find_element_by_css_selector(\"#sido > option:nth-child(1)\")\n",
    "seoul.click()\n",
    "time.sleep(interval)"
   ]
  },
  {
   "cell_type": "code",
   "execution_count": 6,
   "id": "72fef71d",
   "metadata": {},
   "outputs": [],
   "source": [
    "# 행정구역 \"구\" 클릭\n",
    "districts = browser.find_element_by_class_name(\"selct_92\")\n",
    "districts.click()\n",
    "time.sleep(interval)"
   ]
  },
  {
   "cell_type": "code",
   "execution_count": 7,
   "id": "b18882a6",
   "metadata": {},
   "outputs": [
    {
     "name": "stdout",
     "output_type": "stream",
     "text": [
      "강북구 완료했습니다.\n",
      "광진구 완료했습니다.\n",
      "노원구 완료했습니다.\n",
      "도봉구 완료했습니다.\n",
      "동대문구 완료했습니다.\n",
      "성동구 완료했습니다.\n",
      "성북구 완료했습니다.\n",
      "중랑구 완료했습니다.\n",
      "웹 크롤링을 종료합니다.\n",
      "엑셀에 저장을 완료했습니다.\n"
     ]
    }
   ],
   "source": [
    "# 웹 크롤링 및 엑셀파일 만들기\n",
    "import pandas as pd\n",
    "\n",
    "# 데이터가 필요한 구 추가 및 제거\n",
    "districts_list = [\"도봉구\", \"노원구\", \"강북구\", \"성북구\", \"중랑구\", \"동대문구\", \"성동구\", \"광진구\"]\n",
    "districts_list.sort()\n",
    "\n",
    "# 데이터가 필요한 편의시설 추가 및 제거\n",
    "categories = [\"지하철\", \"은행\", \"대형마트\", \"전통시장\", \"병원\", \"응급의료기관\", \"공원\", \"스포츠센터\", \"보건소\", \"사회복지시설\", \"행정기관\", \"백화점\"] # 필요한 시설 추가하기\n",
    "\n",
    "# 엑셀파일 이름 설정 및 생성\n",
    "writer = pd.ExcelWriter('test.xlsx', engine='xlsxwriter') \n",
    "\n",
    "for district in districts_list:\n",
    "    select_district = browser.find_element_by_xpath(f\"//option[contains(text(),'{district}')]\")\n",
    "    select_district.click()\n",
    "    time.sleep(1)\n",
    "    \n",
    "    # 빈 리스트 생성\n",
    "    result = []    \n",
    "\n",
    "#     print(district) - 각 구 선택이 잘 되었는지 확인\n",
    "\n",
    "    for category in categories:\n",
    "        # 편의시설 분류 창 스크롤을 내리기\n",
    "        small_window = browser.find_element_by_id(\"mCSB_1\")\n",
    "        browser.execute_script(\"arguments[0].scrollBy(0,400)\", small_window)\n",
    "\n",
    "        # 리스트 내 카테고리 선택 및 클릭\n",
    "        select_category = browser.find_element_by_xpath(f\"//a[contains(text(),'{category}')]\")\n",
    "        select_category.click()\n",
    "        time.sleep(interval)\n",
    "        soup = BeautifulSoup(browser.page_source, \"lxml\")\n",
    "        category_data = soup.select_one(\"ul.res_li\") \n",
    "        \n",
    "#         print(category) # 각 카테고리 선택이 잘 되었는지 확인\n",
    "        for item in category_data :\n",
    "\n",
    "            # 편의시설 별 데이터 추출\n",
    "            name = item.select('li > span[class=\"sa_txt01\"]')[0].get_text()\n",
    "            category_name = item.select('li > span[class=\"txt02\"]')\n",
    "            location = item.select('li > div[class=\"txt03\"]')\n",
    "            if category_name and location != None:\n",
    "                category_name = item.select('li > span[class=\"txt02\"]')[0].get_text()\n",
    "                location = item.select('li > div[class=\"txt03\"]')[0].get_text()\n",
    "            else :\n",
    "                category_name = None\n",
    "                location = None\n",
    "\n",
    "            data = [name, category_name, location]\n",
    "            result.append(data)\n",
    "#            print(name, category_name, location) # 각 시설 별 데이터가 잘 출력되고 있는지 확인\n",
    "\n",
    "\n",
    "        # 데이터프레임으로 입력 및 엑셀로 추출\n",
    "        df = pd.DataFrame(result)\n",
    "        df.columns = [\"name\", \"category_name\", \"location\"]\n",
    "        df.to_excel(writer,index=False, sheet_name = district)\n",
    "         \n",
    "#        time.sleep(interval) - 컴퓨터 사양에 따라 시간 늘리기, 기본은 2초\n",
    "\n",
    "        # 카테고리로 돌아가기 위해 뒤로가기 버튼 클릭\n",
    "        backToCategory = browser.find_element_by_id(\"mapLocation_2\")\n",
    "        backToCategory.click()\n",
    "        time.sleep(interval)\n",
    "    print(f'{district} 완료했습니다.')\n",
    "print(\"웹 크롤링을 종료합니다.\")\n",
    "writer.save()\n",
    "print(\"엑셀에 저장을 완료했습니다.\")"
   ]
  },
  {
   "cell_type": "code",
   "execution_count": 1,
   "id": "3906bc66",
   "metadata": {},
   "outputs": [
    {
     "name": "stdout",
     "output_type": "stream",
     "text": [
      "웹드라이버를 종료합니다.\n"
     ]
    }
   ],
   "source": [
    "# 웹드라이버 종료\n",
    "print(\"웹드라이버를 종료합니다.\")\n",
    "quit()"
   ]
  }
 ],
 "metadata": {
  "kernelspec": {
   "display_name": "Python 3",
   "language": "python",
   "name": "python3"
  },
  "language_info": {
   "codemirror_mode": {
    "name": "ipython",
    "version": 3
   },
   "file_extension": ".py",
   "mimetype": "text/x-python",
   "name": "python",
   "nbconvert_exporter": "python",
   "pygments_lexer": "ipython3",
   "version": "3.7.5"
  }
 },
 "nbformat": 4,
 "nbformat_minor": 5
}
