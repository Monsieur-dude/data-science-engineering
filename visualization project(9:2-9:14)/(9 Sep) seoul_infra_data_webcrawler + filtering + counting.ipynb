{
 "cells": [
  {
   "cell_type": "markdown",
   "id": "8f86e1db",
   "metadata": {},
   "source": [
    "## 웹크롤링"
   ]
  },
  {
   "cell_type": "code",
   "execution_count": 1,
   "id": "fe25c4c0",
   "metadata": {},
   "outputs": [],
   "source": [
    "from bs4 import BeautifulSoup\n",
    "from selenium import webdriver\n",
    "import time\n",
    "interval = 2\n",
    "\n",
    "url = \"https://sgis.kostat.go.kr/view/catchmentArea/main#\"\n",
    "\n",
    "options = webdriver.ChromeOptions()\n",
    "options.add_argument(\"user-agent=Mozilla/5.0 (Macintosh; Intel Mac OS X 10_15_7) AppleWebKit/537.36 (KHTML, like Gecko) Chrome/92.0.4515.159 Safari/537.36\")\n",
    "\n",
    "# 크롬창을 띄우지 않고 실행(headless)\n",
    "options.headless = True\n",
    "# 윈도우창 사이즈 설정\n",
    "options.add_argument(\"window-size=2560x1600\")\n",
    "\n",
    "browser = webdriver.Chrome(options=options)\n",
    "browser.get(url)\n",
    "\n",
    "# 윈도우창 최대화\n",
    "browser.maximize_window()"
   ]
  },
  {
   "cell_type": "code",
   "execution_count": 2,
   "id": "e6f3cbe2",
   "metadata": {},
   "outputs": [],
   "source": [
    "# 팝업창 \"취소\" 클릭\n",
    "cancel = browser.find_element_by_class_name(\"ques02\")\n",
    "cancel.click()"
   ]
  },
  {
   "cell_type": "code",
   "execution_count": 3,
   "id": "548a1f88",
   "metadata": {},
   "outputs": [],
   "source": [
    "# 웹페이지 정보 가져오기\n",
    "soup = BeautifulSoup(browser.page_source, \"lxml\")"
   ]
  },
  {
   "cell_type": "code",
   "execution_count": 4,
   "id": "e10a6e32",
   "metadata": {},
   "outputs": [],
   "source": [
    "# 행정구역 \"도\" 클릭\n",
    "provinces = browser.find_element_by_class_name(\"selct_91\")\n",
    "provinces.click()\n",
    "time.sleep(interval)"
   ]
  },
  {
   "cell_type": "code",
   "execution_count": 5,
   "id": "fed13287",
   "metadata": {},
   "outputs": [],
   "source": [
    "# 서울특별시 선택\n",
    "seoul = browser.find_element_by_css_selector(\"#sido > option:nth-child(1)\")\n",
    "seoul.click()\n",
    "time.sleep(interval)"
   ]
  },
  {
   "cell_type": "code",
   "execution_count": 6,
   "id": "c7aef1c2",
   "metadata": {},
   "outputs": [],
   "source": [
    "# 행정구역 \"구\" 클릭\n",
    "districts = browser.find_element_by_class_name(\"selct_92\")\n",
    "districts.click()\n",
    "time.sleep(interval)"
   ]
  },
  {
   "cell_type": "code",
   "execution_count": 7,
   "id": "6fd791f9",
   "metadata": {},
   "outputs": [
    {
     "name": "stdout",
     "output_type": "stream",
     "text": [
      "강북구 시작합니다.\n",
      "강북구 완료합니다. \n",
      "\n",
      "노원구 시작합니다.\n",
      "노원구 완료합니다. \n",
      "\n",
      "도봉구 시작합니다.\n",
      "도봉구 완료합니다. \n",
      "\n",
      "웹 크롤링을 종료합니다.\n",
      "엑셀에 저장을 완료했습니다.\n"
     ]
    }
   ],
   "source": [
    "# 웹 크롤링 및 엑셀파일 만들기\n",
    "import pandas as pd\n",
    "\n",
    "# 데이터가 필요한 구 추가 및 제거\n",
    "districts_list = [\"도봉구\", \"노원구\", \"강북구\"]\n",
    "districts_list.sort()\n",
    "\n",
    "# 데이터가 필요한 편의시설 추가 및 제거\n",
    "categories = [\"스포츠센터\", \"응급의료기관\", \"공원\", \"사회복지시설\"] # 필요한 시설 추가하기\n",
    "\n",
    "# 엑셀파일 이름 설정 및 생성\n",
    "writer = pd.ExcelWriter('편의시설 데이터.xlsx', engine=\"openpyxl\") \n",
    "\n",
    "for district in districts_list:\n",
    "    select_district = browser.find_element_by_xpath(f\"//option[contains(text(),'{district}')]\")\n",
    "    select_district.click()\n",
    "    time.sleep(interval)\n",
    "    print(f'{district} 시작합니다.') # \"구\" 선택이 잘 되었는지 확인\n",
    "    \n",
    "    # 빈 리스트 생성\n",
    "    result = []  \n",
    "    for category in categories:\n",
    "        # 편의시설 분류 창 스크롤을 내리기\n",
    "        small_window = browser.find_element_by_id(\"mCSB_1\")\n",
    "        browser.execute_script(\"arguments[0].scrollBy(0,400)\", small_window)\n",
    "\n",
    "        # 리스트 내 카테고리 선택 및 클릭\n",
    "        select_category = browser.find_element_by_xpath(f\"//a[contains(text(),'{category}')]\")\n",
    "        select_category.click()\n",
    "        time.sleep(interval)\n",
    "        soup = BeautifulSoup(browser.page_source, \"lxml\")\n",
    "        category_data = soup.select_one(\"ul.res_li\") \n",
    "        \n",
    "#         print(category) # 카테고리 선택이 잘 되었는지 확인\n",
    "        time.sleep(interval)\n",
    "        for item in category_data :\n",
    "\n",
    "            # 편의시설 별 데이터 추출\n",
    "            name = item.select('li > span[class=\"sa_txt01\"]')[0].get_text()\n",
    "            category_name = item.select('li > span[class=\"txt02\"]')\n",
    "            location = item.select('li > div[class=\"txt03\"]')\n",
    "            \n",
    "            if category_name and location != None:\n",
    "                category_name = item.select('li > span[class=\"txt02\"]')[0].get_text()\n",
    "                location = item.select('li > div[class=\"txt03\"]')[0].get_text()\n",
    "            else :\n",
    "                category_name = soup.find(\"span\", attrs={\"id\":\"ftsdText\"}).get_text()\n",
    "                location = '자료가 없습니다.'\n",
    "\n",
    "            data = [district, name, category_name, location]\n",
    "            result.append(data)\n",
    "#             print(name, category_name, location) # 각 시설 별 데이터가 잘 출력되고 있는지 확인\n",
    "\n",
    "\n",
    "        # 데이터프레임으로 입력 및 엑셀로 추출\n",
    "        df = pd.DataFrame(result)\n",
    "        df.columns = [\"district\", \"name\", \"category_name\", \"location\"]\n",
    "        df.to_excel(writer, index=False, sheet_name=district)\n",
    "        \n",
    "        \n",
    "#        time.sleep(interval) - 컴퓨터 사양에 따라 시간 늘리기, 기본은 2초\n",
    "\n",
    "        # 카테고리로 돌아가기 위해 뒤로가기 버튼 클릭\n",
    "        backToCategory = browser.find_element_by_id(\"mapLocation_2\")\n",
    "        backToCategory.click()\n",
    "        time.sleep(interval)\n",
    "    print(f'{district} 완료합니다.', \"\\n\")\n",
    "\n",
    "print(\"웹 크롤링을 종료합니다.\")\n",
    "writer.save()\n",
    "print(\"엑셀에 저장을 완료했습니다.\")"
   ]
  },
  {
   "cell_type": "code",
   "execution_count": 8,
   "id": "b9807ccc",
   "metadata": {},
   "outputs": [
    {
     "name": "stdout",
     "output_type": "stream",
     "text": [
      "웹드라이버를 종료합니다.\n"
     ]
    }
   ],
   "source": [
    "# 웹드라이버 종료\n",
    "print(\"웹드라이버를 종료합니다.\")\n",
    "quit()"
   ]
  },
  {
   "cell_type": "markdown",
   "id": "19fd0f8c",
   "metadata": {},
   "source": [
    "## 데이터 전처리"
   ]
  },
  {
   "cell_type": "code",
   "execution_count": 27,
   "id": "b7c78cf8",
   "metadata": {},
   "outputs": [
    {
     "name": "stdout",
     "output_type": "stream",
     "text": [
      "필터링 전 강북구 : 263개\n",
      "필터링 후 강북구 : 237개 \n",
      "\n",
      "필터링 전 노원구 : 454개\n",
      "필터링 후 노원구 : 425개 \n",
      "\n",
      "필터링 전 도봉구 : 281개\n",
      "필터링 후 도봉구 : 255개 \n",
      "\n",
      "********** 각 자치구의 편의시설 개수 ********** \n",
      "\n",
      "     스포츠센터  응급의료기관  공원  사회복지시설\n",
      "강북구    193       0   3      41\n",
      "노원구    339       6   0      80\n",
      "도봉구    211       2   2      40\n"
     ]
    }
   ],
   "source": [
    "import pandas as pd\n",
    "districts_list = [\"도봉구\", \"노원구\", \"강북구\"]\n",
    "districts_list.sort()\n",
    "categories = [\"스포츠센터\", \"응급의료기관\", \"공원\", \"사회복지시설\"]\n",
    "\n",
    "# 전처리된 데이터를 저장하기 위해 엑셀파일 만들기\n",
    "writer = pd.ExcelWriter('편의시설 데이터(전처리 후).xlsx', engine='openpyxl')\n",
    "\n",
    "# 전처리를 위한 키워드 추가 및 제거\n",
    "keywords = ['장애인','육아','청소년','아동','현재 시군구에는 해당 시설 유형이 존재하지 않습니다.']\n",
    "\n",
    "# 빈 데이터프레임을 생성\n",
    "df_count = pd.DataFrame(columns=categories)\n",
    "\n",
    "for district in districts_list:\n",
    "    df_district = pd.read_excel('편의시설 데이터.xlsx', sheet_name=district) # raw 데이터 파일 불러오기 \n",
    "    print(f'필터링 전 {district} : {df_district[\"name\"].count()}개')\n",
    "    \n",
    "    filterings = df_district[df_district['name'].str.contains('|'.join(keywords))]\n",
    "    df_district.drop(filterings.index, inplace=True)    \n",
    "    print(f'필터링 후 {district} : {df_district[\"name\"].count()}개', \"\\n\")\n",
    "        \n",
    "    # 필터링 된 데이터를 새로운 액셀파일에 저장\n",
    "    df_district.to_excel(writer, index=False, sheet_name=district)\n",
    "    \n",
    "    \n",
    "    # 편의시설 개수를 빈 데이터프레임에 추가  \n",
    "    df_district.drop(columns=['name','location'], inplace=True)\n",
    "    df_temp = df_district.groupby(by='category_name').count().T\n",
    "    df_temp.rename(index={'district':district}, inplace=True)\n",
    "    df_count = df_count.append(df_temp)\n",
    "\n",
    "# 결측치 처리 후 엑셀파일에 저장\n",
    "df_count.fillna(0, inplace=True)\n",
    "print(\"********** 각 자치구의 편의시설 개수 **********\", \"\\n\")\n",
    "print(df_count)\n",
    "df_count.to_excel(writer, index=True, sheet_name='total district')\n",
    "writer.save()"
   ]
  }
 ],
 "metadata": {
  "kernelspec": {
   "display_name": "Python 3",
   "language": "python",
   "name": "python3"
  },
  "language_info": {
   "codemirror_mode": {
    "name": "ipython",
    "version": 3
   },
   "file_extension": ".py",
   "mimetype": "text/x-python",
   "name": "python",
   "nbconvert_exporter": "python",
   "pygments_lexer": "ipython3",
   "version": "3.7.5"
  }
 },
 "nbformat": 4,
 "nbformat_minor": 5
}
