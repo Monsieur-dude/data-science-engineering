{
 "cells": [
  {
   "cell_type": "code",
   "execution_count": 48,
   "id": "4664026c",
   "metadata": {},
   "outputs": [],
   "source": [
    "from selenium import webdriver"
   ]
  },
  {
   "cell_type": "code",
   "execution_count": 88,
   "id": "bfd254b3",
   "metadata": {},
   "outputs": [],
   "source": [
    "driver = webdriver.Chrome()"
   ]
  },
  {
   "cell_type": "code",
   "execution_count": 89,
   "id": "2410d20b",
   "metadata": {},
   "outputs": [],
   "source": [
    "driver.get(\"https://www.naver.com/\")"
   ]
  },
  {
   "cell_type": "code",
   "execution_count": 87,
   "id": "638073e1",
   "metadata": {},
   "outputs": [],
   "source": [
    "driver.set_window_size(1024, 768)"
   ]
  },
  {
   "cell_type": "code",
   "execution_count": 90,
   "id": "b8e8f1a7",
   "metadata": {},
   "outputs": [],
   "source": [
    "driver.execute_script(\"window.scrollTo(6000, 300);\")"
   ]
  },
  {
   "cell_type": "code",
   "execution_count": 91,
   "id": "bb1af436",
   "metadata": {},
   "outputs": [
    {
     "name": "stdout",
     "output_type": "stream",
     "text": [
      "alert 없음\n"
     ]
    }
   ],
   "source": [
    "try:\n",
    "    alert = driver.switch_to.alert\n",
    "    print(alert.text)\n",
    "except:\n",
    "    print(\"alert 없음\")"
   ]
  },
  {
   "cell_type": "code",
   "execution_count": 92,
   "id": "b53984cf",
   "metadata": {},
   "outputs": [],
   "source": [
    "driver.execute_script(\"alert('selenium text');\")"
   ]
  },
  {
   "cell_type": "code",
   "execution_count": 93,
   "id": "19fac6d6",
   "metadata": {},
   "outputs": [
    {
     "name": "stdout",
     "output_type": "stream",
     "text": [
      "selenium text\n"
     ]
    }
   ],
   "source": [
    "try:\n",
    "    alert = driver.switch_to.alert\n",
    "    print(alert.text)\n",
    "except:\n",
    "    print(\"alert 없음\")"
   ]
  },
  {
   "cell_type": "code",
   "execution_count": 94,
   "id": "9f6f85cd",
   "metadata": {},
   "outputs": [],
   "source": [
    "alert.accept()"
   ]
  },
  {
   "cell_type": "code",
   "execution_count": 99,
   "id": "679bfe38",
   "metadata": {},
   "outputs": [],
   "source": [
    "driver.find_element_by_css_selector(\".btn_submit\").click()"
   ]
  },
  {
   "cell_type": "code",
   "execution_count": 101,
   "id": "43b112d2",
   "metadata": {},
   "outputs": [],
   "source": [
    "driver.get(\"http://ted.com/talks\")"
   ]
  },
  {
   "cell_type": "code",
   "execution_count": 104,
   "id": "8fd280f4",
   "metadata": {},
   "outputs": [
    {
     "data": {
      "text/plain": [
       "'Join TED Recommends to get the best ideas, selected just for you'"
      ]
     },
     "execution_count": 104,
     "metadata": {},
     "output_type": "execute_result"
    }
   ],
   "source": [
    "driver.find_element_by_css_selector('#banner-secondary').text"
   ]
  },
  {
   "cell_type": "code",
   "execution_count": 112,
   "id": "596a2f19",
   "metadata": {},
   "outputs": [
    {
     "data": {
      "text/plain": [
       "36"
      ]
     },
     "execution_count": 112,
     "metadata": {},
     "output_type": "execute_result"
    }
   ],
   "source": [
    "contents = driver.find_elements_by_css_selector('#browse-results > div > .col')\n",
    "len(contents)"
   ]
  },
  {
   "cell_type": "code",
   "execution_count": 113,
   "id": "ef932771",
   "metadata": {},
   "outputs": [
    {
     "data": {
      "text/plain": [
       "'The secret society of the Great Dismal Swamp'"
      ]
     },
     "execution_count": 113,
     "metadata": {},
     "output_type": "execute_result"
    }
   ],
   "source": [
    "contents[0].find_element_by_css_selector('.media > .media__message .ga-link').text"
   ]
  },
  {
   "cell_type": "code",
   "execution_count": 114,
   "id": "372bd7af",
   "metadata": {},
   "outputs": [],
   "source": [
    "titles = []\n",
    "for content in contents:\n",
    "    title = content.find_element_by_css_selector('.media > .media__message .ga-link').text\n",
    "    titles.append(title)"
   ]
  },
  {
   "cell_type": "code",
   "execution_count": 115,
   "id": "e38ebe10",
   "metadata": {},
   "outputs": [
    {
     "data": {
      "text/plain": [
       "[\"History's deadliest king\",\n",
       " \"A cleanse won't detox your body — but here's what will\",\n",
       " 'What should humans take to space (and leave behind)?',\n",
       " 'Could we build a wooden skyscraper?',\n",
       " \"Why aren't there more Native American restaurants?\"]"
      ]
     },
     "execution_count": 115,
     "metadata": {},
     "output_type": "execute_result"
    }
   ],
   "source": [
    "titles[-5:]"
   ]
  },
  {
   "cell_type": "code",
   "execution_count": 120,
   "id": "f86881cf",
   "metadata": {},
   "outputs": [
    {
     "data": {
      "text/plain": [
       "['English', 'Español', '日本語', 'Português brasileiro', '中文 (繁體)', '한국어']"
      ]
     },
     "execution_count": 120,
     "metadata": {},
     "output_type": "execute_result"
    }
   ],
   "source": [
    "languages = driver.find_element_by_css_selector('#languages').text\n",
    "languages = languages.split(\"\\n\")[1:-1]\n",
    "languages"
   ]
  },
  {
   "cell_type": "code",
   "execution_count": 121,
   "id": "a0b23118",
   "metadata": {},
   "outputs": [],
   "source": [
    "driver.find_element_by_css_selector('#languages [lang=\"ko\"]').click()"
   ]
  },
  {
   "cell_type": "code",
   "execution_count": 123,
   "id": "4d045781",
   "metadata": {},
   "outputs": [
    {
     "data": {
      "text/plain": [
       "['지역 사회와 가능성을 위해 만들어진 재미있고 멋진 공공 공간',\n",
       " '인테넷에서 마음의 평화를 되찾는 법',\n",
       " '트로이 전쟁의 수수께끼를 풀 수 있나요? - 데니스 E. 샤샤(Dennis E. Shasha)',\n",
       " '똥을 하루에 한 번씩 누지 않아도 되는 이유',\n",
       " '질병 치료법을 바꿔 놓을 전자약']"
      ]
     },
     "execution_count": 123,
     "metadata": {},
     "output_type": "execute_result"
    }
   ],
   "source": [
    "import time\n",
    "time.sleep(3)\n",
    "contents = driver.find_elements_by_css_selector('#browse-results > div > .col')\n",
    "titles = []\n",
    "for content in contents:\n",
    "    title = content.find_element_by_css_selector('.media > .media__message .ga-link').text\n",
    "    titles.append(title)\n",
    "titles[-5:]"
   ]
  },
  {
   "cell_type": "code",
   "execution_count": 125,
   "id": "bf6cefec",
   "metadata": {},
   "outputs": [
    {
     "data": {
      "text/plain": [
       "['거의 모든 것을 증명할 수 있는 방법 - 제임스 A.스미스(James A. Smith)',\n",
       " '아이슬란드의 초강력 지하 화산들 - Jean-Baptiste P. Koehl (장 바티스트 코엘)',\n",
       " \"고대 올림픽의 기원 |아마드 디'안고어 (Armand D'Angour)\",\n",
       " '맨 왕국의 흥망성쇠 - 앤드류 맥도널드(Andrew McDonald)',\n",
       " '수학의 중심에 있는 역설: 괴델의 불완전성 정리 - 마커스 드 사토이',\n",
       " '왜 COP26이 친환경 미래를 만들기 위한 최고의 기회일까요?']"
      ]
     },
     "execution_count": 125,
     "metadata": {},
     "output_type": "execute_result"
    }
   ],
   "source": [
    "titles[0:6]"
   ]
  },
  {
   "cell_type": "code",
   "execution_count": 126,
   "id": "36ba4d80",
   "metadata": {},
   "outputs": [
    {
     "data": {
      "text/plain": [
       "['https://www.ted.com/talks/matthew_mazzotta_playful_wondrous_public_spaces_built_for_community_and_possibility?language=ko',\n",
       " 'https://www.ted.com/talks/naomi_shimada_tips_for_reclaiming_your_peace_of_mind_online?language=ko',\n",
       " 'https://www.ted.com/talks/dennis_shasha_can_you_solve_the_trojan_war_riddle?language=ko',\n",
       " 'https://www.ted.com/talks/jen_gunter_why_you_shouldn_t_worry_about_pooping_once_a_day?language=ko',\n",
       " 'https://www.ted.com/talks/khalil_ramadi_electronic_pills_that_could_transform_how_we_treat_disease?language=ko']"
      ]
     },
     "execution_count": 126,
     "metadata": {},
     "output_type": "execute_result"
    }
   ],
   "source": [
    "time.sleep(3)\n",
    "contents = driver.find_elements_by_css_selector('#browse-results > div > .col')\n",
    "links = []\n",
    "for content in contents:\n",
    "    link = content.find_element_by_css_selector('.media > .media__message .ga-link').get_attribute('href')\n",
    "    links.append(link)\n",
    "links[-5:]"
   ]
  },
  {
   "cell_type": "code",
   "execution_count": 127,
   "id": "820ba91e",
   "metadata": {},
   "outputs": [
    {
     "data": {
      "text/plain": [
       "['https://www.ted.com/talks/james_a_smith_the_method_that_can_prove_almost_anything?language=ko',\n",
       " 'https://www.ted.com/talks/jean_baptiste_p_koehl_iceland_s_superpowered_underground_volcanoes?language=ko',\n",
       " 'https://www.ted.com/talks/armand_d_angour_the_ancient_origins_of_the_olympics?language=ko',\n",
       " 'https://www.ted.com/talks/andrew_mcdonald_the_rise_and_fall_of_the_kingdom_of_man?language=ko',\n",
       " 'https://www.ted.com/talks/marcus_du_sautoy_the_paradox_at_the_heart_of_mathematics_godel_s_incompleteness_theorem?language=ko',\n",
       " 'https://www.ted.com/talks/alok_sharma_why_cop26_is_our_best_chance_for_a_greener_future?language=ko']"
      ]
     },
     "execution_count": 127,
     "metadata": {},
     "output_type": "execute_result"
    }
   ],
   "source": [
    "links[0:6]"
   ]
  },
  {
   "cell_type": "code",
   "execution_count": 128,
   "id": "59575c87",
   "metadata": {},
   "outputs": [],
   "source": [
    "driver.quit()"
   ]
  },
  {
   "cell_type": "code",
   "execution_count": null,
   "id": "e57bf99b",
   "metadata": {},
   "outputs": [],
   "source": []
  }
 ],
 "metadata": {
  "kernelspec": {
   "display_name": "Python 3",
   "language": "python",
   "name": "python3"
  },
  "language_info": {
   "codemirror_mode": {
    "name": "ipython",
    "version": 3
   },
   "file_extension": ".py",
   "mimetype": "text/x-python",
   "name": "python",
   "nbconvert_exporter": "python",
   "pygments_lexer": "ipython3",
   "version": "3.7.5"
  }
 },
 "nbformat": 4,
 "nbformat_minor": 5
}
