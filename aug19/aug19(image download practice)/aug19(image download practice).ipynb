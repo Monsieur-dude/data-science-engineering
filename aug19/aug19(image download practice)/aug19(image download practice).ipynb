{
 "cells": [
  {
   "cell_type": "code",
   "execution_count": 139,
   "id": "3aaf9a83",
   "metadata": {},
   "outputs": [],
   "source": [
    "import requests \n",
    "from bs4 import BeautifulSoup\n",
    "\n",
    "# 2019년 네이버 영화순위 \n",
    "url = \"https://search.naver.com/search.naver?where=nexearch&sm=top_hty&fbm=1&ie=utf8&query=2019년+영화+순위\"\n",
    "res = requests.get(url)\n",
    "res.raise_for_status()\n",
    "\n",
    "soup = BeautifulSoup(res.text, \"lxml\")\n",
    "images = soup.find_all(\"div\", attrs={\"class\":\"thumb\"})\n",
    "\n",
    "# 영화순위 1-100위까지\n",
    "for i in range(len(images)) :\n",
    "    image = images[i]\n",
    "    image_url = image.find('img').get('src')\n",
    "\n",
    "    image_url_res = requests.get(image_url)\n",
    "    image_url_res.raise_for_status()\n",
    "\n",
    "    with open(\"movie {}\".format(i+1), \"wb\") as f:\n",
    "        f.write(image_url_res.content)\n"
   ]
  },
  {
   "cell_type": "code",
   "execution_count": 126,
   "id": "fd217a70",
   "metadata": {},
   "outputs": [
    {
     "data": {
      "text/plain": [
       "'https://search.pstatic.net/common?type=o&size=117x164&quality=100&direct=true&src=https%3A%2F%2Fs.pstatic.net%2Fmovie.phinf%2F20190515_46%2F1557882912961juo5g_JPEG%2Fmovie_image.jpg'"
      ]
     },
     "execution_count": 126,
     "metadata": {},
     "output_type": "execute_result"
    }
   ],
   "source": [
    "images_urls"
   ]
  },
  {
   "cell_type": "code",
   "execution_count": 92,
   "id": "1a157d4f",
   "metadata": {},
   "outputs": [
    {
     "data": {
      "text/plain": [
       "'https://search.pstatic.net/common?type=o&size=117x164&quality=100&direct=true&src=https%3A%2F%2Fs.pstatic.net%2Fmovie.phinf%2F20190116_206%2F1547615429111dINWj_JPEG%2Fmovie_image.jpg'"
      ]
     },
     "execution_count": 92,
     "metadata": {},
     "output_type": "execute_result"
    }
   ],
   "source": [
    "images[0].find(\"img\").get(\"src\")"
   ]
  },
  {
   "cell_type": "code",
   "execution_count": 143,
   "id": "614d309a",
   "metadata": {},
   "outputs": [],
   "source": [
    "# 2015-2020년 네이버 영화순위\n",
    "\n",
    "# 2015-2020년\n",
    "for year in range(2015,2021) :\n",
    "\n",
    "    url = \"https://search.naver.com/search.naver?where=nexearch&sm=top_hty&fbm=1&ie=utf8&query={}년+영화+순위\".format(year)\n",
    "    res = requests.get(url)\n",
    "    res.raise_for_status()\n",
    "\n",
    "    soup = BeautifulSoup(res.text, \"lxml\")\n",
    "    images = soup.find_all(\"div\", attrs={\"class\":\"thumb\"})\n",
    "\n",
    "# 영화순위 1-5위까지\n",
    "    for i in range(5) :\n",
    "        image = images[i]\n",
    "        image_url = image.find('img').get('src')\n",
    "\n",
    "        image_url_res = requests.get(image_url)\n",
    "        image_url_res.raise_for_status()\n",
    "\n",
    "        with open(\"movie_{}년 {}위\".format(year, i+1), \"wb\") as f:\n",
    "            f.write(image_url_res.content)\n"
   ]
  },
  {
   "cell_type": "code",
   "execution_count": null,
   "id": "625b31c3",
   "metadata": {},
   "outputs": [],
   "source": []
  }
 ],
 "metadata": {
  "kernelspec": {
   "display_name": "Python 3",
   "language": "python",
   "name": "python3"
  },
  "language_info": {
   "codemirror_mode": {
    "name": "ipython",
    "version": 3
   },
   "file_extension": ".py",
   "mimetype": "text/x-python",
   "name": "python",
   "nbconvert_exporter": "python",
   "pygments_lexer": "ipython3",
   "version": "3.7.5"
  }
 },
 "nbformat": 4,
 "nbformat_minor": 5
}
