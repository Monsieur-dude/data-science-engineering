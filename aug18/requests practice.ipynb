{
 "cells": [
  {
   "cell_type": "code",
   "execution_count": 1,
   "id": "bb363ab2",
   "metadata": {},
   "outputs": [],
   "source": [
    "import requests"
   ]
  },
  {
   "cell_type": "code",
   "execution_count": 7,
   "id": "8288cced",
   "metadata": {},
   "outputs": [],
   "source": [
    "res = requests.get(\"http://google.com\")"
   ]
  },
  {
   "cell_type": "code",
   "execution_count": 3,
   "id": "d82f0d0c",
   "metadata": {},
   "outputs": [
    {
     "name": "stdout",
     "output_type": "stream",
     "text": [
      "response code:  200\n"
     ]
    }
   ],
   "source": [
    "print(\"response code: \", res.status_code)"
   ]
  },
  {
   "cell_type": "code",
   "execution_count": 5,
   "id": "72ba160d",
   "metadata": {},
   "outputs": [
    {
     "name": "stdout",
     "output_type": "stream",
     "text": [
      "Everything works well\n"
     ]
    }
   ],
   "source": [
    "if res.status_code == requests.codes.ok:\n",
    "    print(\"Everything works well\")\n",
    "else :\n",
    "    print(\"There is a problme. [Error code \", res.status_code, \"]\")"
   ]
  },
  {
   "cell_type": "code",
   "execution_count": 8,
   "id": "cad12fd6",
   "metadata": {},
   "outputs": [
    {
     "name": "stdout",
     "output_type": "stream",
     "text": [
      "14029\n"
     ]
    }
   ],
   "source": [
    "print(len(res.text))"
   ]
  },
  {
   "cell_type": "code",
   "execution_count": 11,
   "id": "ec677a65",
   "metadata": {},
   "outputs": [],
   "source": [
    "with open(\"mygoogle.html\", \"w\", encoding=\"utf-8\") as f:\n",
    "    f.write(res.text)"
   ]
  },
  {
   "cell_type": "code",
   "execution_count": null,
   "id": "b657dec7",
   "metadata": {},
   "outputs": [],
   "source": []
  }
 ],
 "metadata": {
  "kernelspec": {
   "display_name": "Python 3",
   "language": "python",
   "name": "python3"
  },
  "language_info": {
   "codemirror_mode": {
    "name": "ipython",
    "version": 3
   },
   "file_extension": ".py",
   "mimetype": "text/x-python",
   "name": "python",
   "nbconvert_exporter": "python",
   "pygments_lexer": "ipython3",
   "version": "3.7.5"
  }
 },
 "nbformat": 4,
 "nbformat_minor": 5
}
