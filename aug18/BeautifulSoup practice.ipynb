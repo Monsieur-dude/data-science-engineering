{
 "cells": [
  {
   "cell_type": "code",
   "execution_count": 1,
   "id": "88add550",
   "metadata": {},
   "outputs": [],
   "source": [
    "import requests\n",
    "from bs4 import BeautifulSoup"
   ]
  },
  {
   "cell_type": "code",
   "execution_count": 4,
   "id": "225a4ede",
   "metadata": {},
   "outputs": [
    {
     "name": "stdout",
     "output_type": "stream",
     "text": [
      "<title>네이버 만화</title>\n",
      "네이버 만화\n"
     ]
    }
   ],
   "source": [
    "url =\"https://comic.naver.com/index\"\n",
    "res = requests.get(url)\n",
    "res.raise_for_status()\n",
    "\n",
    "soup = BeautifulSoup(res.text, \"lxml\")\n",
    "print(soup.title)\n",
    "print(soup.title.get_text())"
   ]
  },
  {
   "cell_type": "code",
   "execution_count": 10,
   "id": "d6381706",
   "metadata": {},
   "outputs": [
    {
     "name": "stdout",
     "output_type": "stream",
     "text": [
      "<a href=\"#menu\" onclick=\"document.getElementById('menu').tabIndex=-1;document.getElementById('menu').focus();return false;\"><span>메인 메뉴로 바로가기</span></a>\n"
     ]
    }
   ],
   "source": [
    "print(soup.a)"
   ]
  },
  {
   "cell_type": "code",
   "execution_count": 6,
   "id": "5ac80f43",
   "metadata": {},
   "outputs": [
    {
     "name": "stdout",
     "output_type": "stream",
     "text": [
      "{'href': '#menu', 'onclick': \"document.getElementById('menu').tabIndex=-1;document.getElementById('menu').focus();return false;\"}\n"
     ]
    }
   ],
   "source": [
    "print(soup.a.attrs)"
   ]
  },
  {
   "cell_type": "code",
   "execution_count": 11,
   "id": "07a222e9",
   "metadata": {},
   "outputs": [
    {
     "name": "stdout",
     "output_type": "stream",
     "text": [
      "document.getElementById('menu').tabIndex=-1;document.getElementById('menu').focus();return false;\n"
     ]
    }
   ],
   "source": [
    "print(soup.a[\"onclick\"])"
   ]
  },
  {
   "cell_type": "code",
   "execution_count": 15,
   "id": "39c8e9c9",
   "metadata": {},
   "outputs": [
    {
     "name": "stdout",
     "output_type": "stream",
     "text": [
      "<a class=\"Nbtn_upload\" href=\"/mypage/myActivity\" onclick=\"nclk_v2(event,'olk.upload');\">웹툰 올리기</a>\n"
     ]
    }
   ],
   "source": [
    "print(soup.find(\"a\", attrs={\"class\":\"Nbtn_upload\"}))"
   ]
  },
  {
   "cell_type": "code",
   "execution_count": 22,
   "id": "c050ab35",
   "metadata": {},
   "outputs": [
    {
     "data": {
      "text/plain": [
       "<a href=\"/webtoon/detail?titleId=570503&amp;no=368\" onclick=\"nclk_v2(event,'rnk*p.cont','570503','1')\" title=\"연애혁명-364. Changes\">연애혁명-364. Changes</a>"
      ]
     },
     "execution_count": 22,
     "metadata": {},
     "output_type": "execute_result"
    }
   ],
   "source": [
    "rank1 = soup.find(\"li\", attrs={\"class\":\"rank01\"})\n",
    "rank1.a"
   ]
  },
  {
   "cell_type": "code",
   "execution_count": 23,
   "id": "946a56e0",
   "metadata": {},
   "outputs": [
    {
     "data": {
      "text/plain": [
       "'연애혁명-364. Changes'"
      ]
     },
     "execution_count": 23,
     "metadata": {},
     "output_type": "execute_result"
    }
   ],
   "source": [
    "rank1.a.get_text()"
   ]
  },
  {
   "cell_type": "code",
   "execution_count": 33,
   "id": "d2df4c14",
   "metadata": {},
   "outputs": [
    {
     "name": "stdout",
     "output_type": "stream",
     "text": [
      "노답소녀-41화\n"
     ]
    }
   ],
   "source": [
    "rank2 = rank1.next_sibling.next_sibling\n",
    "rank3 = rank2.next_sibling.next_sibling\n",
    "print(rank3.a.get_text())"
   ]
  },
  {
   "cell_type": "code",
   "execution_count": 37,
   "id": "e4d66e7c",
   "metadata": {},
   "outputs": [
    {
     "data": {
      "text/plain": [
       "'더 복서-87화 괴물(2)'"
      ]
     },
     "execution_count": 37,
     "metadata": {},
     "output_type": "execute_result"
    }
   ],
   "source": [
    "rank2 = rank1.find_next_sibling(\"li\")\n",
    "rank2.a.get_text()"
   ]
  },
  {
   "cell_type": "code",
   "execution_count": 39,
   "id": "962dcf58",
   "metadata": {},
   "outputs": [
    {
     "data": {
      "text/plain": [
       "'노답소녀-41화'"
      ]
     },
     "execution_count": 39,
     "metadata": {},
     "output_type": "execute_result"
    }
   ],
   "source": [
    "rank3 = rank2.find_next_sibling(\"li\")\n",
    "rank3.a.get_text()"
   ]
  },
  {
   "cell_type": "code",
   "execution_count": 43,
   "id": "35d212f6",
   "metadata": {},
   "outputs": [
    {
     "data": {
      "text/plain": [
       "[<li class=\"rank02\">\n",
       " <a href=\"/webtoon/detail?titleId=736989&amp;no=92\" onclick=\"nclk_v2(event,'rnk*p.cont','736989','2')\" title=\"더 복서-87화 괴물(2)\">더 복서-87화 괴물(2)</a>\n",
       " <span class=\"rankBox\">\n",
       " <img alt=\"변동없음\" height=\"10\" src=\"https://ssl.pstatic.net/static/comic/images/migration/common/arrow_no.gif\" title=\"변동없음\" width=\"7\"/> 0\n",
       " \t\t\t\t\t\t\n",
       " \t\t\t\t\t\n",
       " \t\t\t\t</span>\n",
       " </li>,\n",
       " <li class=\"rank03\">\n",
       " <a href=\"/webtoon/detail?titleId=756137&amp;no=41\" onclick=\"nclk_v2(event,'rnk*p.cont','756137','3')\" title=\"노답소녀-41화\">노답소녀-41화</a>\n",
       " <span class=\"rankBox\">\n",
       " <img alt=\"변동없음\" height=\"10\" src=\"https://ssl.pstatic.net/static/comic/images/migration/common/arrow_no.gif\" title=\"변동없음\" width=\"7\"/> 0\n",
       " \t\t\t\t\t\t\n",
       " \t\t\t\t\t\n",
       " \t\t\t\t</span>\n",
       " </li>,\n",
       " <li class=\"rank04\">\n",
       " <a href=\"/webtoon/detail?titleId=731130&amp;no=108\" onclick=\"nclk_v2(event,'rnk*p.cont','731130','4')\" title=\"이두나!-104화. 이원준의 취중진담 (2)\">이두나!-104화. 이원준의 취중진담 (2)</a>\n",
       " <span class=\"rankBox\">\n",
       " <img alt=\"변동없음\" height=\"10\" src=\"https://ssl.pstatic.net/static/comic/images/migration/common/arrow_no.gif\" title=\"변동없음\" width=\"7\"/> 0\n",
       " \t\t\t\t\t\t\n",
       " \t\t\t\t\t\n",
       " \t\t\t\t</span>\n",
       " </li>,\n",
       " <li class=\"rank05\">\n",
       " <a href=\"/webtoon/detail?titleId=747271&amp;no=62\" onclick=\"nclk_v2(event,'rnk*p.cont','747271','5')\" title=\"나노마신-062. 제24장. 육검(六劍) (1)\">나노마신-062. 제24장. 육검(六劍) (1)</a>\n",
       " <span class=\"rankBox\">\n",
       " <img alt=\"순위상승\" height=\"10\" src=\"https://ssl.pstatic.net/static/comic/images/migration/common/arrow_up.gif\" title=\"순위상승\" width=\"7\"/>1\n",
       " \t\t\t\t\t\t\n",
       " \t\t\t\t\t\t\n",
       " \t\t\t\t\t\n",
       " \t\t\t\t</span>\n",
       " </li>,\n",
       " <li class=\"rank06\">\n",
       " <a href=\"/webtoon/detail?titleId=775218&amp;no=8\" onclick=\"nclk_v2(event,'rnk*p.cont','775218','6')\" title=\"묵시의 인플루언서-8화\">묵시의 인플루언서-8화</a>\n",
       " <span class=\"rankBox\">\n",
       " <img alt=\"순위상승\" height=\"10\" src=\"https://ssl.pstatic.net/static/comic/images/migration/common/arrow_up.gif\" title=\"순위상승\" width=\"7\"/>1\n",
       " \t\t\t\t\t\t\n",
       " \t\t\t\t\t\t\n",
       " \t\t\t\t\t\n",
       " \t\t\t\t</span>\n",
       " </li>,\n",
       " <li class=\"rank07\">\n",
       " <a href=\"/webtoon/detail?titleId=557672&amp;no=362\" onclick=\"nclk_v2(event,'rnk*p.cont','557672','7')\" title=\"기기괴괴-342화 악마의 눈 #4 (완)\">기기괴괴-342화 악마의 눈 #4 (완)</a>\n",
       " <span class=\"rankBox\">\n",
       " <img alt=\"순위하락\" height=\"10\" src=\"https://ssl.pstatic.net/static/comic/images/migration/common/arrow_down.gif\" title=\"순위하락\" width=\"7\"/>2\n",
       " \t\t\t\t\t\t\n",
       " \t\t\t\t\t\t\n",
       " \t\t\t\t\t\t\n",
       " \t\t\t\t\t\n",
       " \t\t\t\t</span>\n",
       " </li>,\n",
       " <li class=\"rank08\">\n",
       " <a href=\"/webtoon/detail?titleId=762279&amp;no=34\" onclick=\"nclk_v2(event,'rnk*p.cont','762279','8')\" title=\"정글쥬스-34화\">정글쥬스-34화</a>\n",
       " <span class=\"rankBox\">\n",
       " <img alt=\"순위상승\" height=\"10\" src=\"https://ssl.pstatic.net/static/comic/images/migration/common/arrow_up.gif\" title=\"순위상승\" width=\"7\"/>1\n",
       " \t\t\t\t\t\t\n",
       " \t\t\t\t\t\t\n",
       " \t\t\t\t\t\n",
       " \t\t\t\t</span>\n",
       " </li>,\n",
       " <li class=\"rank09\">\n",
       " <a href=\"/webtoon/detail?titleId=739503&amp;no=84\" onclick=\"nclk_v2(event,'rnk*p.cont','739503','9')\" title=\"화이트 블러드-83화\">화이트 블러드-83화</a>\n",
       " <span class=\"rankBox\">\n",
       " <img alt=\"순위하락\" height=\"10\" src=\"https://ssl.pstatic.net/static/comic/images/migration/common/arrow_down.gif\" title=\"순위하락\" width=\"7\"/>1\n",
       " \t\t\t\t\t\t\n",
       " \t\t\t\t\t\t\n",
       " \t\t\t\t\t\t\n",
       " \t\t\t\t\t\n",
       " \t\t\t\t</span>\n",
       " </li>,\n",
       " <li class=\"rank10\">\n",
       " <a href=\"/webtoon/detail?titleId=770523&amp;no=20\" onclick=\"nclk_v2(event,'rnk*p.cont','770523','10')\" title=\"흑막 여주가 날 새엄마로 만들려고 해-20화\">흑막 여주가 날 새엄마로 만들려고 해-20화</a>\n",
       " <span class=\"rankBox\">\n",
       " <img alt=\"변동없음\" height=\"10\" src=\"https://ssl.pstatic.net/static/comic/images/migration/common/arrow_no.gif\" title=\"변동없음\" width=\"7\"/> 0\n",
       " \t\t\t\t\t\t\n",
       " \t\t\t\t\t\n",
       " \t\t\t\t</span>\n",
       " </li>]"
      ]
     },
     "execution_count": 43,
     "metadata": {},
     "output_type": "execute_result"
    }
   ],
   "source": [
    "rank1.find_next_siblings(\"li\")"
   ]
  },
  {
   "cell_type": "code",
   "execution_count": 46,
   "id": "35e337cd",
   "metadata": {},
   "outputs": [
    {
     "data": {
      "text/plain": [
       "<a href=\"#menu\" onclick=\"document.getElementById('menu').tabIndex=-1;document.getElementById('menu').focus();return false;\"><span>메인 메뉴로 바로가기</span></a>"
      ]
     },
     "execution_count": 46,
     "metadata": {},
     "output_type": "execute_result"
    }
   ],
   "source": [
    "webtoon = soup.find(\"a\", text=\"\")\n",
    "webtoon"
   ]
  },
  {
   "cell_type": "code",
   "execution_count": 44,
   "id": "9fb8f959",
   "metadata": {},
   "outputs": [
    {
     "data": {
      "text/plain": [
       "<a href=\"#menu\" onclick=\"document.getElementById('menu').tabIndex=-1;document.getElementById('menu').focus();return false;\"><span>메인 메뉴로 바로가기</span></a>"
      ]
     },
     "execution_count": 44,
     "metadata": {},
     "output_type": "execute_result"
    }
   ],
   "source": [
    "soup.find(\"a\")"
   ]
  },
  {
   "cell_type": "code",
   "execution_count": null,
   "id": "0f3ad897",
   "metadata": {},
   "outputs": [],
   "source": []
  }
 ],
 "metadata": {
  "kernelspec": {
   "display_name": "Python 3",
   "language": "python",
   "name": "python3"
  },
  "language_info": {
   "codemirror_mode": {
    "name": "ipython",
    "version": 3
   },
   "file_extension": ".py",
   "mimetype": "text/x-python",
   "name": "python",
   "nbconvert_exporter": "python",
   "pygments_lexer": "ipython3",
   "version": "3.7.5"
  }
 },
 "nbformat": 4,
 "nbformat_minor": 5
}
